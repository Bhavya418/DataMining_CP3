{
  "nbformat": 4,
  "nbformat_minor": 0,
  "metadata": {
    "colab": {
      "provenance": [],
      "authorship_tag": "ABX9TyPHdRy2rzYzrO8HkBHluvp9",
      "include_colab_link": true
    },
    "kernelspec": {
      "name": "python3",
      "display_name": "Python 3"
    },
    "language_info": {
      "name": "python"
    }
  },
  "cells": [
    {
      "cell_type": "markdown",
      "metadata": {
        "id": "view-in-github",
        "colab_type": "text"
      },
      "source": [
        "<a href=\"https://colab.research.google.com/github/Bhavya418/DataMining_CP3/blob/main/Morning_Evening_Star.ipynb\" target=\"_parent\"><img src=\"https://colab.research.google.com/assets/colab-badge.svg\" alt=\"Open In Colab\"/></a>"
      ]
    },
    {
      "cell_type": "code",
      "execution_count": 22,
      "metadata": {
        "colab": {
          "base_uri": "https://localhost:8080/"
        },
        "id": "ozEepuDegOtn",
        "outputId": "cbc8ca73-a9ce-4890-b8f5-e63e90c330ac"
      },
      "outputs": [
        {
          "output_type": "stream",
          "name": "stdout",
          "text": [
            "Requirement already satisfied: plotly in /usr/local/lib/python3.11/dist-packages (5.24.1)\n",
            "Requirement already satisfied: tenacity>=6.2.0 in /usr/local/lib/python3.11/dist-packages (from plotly) (9.1.2)\n",
            "Requirement already satisfied: packaging in /usr/local/lib/python3.11/dist-packages (from plotly) (24.2)\n",
            "Requirement already satisfied: mplfinance in /usr/local/lib/python3.11/dist-packages (0.12.10b0)\n",
            "Requirement already satisfied: matplotlib in /usr/local/lib/python3.11/dist-packages (from mplfinance) (3.10.0)\n",
            "Requirement already satisfied: pandas in /usr/local/lib/python3.11/dist-packages (from mplfinance) (2.2.2)\n",
            "Requirement already satisfied: contourpy>=1.0.1 in /usr/local/lib/python3.11/dist-packages (from matplotlib->mplfinance) (1.3.2)\n",
            "Requirement already satisfied: cycler>=0.10 in /usr/local/lib/python3.11/dist-packages (from matplotlib->mplfinance) (0.12.1)\n",
            "Requirement already satisfied: fonttools>=4.22.0 in /usr/local/lib/python3.11/dist-packages (from matplotlib->mplfinance) (4.57.0)\n",
            "Requirement already satisfied: kiwisolver>=1.3.1 in /usr/local/lib/python3.11/dist-packages (from matplotlib->mplfinance) (1.4.8)\n",
            "Requirement already satisfied: numpy>=1.23 in /usr/local/lib/python3.11/dist-packages (from matplotlib->mplfinance) (2.0.2)\n",
            "Requirement already satisfied: packaging>=20.0 in /usr/local/lib/python3.11/dist-packages (from matplotlib->mplfinance) (24.2)\n",
            "Requirement already satisfied: pillow>=8 in /usr/local/lib/python3.11/dist-packages (from matplotlib->mplfinance) (11.1.0)\n",
            "Requirement already satisfied: pyparsing>=2.3.1 in /usr/local/lib/python3.11/dist-packages (from matplotlib->mplfinance) (3.2.3)\n",
            "Requirement already satisfied: python-dateutil>=2.7 in /usr/local/lib/python3.11/dist-packages (from matplotlib->mplfinance) (2.8.2)\n",
            "Requirement already satisfied: pytz>=2020.1 in /usr/local/lib/python3.11/dist-packages (from pandas->mplfinance) (2025.2)\n",
            "Requirement already satisfied: tzdata>=2022.7 in /usr/local/lib/python3.11/dist-packages (from pandas->mplfinance) (2025.2)\n",
            "Requirement already satisfied: six>=1.5 in /usr/local/lib/python3.11/dist-packages (from python-dateutil>=2.7->matplotlib->mplfinance) (1.17.0)\n"
          ]
        }
      ],
      "source": [
        "!pip install plotly\n",
        "!pip install mplfinance"
      ]
    },
    {
      "cell_type": "code",
      "source": [
        "import pandas as pd\n",
        "import mplfinance as mpf\n",
        "import matplotlib.pyplot as plt\n",
        "import requests\n",
        "import plotly.graph_objects as go\n",
        "from datetime import datetime"
      ],
      "metadata": {
        "id": "hhfGtyXhlL4l"
      },
      "execution_count": 23,
      "outputs": []
    },
    {
      "cell_type": "code",
      "source": [
        "def fetch_daily_ohlc(symbol, apikey):\n",
        "    url = f\"https://www.alphavantage.co/query?function=TIME_SERIES_DAILY&symbol={symbol}&outputsize=compact&apikey={apikey}\"\n",
        "    r = requests.get(url)\n",
        "    return r.json()"
      ],
      "metadata": {
        "id": "e7ZsoPSUlobc"
      },
      "execution_count": 24,
      "outputs": []
    },
    {
      "cell_type": "code",
      "source": [
        "apikey = \"SHEYWPL1ZYCDZ17D\"\n",
        "symbol = \"RPOWER.BSE\"\n",
        "data = fetch_daily_ohlc(symbol, apikey)\n",
        "print(data)"
      ],
      "metadata": {
        "colab": {
          "base_uri": "https://localhost:8080/"
        },
        "id": "rEPcJfTAltVf",
        "outputId": "1ad348b9-b87b-48a2-9c99-6d3dab71db1c"
      },
      "execution_count": 63,
      "outputs": [
        {
          "output_type": "stream",
          "name": "stdout",
          "text": [
            "{'Meta Data': {'1. Information': 'Daily Prices (open, high, low, close) and Volumes', '2. Symbol': 'RPOWER.BSE', '3. Last Refreshed': '2025-04-23', '4. Output Size': 'Compact', '5. Time Zone': 'US/Eastern'}, 'Time Series (Daily)': {'2025-04-23': {'1. open': '43.8900', '2. high': '44.1800', '3. low': '42.3200', '4. close': '43.5500', '5. volume': '3519503'}, '2025-04-22': {'1. open': '44.2600', '2. high': '44.8900', '3. low': '43.2000', '4. close': '43.5400', '5. volume': '4283262'}, '2025-04-21': {'1. open': '42.2800', '2. high': '44.6500', '3. low': '42.0500', '4. close': '44.2100', '5. volume': '8797336'}, '2025-04-17': {'1. open': '41.9900', '2. high': '43.0000', '3. low': '41.6700', '4. close': '42.1400', '5. volume': '3834126'}, '2025-04-16': {'1. open': '41.8600', '2. high': '42.5500', '3. low': '41.4700', '4. close': '41.8100', '5. volume': '5141672'}, '2025-04-15': {'1. open': '40.0600', '2. high': '42.6000', '3. low': '40.0600', '4. close': '41.6300', '5. volume': '6385477'}, '2025-04-11': {'1. open': '40.6800', '2. high': '40.6800', '3. low': '39.2300', '4. close': '40.0400', '5. volume': '5593901'}, '2025-04-09': {'1. open': '39.7400', '2. high': '40.4200', '3. low': '38.7000', '4. close': '39.0300', '5. volume': '3246841'}, '2025-04-08': {'1. open': '40.7100', '2. high': '41.0900', '3. low': '39.3700', '4. close': '39.8400', '5. volume': '4126886'}, '2025-04-07': {'1. open': '34.5600', '2. high': '39.5000', '3. low': '34.5600', '4. close': '39.0400', '5. volume': '8982611'}, '2025-04-04': {'1. open': '43.0300', '2. high': '43.4300', '3. low': '41.1200', '4. close': '41.3900', '5. volume': '4964602'}, '2025-04-03': {'1. open': '41.7800', '2. high': '44.4400', '3. low': '41.7800', '4. close': '43.1600', '5. volume': '8525938'}, '2025-04-02': {'1. open': '41.8900', '2. high': '42.7400', '3. low': '41.0700', '4. close': '42.3300', '5. volume': '3201024'}, '2025-04-01': {'1. open': '41.9000', '2. high': '43.3200', '3. low': '41.3900', '4. close': '41.8900', '5. volume': '6348756'}, '2025-03-28': {'1. open': '43.0200', '2. high': '44.7500', '3. low': '42.4100', '4. close': '42.9900', '5. volume': '9874334'}, '2025-03-27': {'1. open': '39.4400', '2. high': '43.6000', '3. low': '38.7200', '4. close': '42.8800', '5. volume': '10999270'}, '2025-03-26': {'1. open': '37.1400', '2. high': '41.4000', '3. low': '36.9200', '4. close': '39.4800', '5. volume': '9460384'}, '2025-03-25': {'1. open': '38.7400', '2. high': '38.7400', '3. low': '36.7400', '4. close': '37.2300', '5. volume': '2268507'}, '2025-03-24': {'1. open': '38.2700', '2. high': '38.9200', '3. low': '37.8100', '4. close': '38.2000', '5. volume': '2110552'}, '2025-03-21': {'1. open': '36.4900', '2. high': '38.1000', '3. low': '36.4700', '4. close': '37.8000', '5. volume': '4857918'}, '2025-03-20': {'1. open': '38.1900', '2. high': '38.3200', '3. low': '36.3000', '4. close': '36.4600', '5. volume': '4982024'}, '2025-03-19': {'1. open': '35.1500', '2. high': '38.3500', '3. low': '35.0500', '4. close': '37.7300', '5. volume': '7484911'}, '2025-03-18': {'1. open': '33.1100', '2. high': '34.9500', '3. low': '33.1100', '4. close': '34.7900', '5. volume': '5815165'}, '2025-03-17': {'1. open': '33.8100', '2. high': '33.9500', '3. low': '32.8500', '4. close': '33.0300', '5. volume': '3695079'}, '2025-03-13': {'1. open': '34.2500', '2. high': '34.6500', '3. low': '33.3300', '4. close': '33.4000', '5. volume': '4158380'}, '2025-03-12': {'1. open': '34.3700', '2. high': '34.8800', '3. low': '33.3000', '4. close': '33.7000', '5. volume': '3283437'}, '2025-03-11': {'1. open': '34.0500', '2. high': '34.3500', '3. low': '33.3600', '4. close': '34.0100', '5. volume': '3621129'}, '2025-03-10': {'1. open': '36.3700', '2. high': '36.7300', '3. low': '34.2600', '4. close': '34.4700', '5. volume': '3581894'}, '2025-03-07': {'1. open': '35.3000', '2. high': '36.3500', '3. low': '34.9500', '4. close': '36.0300', '5. volume': '5477962'}, '2025-03-06': {'1. open': '35.1900', '2. high': '36.1000', '3. low': '34.4500', '4. close': '35.1900', '5. volume': '3581660'}, '2025-03-05': {'1. open': '33.2800', '2. high': '34.8500', '3. low': '33.2700', '4. close': '34.6300', '5. volume': '6551049'}, '2025-03-04': {'1. open': '32.2400', '2. high': '33.9000', '3. low': '32.0100', '4. close': '33.0900', '5. volume': '3160627'}, '2025-03-03': {'1. open': '33.4800', '2. high': '34.4800', '3. low': '31.3000', '4. close': '32.9100', '5. volume': '9109450'}, '2025-02-28': {'1. open': '34.3500', '2. high': '34.7700', '3. low': '33.0300', '4. close': '33.3000', '5. volume': '10760850'}, '2025-02-27': {'1. open': '36.6600', '2. high': '36.9400', '3. low': '34.4200', '4. close': '34.7700', '5. volume': '2504228'}, '2025-02-25': {'1. open': '37.0700', '2. high': '37.5000', '3. low': '36.0000', '4. close': '36.4600', '5. volume': '3618410'}, '2025-02-24': {'1. open': '37.5000', '2. high': '37.5200', '3. low': '36.6600', '4. close': '36.8000', '5. volume': '3862133'}, '2025-02-21': {'1. open': '38.0000', '2. high': '39.1500', '3. low': '37.5100', '4. close': '37.7100', '5. volume': '3285273'}, '2025-02-20': {'1. open': '37.9800', '2. high': '38.6600', '3. low': '37.5000', '4. close': '38.1900', '5. volume': '1769305'}, '2025-02-19': {'1. open': '36.3000', '2. high': '38.3800', '3. low': '36.0000', '4. close': '37.9400', '5. volume': '7952542'}, '2025-02-18': {'1. open': '37.2900', '2. high': '37.4500', '3. low': '36.1000', '4. close': '36.8000', '5. volume': '3153737'}, '2025-02-17': {'1. open': '37.2600', '2. high': '37.8800', '3. low': '35.9100', '4. close': '36.9700', '5. volume': '5532230'}, '2025-02-14': {'1. open': '39.5500', '2. high': '39.7600', '3. low': '36.7000', '4. close': '37.2300', '5. volume': '6793158'}, '2025-02-13': {'1. open': '39.5500', '2. high': '40.7800', '3. low': '39.1000', '4. close': '39.5500', '5. volume': '1790912'}, '2025-02-12': {'1. open': '39.0800', '2. high': '40.2600', '3. low': '37.1000', '4. close': '39.4200', '5. volume': '5835175'}, '2025-02-11': {'1. open': '40.7900', '2. high': '41.0300', '3. low': '38.6500', '4. close': '39.0900', '5. volume': '5531955'}, '2025-02-10': {'1. open': '42.4500', '2. high': '42.5800', '3. low': '39.8100', '4. close': '40.9100', '5. volume': '3445617'}, '2025-02-07': {'1. open': '42.6500', '2. high': '43.3900', '3. low': '41.5000', '4. close': '41.8200', '5. volume': '7896905'}, '2025-02-06': {'1. open': '41.3800', '2. high': '43.9500', '3. low': '41.0000', '4. close': '42.3900', '5. volume': '8608269'}, '2025-02-05': {'1. open': '39.9500', '2. high': '40.9000', '3. low': '39.5100', '4. close': '39.8900', '5. volume': '3365149'}, '2025-02-04': {'1. open': '38.4800', '2. high': '39.9100', '3. low': '38.3100', '4. close': '39.9100', '5. volume': '4992539'}, '2025-02-03': {'1. open': '38.4600', '2. high': '38.8100', '3. low': '37.6500', '4. close': '38.0100', '5. volume': '1096132'}, '2025-02-01': {'1. open': '40.3800', '2. high': '40.5000', '3. low': '38.5100', '4. close': '39.0900', '5. volume': '2158816'}, '2025-01-31': {'1. open': '38.7000', '2. high': '40.4000', '3. low': '38.5900', '4. close': '40.0600', '5. volume': '2841815'}, '2025-01-30': {'1. open': '38.7100', '2. high': '39.7000', '3. low': '38.2400', '4. close': '38.6900', '5. volume': '1615693'}, '2025-01-29': {'1. open': '37.5000', '2. high': '38.6600', '3. low': '37.5000', '4. close': '38.6000', '5. volume': '1600602'}, '2025-01-28': {'1. open': '36.7900', '2. high': '38.1800', '3. low': '35.1500', '4. close': '36.8200', '5. volume': '4196566'}, '2025-01-27': {'1. open': '38.3300', '2. high': '38.4000', '3. low': '36.6200', '4. close': '36.7200', '5. volume': '3944498'}, '2025-01-24': {'1. open': '39.5000', '2. high': '40.0000', '3. low': '38.3600', '4. close': '38.5400', '5. volume': '1955829'}, '2025-01-23': {'1. open': '40.1700', '2. high': '40.5500', '3. low': '39.3100', '4. close': '39.6800', '5. volume': '2345905'}, '2025-01-22': {'1. open': '40.5000', '2. high': '40.7400', '3. low': '38.5500', '4. close': '39.4600', '5. volume': '3685673'}, '2025-01-21': {'1. open': '41.3000', '2. high': '41.6000', '3. low': '39.8600', '4. close': '40.1600', '5. volume': '2766092'}, '2025-01-20': {'1. open': '42.4500', '2. high': '42.7500', '3. low': '40.5000', '4. close': '40.8300', '5. volume': '4227508'}, '2025-01-17': {'1. open': '41.4900', '2. high': '42.9400', '3. low': '41.0600', '4. close': '42.0700', '5. volume': '3172749'}, '2025-01-16': {'1. open': '40.0400', '2. high': '41.2100', '3. low': '40.0400', '4. close': '41.2100', '5. volume': '3806066'}, '2025-01-15': {'1. open': '38.9000', '2. high': '40.4400', '3. low': '38.4200', '4. close': '39.2500', '5. volume': '3297107'}, '2025-01-14': {'1. open': '37.0500', '2. high': '38.8900', '3. low': '36.5500', '4. close': '38.8900', '5. volume': '3663569'}, '2025-01-13': {'1. open': '38.3100', '2. high': '39.4900', '3. low': '37.0400', '4. close': '37.0400', '5. volume': '5236256'}, '2025-01-10': {'1. open': '40.2000', '2. high': '40.9000', '3. low': '38.8100', '4. close': '38.9800', '5. volume': '5319569'}, '2025-01-09': {'1. open': '41.6600', '2. high': '42.3700', '3. low': '40.2700', '4. close': '40.2700', '5. volume': '3454305'}, '2025-01-08': {'1. open': '43.5700', '2. high': '43.5700', '3. low': '41.7500', '4. close': '42.3800', '5. volume': '1896948'}, '2025-01-07': {'1. open': '42.6400', '2. high': '44.2000', '3. low': '42.4500', '4. close': '43.3400', '5. volume': '2793767'}, '2025-01-06': {'1. open': '45.6600', '2. high': '46.0200', '3. low': '43.5000', '4. close': '43.5000', '5. volume': '4145925'}, '2025-01-03': {'1. open': '46.2200', '2. high': '47.1300', '3. low': '45.5400', '4. close': '45.7800', '5. volume': '3776553'}, '2025-01-02': {'1. open': '44.9000', '2. high': '46.7000', '3. low': '44.1700', '4. close': '46.2900', '5. volume': '3128947'}, '2025-01-01': {'1. open': '42.8900', '2. high': '44.6800', '3. low': '42.6000', '4. close': '44.6800', '5. volume': '3362867'}, '2024-12-31': {'1. open': '41.5600', '2. high': '42.8200', '3. low': '41.3200', '4. close': '42.5600', '5. volume': '2962924'}, '2024-12-30': {'1. open': '43.0000', '2. high': '43.7400', '3. low': '41.2600', '4. close': '41.8800', '5. volume': '1484312'}, '2024-12-27': {'1. open': '45.2600', '2. high': '45.4000', '3. low': '42.7000', '4. close': '43.1300', '5. volume': '2212481'}, '2024-12-26': {'1. open': '44.4000', '2. high': '45.4000', '3. low': '44.0000', '4. close': '44.1500', '5. volume': '1498516'}, '2024-12-24': {'1. open': '43.7500', '2. high': '45.2000', '3. low': '43.7100', '4. close': '44.4800', '5. volume': '532721'}, '2024-12-23': {'1. open': '45.0000', '2. high': '45.4400', '3. low': '43.5000', '4. close': '43.7700', '5. volume': '1764812'}, '2024-12-20': {'1. open': '47.4100', '2. high': '47.8800', '3. low': '44.6000', '4. close': '44.7900', '5. volume': '2646812'}, '2024-12-19': {'1. open': '43.7000', '2. high': '47.0500', '3. low': '43.0600', '4. close': '46.9200', '5. volume': '1732732'}, '2024-12-18': {'1. open': '46.8600', '2. high': '47.2900', '3. low': '44.5600', '4. close': '44.8100', '5. volume': '2762149'}, '2024-12-17': {'1. open': '46.7100', '2. high': '48.0000', '3. low': '45.5600', '4. close': '46.7300', '5. volume': '3106350'}, '2024-12-16': {'1. open': '47.5000', '2. high': '48.5000', '3. low': '46.6500', '4. close': '47.2300', '5. volume': '1469670'}, '2024-12-13': {'1. open': '46.7000', '2. high': '48.0000', '3. low': '44.5600', '4. close': '47.4400', '5. volume': '4187939'}, '2024-12-12': {'1. open': '46.2400', '2. high': '46.2400', '3. low': '44.9500', '4. close': '46.2400', '5. volume': '5319101'}, '2024-12-11': {'1. open': '45.4000', '2. high': '45.4000', '3. low': '43.7500', '4. close': '44.0400', '5. volume': '830812'}, '2024-12-10': {'1. open': '44.5300', '2. high': '45.3000', '3. low': '42.7000', '4. close': '44.6600', '5. volume': '1303899'}, '2024-12-09': {'1. open': '44.8200', '2. high': '46.0000', '3. low': '43.5000', '4. close': '44.3500', '5. volume': '1632137'}, '2024-12-06': {'1. open': '43.7000', '2. high': '45.2700', '3. low': '43.3500', '4. close': '44.4800', '5. volume': '2424176'}, '2024-12-05': {'1. open': '42.4100', '2. high': '43.1200', '3. low': '42.1500', '4. close': '43.1200', '5. volume': '2433978'}, '2024-12-04': {'1. open': '41.0700', '2. high': '41.0700', '3. low': '41.0700', '4. close': '41.0700', '5. volume': '492517'}, '2024-12-03': {'1. open': '38.8600', '2. high': '39.4400', '3. low': '38.5000', '4. close': '39.1200', '5. volume': '817290'}, '2024-12-02': {'1. open': '38.3700', '2. high': '39.0000', '3. low': '37.0200', '4. close': '38.7200', '5. volume': '2133391'}, '2024-11-29': {'1. open': '40.2900', '2. high': '40.2900', '3. low': '38.3000', '4. close': '38.7600', '5. volume': '1209051'}, '2024-11-28': {'1. open': '39.3000', '2. high': '40.1900', '3. low': '38.2800', '4. close': '39.9800', '5. volume': '4541144'}, '2024-11-27': {'1. open': '37.3000', '2. high': '38.2800', '3. low': '36.8000', '4. close': '38.2800', '5. volume': '3901872'}}}\n"
          ]
        }
      ]
    },
    {
      "cell_type": "code",
      "source": [
        "def is_red(candle):\n",
        "    return float(candle[\"4. close\"]) < float(candle[\"1. open\"])\n",
        "\n",
        "def is_green(candle):\n",
        "    return float(candle[\"4. close\"]) > float(candle[\"1. open\"])"
      ],
      "metadata": {
        "id": "19widfyslzJn"
      },
      "execution_count": 26,
      "outputs": []
    },
    {
      "cell_type": "code",
      "source": [
        "def is_doji_and_is_spinning_top(candle,body_thresold_pct =40):\n",
        "\n",
        "    open_price = float(candle[\"1. open\"])\n",
        "    close_price = float(candle[\"4. close\"])\n",
        "    high_price = float(candle[\"2. high\"])\n",
        "    low_price = float(candle[\"3. low\"])\n",
        "\n",
        "    body = abs(close_price - open_price)\n",
        "    total_range = abs(high_price - low_price)\n",
        "\n",
        "    if total_range == 0:\n",
        "      return False\n",
        "\n",
        "    body_pct = (body/total_range) * 100\n",
        "\n",
        "    return body_pct <= body_thresold_pct"
      ],
      "metadata": {
        "id": "0cZ5w4SNmBA4"
      },
      "execution_count": 47,
      "outputs": []
    },
    {
      "cell_type": "code",
      "source": [
        "def is_gap_down(prev_close,current_open):\n",
        "    return current_open < prev_close\n",
        "\n",
        "def is_gap_up(prev_close, current_open):\n",
        "    return current_open > prev_close"
      ],
      "metadata": {
        "id": "HoCu2brEpUsV"
      },
      "execution_count": 28,
      "outputs": []
    },
    {
      "cell_type": "code",
      "source": [
        "def is_downtrend(candles):\n",
        "    \"\"\"True if lows are decreasing = downtrend\"\"\"\n",
        "    low_prices = [float(c[\"3. low\"]) for c in candles]\n",
        "    for earlier, later in zip(low_prices, low_prices[1:]):\n",
        "        if earlier <= later:\n",
        "            return False\n",
        "    return True\n",
        "\n",
        "def is_uptrend(candles):\n",
        "    \"\"\"True if lows are increasing = uptrend\"\"\"\n",
        "    low_prices = [float(c[\"3. low\"]) for c in candles]\n",
        "\n",
        "    for earlier, later in zip(low_prices, low_prices[1:]):\n",
        "        if earlier >= later:\n",
        "            return False\n",
        "    return True"
      ],
      "metadata": {
        "id": "d2WXQ7ZZqOYf"
      },
      "execution_count": 29,
      "outputs": []
    },
    {
      "cell_type": "code",
      "source": [
        "def is_morning_star(p1,p2,p3):\n",
        "\n",
        "    p1_open = float(p1[\"1. open\"])\n",
        "    p1_close = float(p1[\"4. close\"])\n",
        "    p2_open = float(p2[\"1. open\"])\n",
        "    p2_close = float(p2[\"4. close\"])\n",
        "    p3_open = float(p3[\"1. open\"])\n",
        "    p3_close = float(p3[\"4. close\"])\n",
        "\n",
        "    if not is_red(p1):\n",
        "      return False\n",
        "\n",
        "    if not is_doji_and_is_spinning_top(p2):\n",
        "      return False\n",
        "\n",
        "    if not is_gap_down(p1_close, p2_open):\n",
        "        return False\n",
        "\n",
        "    if not is_green(p3):\n",
        "      return False\n",
        "\n",
        "    if not is_gap_up(p2_close, p3_open):\n",
        "      return False\n",
        "\n",
        "    if p3_close <= p1_open:\n",
        "        return False\n",
        "\n",
        "    return True\n",
        "\n",
        "\n",
        "def is_evening_star(p1, p2, p3):\n",
        "    p1_open = float(p1[\"1. open\"])\n",
        "    p1_close = float(p1[\"4. close\"])\n",
        "    p2_open = float(p2[\"1. open\"])\n",
        "    p2_close = float(p2[\"4. close\"])\n",
        "    p3_open = float(p3[\"1. open\"])\n",
        "    p3_close = float(p3[\"4. close\"])\n",
        "\n",
        "    if not is_green(p1):\n",
        "        return False\n",
        "\n",
        "    if not is_doji_and_is_spinning_top(p2):\n",
        "        return False\n",
        "\n",
        "    if not is_gap_up(p1_close, p2_open):\n",
        "        return False\n",
        "\n",
        "    if not is_red(p3):\n",
        "        return False\n",
        "\n",
        "    if not is_gap_down(p2_close, p3_open):\n",
        "        return False\n",
        "\n",
        "    if p3_close >= p1_open:\n",
        "        return False\n",
        "\n",
        "    return True\n"
      ],
      "metadata": {
        "id": "9cNdVUqeqHOK"
      },
      "execution_count": 56,
      "outputs": []
    },
    {
      "cell_type": "code",
      "source": [
        "def detect_star(data, trend_days=3):\n",
        "    time_series = data.get(\"Time Series (Daily)\", {})\n",
        "    sorted_dates = sorted(time_series.keys())\n",
        "    results = []\n",
        "\n",
        "    for i in range(trend_days + 2, len(sorted_dates)):\n",
        "        p3_date = sorted_dates[i]\n",
        "        p2_date = sorted_dates[i - 1]\n",
        "        p1_date = sorted_dates[i - 2]\n",
        "        trend_dates = sorted_dates[i - trend_days - 2 : i - 2]\n",
        "        trend_candles = [time_series[d] for d in trend_dates]\n",
        "\n",
        "        p1 = time_series[p1_date]\n",
        "        p2 = time_series[p2_date]\n",
        "        p3 = time_series[p3_date]\n",
        "\n",
        "        pattern = None\n",
        "        entry_price = float(p3[\"4. close\"])\n",
        "        stoploss = None\n",
        "\n",
        "        if is_downtrend(trend_candles) and is_morning_star(p1, p2, p3):\n",
        "            pattern = \"morning_star\"\n",
        "            stoploss = min(\n",
        "                float(p1[\"3. low\"]),\n",
        "                float(p2[\"3. low\"]),\n",
        "                float(p3[\"3. low\"])\n",
        "            )\n",
        "\n",
        "        elif is_uptrend(trend_candles) and is_evening_star(p1, p2, p3):\n",
        "            pattern = \"evening_star\"\n",
        "            stoploss = max(\n",
        "                float(p1[\"2. high\"]),\n",
        "                float(p2[\"2. high\"]),\n",
        "                float(p3[\"2. high\"])\n",
        "            )\n",
        "\n",
        "        if pattern:\n",
        "            results.append({\n",
        "                \"date\": p3_date,\n",
        "                \"pattern\": pattern,\n",
        "                \"entry_price\": entry_price,\n",
        "                \"stoploss\": stoploss,\n",
        "                \"open\": float(p3[\"1. open\"]),\n",
        "                \"high\": float(p3[\"2. high\"]),\n",
        "                \"low\": float(p3[\"3. low\"]),\n",
        "                \"close\": float(p3[\"4. close\"]),\n",
        "                \"volume\": int(p3[\"5. volume\"])\n",
        "            })\n",
        "\n",
        "    return pd.DataFrame(results)\n"
      ],
      "metadata": {
        "id": "EuEHqG43wyoU"
      },
      "execution_count": 54,
      "outputs": []
    },
    {
      "cell_type": "code",
      "source": [
        "def calculate_profit_loss_star(data, star_df, target_pct=2.0, hold_days=3):\n",
        "    time_series = data.get(\"Time Series (Daily)\", {})\n",
        "    df = pd.DataFrame.from_dict(time_series, orient='index')\n",
        "    df = df[['1. open', '2. high', '3. low', '4. close', '5. volume']].astype(float)\n",
        "    df.columns = ['Open', 'High', 'Low', 'Close', 'Volume']\n",
        "    df.index = pd.to_datetime(df.index)\n",
        "    df = df.sort_index()\n",
        "\n",
        "    trades = []\n",
        "    total_profit_loss = 0.0\n",
        "\n",
        "    for _, row in star_df.iterrows():\n",
        "        entry_date = pd.to_datetime(row[\"date\"])\n",
        "        direction = row[\"pattern\"]\n",
        "        entry_price = row[\"entry_price\"]\n",
        "\n",
        "        if entry_date not in df.index:\n",
        "            continue\n",
        "\n",
        "        future_dates = df.index[df.index > entry_date]\n",
        "        window_dates = future_dates[:hold_days]\n",
        "\n",
        "        if len(window_dates) == 0:\n",
        "            continue\n",
        "\n",
        "        # Set target price\n",
        "        target_price = (\n",
        "            entry_price * (1 + target_pct / 100)\n",
        "            if direction == \"morning_star\"\n",
        "            else entry_price * (1 - target_pct / 100)\n",
        "        )\n",
        "\n",
        "        exit_price = None\n",
        "        exit_date = None\n",
        "        reason = \"\"\n",
        "\n",
        "        # Step 1: Check for target hit\n",
        "        for day in window_dates:\n",
        "            high = df.loc[day][\"High\"]\n",
        "            low = df.loc[day][\"Low\"]\n",
        "            open_price = df.loc[day][\"Open\"]\n",
        "\n",
        "            if direction == \"morning_star\" and high >= target_price:\n",
        "                exit_price = open_price\n",
        "                exit_date = day\n",
        "                reason = \"target_hit\"\n",
        "                break\n",
        "            elif direction == \"evening_star\" and low <= target_price:\n",
        "                exit_price = open_price\n",
        "                exit_date = day\n",
        "                reason = \"target_hit\"\n",
        "                break\n",
        "\n",
        "        # Step 2: If target not hit, exit at optimal point\n",
        "        if exit_price is None:\n",
        "            if direction == \"morning_star\":\n",
        "                max_day = df.loc[window_dates][\"High\"].idxmax()\n",
        "                exit_price = df.loc[max_day][\"High\"]\n",
        "                exit_date = max_day\n",
        "                reason = \"max_window_exit\"\n",
        "            elif direction == \"evening_star\":\n",
        "                min_day = df.loc[window_dates][\"Low\"].idxmin()\n",
        "                exit_price = df.loc[min_day][\"Low\"]\n",
        "                exit_date = min_day\n",
        "                reason = \"min_window_exit\"\n",
        "\n",
        "        if exit_price is None or exit_date is None:\n",
        "            continue\n",
        "\n",
        "        # Profit/loss\n",
        "        profit_loss = (\n",
        "            exit_price - entry_price if direction == \"morning_star\"\n",
        "            else entry_price - exit_price\n",
        "        )\n",
        "        total_profit_loss += profit_loss\n",
        "\n",
        "        trades.append({\n",
        "            'entry_date': entry_date,\n",
        "            'entry_price': entry_price,\n",
        "            'exit_date': exit_date,\n",
        "            'exit_price': exit_price,\n",
        "            'target_price': target_price,\n",
        "            'direction': direction,\n",
        "            'profit_loss': profit_loss,\n",
        "            'exit_reason': reason,\n",
        "            'stoploss': row.get(\"stoploss\", None)\n",
        "        })\n",
        "\n",
        "    return total_profit_loss, trades\n"
      ],
      "metadata": {
        "id": "xKZYSd9qQFim"
      },
      "execution_count": 58,
      "outputs": []
    },
    {
      "cell_type": "code",
      "source": [
        "star_df = detect_star(data)\n",
        "total_pl, trades = calculate_profit_loss_star(data, star_df, target_pct=2.0, hold_days=10)\n",
        "\n",
        "print(f\"Total Profit/Loss from Morning & Evening Star: {total_pl:.2f}\")\n",
        "for trade in trades:\n",
        "    print(\n",
        "        f\"{trade['direction']} | Entry: {trade['entry_date'].date()} at {trade['entry_price']:.2f}, \"\n",
        "        f\"Exit: {trade['exit_date'].date()} at {trade['exit_price']:.2f}, \"\n",
        "        f\"Target: {trade['target_price']:.2f}, Reason: {trade['exit_reason']}, \"\n",
        "        f\"P/L: {trade['profit_loss']:.2f}\"\n",
        "    )\n"
      ],
      "metadata": {
        "id": "CXyqas5q3fm5",
        "colab": {
          "base_uri": "https://localhost:8080/"
        },
        "outputId": "ce18ace2-bef6-4ffd-8062-28746d79c4af"
      },
      "execution_count": 64,
      "outputs": [
        {
          "output_type": "stream",
          "name": "stdout",
          "text": [
            "Total Profit/Loss from Morning & Evening Star: 0.00\n"
          ]
        }
      ]
    },
    {
      "cell_type": "code",
      "source": [],
      "metadata": {
        "id": "Ftk7y3PXOxlX"
      },
      "execution_count": null,
      "outputs": []
    }
  ]
}