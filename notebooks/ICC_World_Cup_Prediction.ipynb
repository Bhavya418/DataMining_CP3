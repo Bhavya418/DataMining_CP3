{
  "cells": [
    {
      "cell_type": "code",
      "execution_count": 1,
      "metadata": {
        "id": "sTQaFKmpbJtq"
      },
      "outputs": [],
      "source": [
        "import pandas as pd\n",
        "import numpy as np\n",
        "import seaborn as sns\n",
        "import matplotlib.pyplot as plt\n"
      ]
    },
    {
      "cell_type": "code",
      "execution_count": 2,
      "metadata": {
        "id": "xXn2LUw9nbWi"
      },
      "outputs": [],
      "source": [
        "world_cup = pd.read_csv(\"../datasets/World_cup_2023.csv\")\n",
        "completeODIhistory = pd.read_csv(\"../datasets/results.csv\")\n",
        "rankings = pd.read_csv(\"../datasets/Icc_ranking.csv\")"
      ]
    },
    {
      "cell_type": "code",
      "execution_count": 3,
      "metadata": {
        "colab": {
          "base_uri": "https://localhost:8080/",
          "height": 400
        },
        "id": "DGvEBUoqnkBi",
        "outputId": "300fea14-fc8c-492a-825c-0de218712916"
      },
      "outputs": [
        {
          "data": {
            "text/html": [
              "<div>\n",
              "<style scoped>\n",
              "    .dataframe tbody tr th:only-of-type {\n",
              "        vertical-align: middle;\n",
              "    }\n",
              "\n",
              "    .dataframe tbody tr th {\n",
              "        vertical-align: top;\n",
              "    }\n",
              "\n",
              "    .dataframe thead th {\n",
              "        text-align: right;\n",
              "    }\n",
              "</style>\n",
              "<table border=\"1\" class=\"dataframe\">\n",
              "  <thead>\n",
              "    <tr style=\"text-align: right;\">\n",
              "      <th></th>\n",
              "      <th>Team_name</th>\n",
              "      <th>Team_ranking</th>\n",
              "      <th>Titles</th>\n",
              "      <th>Win_percentage_ODI</th>\n",
              "      <th>WC_matches</th>\n",
              "      <th>WC_match_won</th>\n",
              "      <th>Win_percent_WC</th>\n",
              "      <th>WC_match_loss</th>\n",
              "      <th>Loss_percent_WC</th>\n",
              "      <th>Tied</th>\n",
              "      <th>No_result</th>\n",
              "      <th>World_cup_winner</th>\n",
              "      <th>Recent_points</th>\n",
              "      <th>Rating</th>\n",
              "    </tr>\n",
              "  </thead>\n",
              "  <tbody>\n",
              "    <tr>\n",
              "      <th>0</th>\n",
              "      <td>Australia</td>\n",
              "      <td>1</td>\n",
              "      <td>5</td>\n",
              "      <td>60.73</td>\n",
              "      <td>94</td>\n",
              "      <td>69</td>\n",
              "      <td>73.40</td>\n",
              "      <td>23</td>\n",
              "      <td>24.46</td>\n",
              "      <td>1</td>\n",
              "      <td>1</td>\n",
              "      <td>Yes</td>\n",
              "      <td>2714</td>\n",
              "      <td>118</td>\n",
              "    </tr>\n",
              "    <tr>\n",
              "      <th>1</th>\n",
              "      <td>Pakistan</td>\n",
              "      <td>2</td>\n",
              "      <td>1</td>\n",
              "      <td>52.78</td>\n",
              "      <td>79</td>\n",
              "      <td>45</td>\n",
              "      <td>56.96</td>\n",
              "      <td>32</td>\n",
              "      <td>40.50</td>\n",
              "      <td>0</td>\n",
              "      <td>2</td>\n",
              "      <td>Yes</td>\n",
              "      <td>2316</td>\n",
              "      <td>116</td>\n",
              "    </tr>\n",
              "    <tr>\n",
              "      <th>2</th>\n",
              "      <td>India</td>\n",
              "      <td>3</td>\n",
              "      <td>2</td>\n",
              "      <td>52.38</td>\n",
              "      <td>84</td>\n",
              "      <td>53</td>\n",
              "      <td>63.09</td>\n",
              "      <td>29</td>\n",
              "      <td>34.52</td>\n",
              "      <td>1</td>\n",
              "      <td>1</td>\n",
              "      <td>Yes</td>\n",
              "      <td>3807</td>\n",
              "      <td>115</td>\n",
              "    </tr>\n",
              "    <tr>\n",
              "      <th>3</th>\n",
              "      <td>New Zealand</td>\n",
              "      <td>4</td>\n",
              "      <td>0</td>\n",
              "      <td>45.89</td>\n",
              "      <td>89</td>\n",
              "      <td>54</td>\n",
              "      <td>60.67</td>\n",
              "      <td>33</td>\n",
              "      <td>37.07</td>\n",
              "      <td>1</td>\n",
              "      <td>1</td>\n",
              "      <td>No</td>\n",
              "      <td>2806</td>\n",
              "      <td>104</td>\n",
              "    </tr>\n",
              "    <tr>\n",
              "      <th>4</th>\n",
              "      <td>England</td>\n",
              "      <td>5</td>\n",
              "      <td>1</td>\n",
              "      <td>50.32</td>\n",
              "      <td>83</td>\n",
              "      <td>48</td>\n",
              "      <td>57.83</td>\n",
              "      <td>32</td>\n",
              "      <td>38.55</td>\n",
              "      <td>2</td>\n",
              "      <td>1</td>\n",
              "      <td>Yes</td>\n",
              "      <td>2426</td>\n",
              "      <td>101</td>\n",
              "    </tr>\n",
              "    <tr>\n",
              "      <th>5</th>\n",
              "      <td>South Africa</td>\n",
              "      <td>6</td>\n",
              "      <td>0</td>\n",
              "      <td>61.00</td>\n",
              "      <td>64</td>\n",
              "      <td>38</td>\n",
              "      <td>59.37</td>\n",
              "      <td>23</td>\n",
              "      <td>35.93</td>\n",
              "      <td>2</td>\n",
              "      <td>1</td>\n",
              "      <td>No</td>\n",
              "      <td>1910</td>\n",
              "      <td>101</td>\n",
              "    </tr>\n",
              "    <tr>\n",
              "      <th>6</th>\n",
              "      <td>Bangladesh</td>\n",
              "      <td>7</td>\n",
              "      <td>0</td>\n",
              "      <td>36.65</td>\n",
              "      <td>40</td>\n",
              "      <td>14</td>\n",
              "      <td>35.00</td>\n",
              "      <td>25</td>\n",
              "      <td>62.50</td>\n",
              "      <td>0</td>\n",
              "      <td>1</td>\n",
              "      <td>No</td>\n",
              "      <td>2451</td>\n",
              "      <td>98</td>\n",
              "    </tr>\n",
              "    <tr>\n",
              "      <th>7</th>\n",
              "      <td>Afghanistan</td>\n",
              "      <td>8</td>\n",
              "      <td>0</td>\n",
              "      <td>49.65</td>\n",
              "      <td>15</td>\n",
              "      <td>1</td>\n",
              "      <td>6.66</td>\n",
              "      <td>14</td>\n",
              "      <td>93.33</td>\n",
              "      <td>0</td>\n",
              "      <td>0</td>\n",
              "      <td>No</td>\n",
              "      <td>1361</td>\n",
              "      <td>91</td>\n",
              "    </tr>\n",
              "    <tr>\n",
              "      <th>8</th>\n",
              "      <td>Sri Lanka</td>\n",
              "      <td>9</td>\n",
              "      <td>1</td>\n",
              "      <td>45.74</td>\n",
              "      <td>80</td>\n",
              "      <td>38</td>\n",
              "      <td>47.50</td>\n",
              "      <td>39</td>\n",
              "      <td>48.75</td>\n",
              "      <td>1</td>\n",
              "      <td>2</td>\n",
              "      <td>Yes</td>\n",
              "      <td>2794</td>\n",
              "      <td>87</td>\n",
              "    </tr>\n",
              "    <tr>\n",
              "      <th>9</th>\n",
              "      <td>Netherlands</td>\n",
              "      <td>10</td>\n",
              "      <td>0</td>\n",
              "      <td>34.21</td>\n",
              "      <td>20</td>\n",
              "      <td>2</td>\n",
              "      <td>10.00</td>\n",
              "      <td>18</td>\n",
              "      <td>90.00</td>\n",
              "      <td>0</td>\n",
              "      <td>0</td>\n",
              "      <td>No</td>\n",
              "      <td>1044</td>\n",
              "      <td>37</td>\n",
              "    </tr>\n",
              "  </tbody>\n",
              "</table>\n",
              "</div>"
            ],
            "text/plain": [
              "      Team_name  Team_ranking  Titles  Win_percentage_ODI  WC_matches  \\\n",
              "0     Australia             1       5               60.73          94   \n",
              "1      Pakistan             2       1               52.78          79   \n",
              "2         India             3       2               52.38          84   \n",
              "3  New Zealand              4       0               45.89          89   \n",
              "4       England             5       1               50.32          83   \n",
              "5  South Africa             6       0               61.00          64   \n",
              "6    Bangladesh             7       0               36.65          40   \n",
              "7   Afghanistan             8       0               49.65          15   \n",
              "8     Sri Lanka             9       1               45.74          80   \n",
              "9   Netherlands            10       0               34.21          20   \n",
              "\n",
              "   WC_match_won  Win_percent_WC  WC_match_loss  Loss_percent_WC  Tied  \\\n",
              "0            69           73.40             23            24.46     1   \n",
              "1            45           56.96             32            40.50     0   \n",
              "2            53           63.09             29            34.52     1   \n",
              "3            54           60.67             33            37.07     1   \n",
              "4            48           57.83             32            38.55     2   \n",
              "5            38           59.37             23            35.93     2   \n",
              "6            14           35.00             25            62.50     0   \n",
              "7             1            6.66             14            93.33     0   \n",
              "8            38           47.50             39            48.75     1   \n",
              "9             2           10.00             18            90.00     0   \n",
              "\n",
              "   No_result World_cup_winner  Recent_points  Rating  \n",
              "0          1              Yes           2714     118  \n",
              "1          2              Yes           2316     116  \n",
              "2          1              Yes           3807     115  \n",
              "3          1               No           2806     104  \n",
              "4          1              Yes           2426     101  \n",
              "5          1               No           1910     101  \n",
              "6          1               No           2451      98  \n",
              "7          0               No           1361      91  \n",
              "8          2              Yes           2794      87  \n",
              "9          0               No           1044      37  "
            ]
          },
          "execution_count": 3,
          "metadata": {},
          "output_type": "execute_result"
        }
      ],
      "source": [
        "world_cup"
      ]
    },
    {
      "cell_type": "code",
      "execution_count": 4,
      "metadata": {
        "colab": {
          "base_uri": "https://localhost:8080/",
          "height": 363
        },
        "id": "t3nEDLCknn_3",
        "outputId": "6a35b5ba-b561-438e-80ae-00425d7a08bc"
      },
      "outputs": [
        {
          "data": {
            "text/html": [
              "<div>\n",
              "<style scoped>\n",
              "    .dataframe tbody tr th:only-of-type {\n",
              "        vertical-align: middle;\n",
              "    }\n",
              "\n",
              "    .dataframe tbody tr th {\n",
              "        vertical-align: top;\n",
              "    }\n",
              "\n",
              "    .dataframe thead th {\n",
              "        text-align: right;\n",
              "    }\n",
              "</style>\n",
              "<table border=\"1\" class=\"dataframe\">\n",
              "  <thead>\n",
              "    <tr style=\"text-align: right;\">\n",
              "      <th></th>\n",
              "      <th>Team_1</th>\n",
              "      <th>Team_2</th>\n",
              "      <th>Winner</th>\n",
              "      <th>Ground</th>\n",
              "      <th>1</th>\n",
              "    </tr>\n",
              "  </thead>\n",
              "  <tbody>\n",
              "    <tr>\n",
              "      <th>0</th>\n",
              "      <td>Bangladesh</td>\n",
              "      <td>Pakistan</td>\n",
              "      <td>Bangladesh</td>\n",
              "      <td>Shere Bangla National Stadium</td>\n",
              "      <td>2</td>\n",
              "    </tr>\n",
              "    <tr>\n",
              "      <th>1</th>\n",
              "      <td>Bangladesh</td>\n",
              "      <td>Pakistan</td>\n",
              "      <td>Bangladesh</td>\n",
              "      <td>Shere Bangla National Stadium</td>\n",
              "      <td>3</td>\n",
              "    </tr>\n",
              "    <tr>\n",
              "      <th>2</th>\n",
              "      <td>Bangladesh</td>\n",
              "      <td>Pakistan</td>\n",
              "      <td>Bangladesh</td>\n",
              "      <td>Shere Bangla National Stadium</td>\n",
              "      <td>4</td>\n",
              "    </tr>\n",
              "    <tr>\n",
              "      <th>3</th>\n",
              "      <td>Ireland</td>\n",
              "      <td>England</td>\n",
              "      <td>No result</td>\n",
              "      <td>The Village</td>\n",
              "      <td>5</td>\n",
              "    </tr>\n",
              "    <tr>\n",
              "      <th>4</th>\n",
              "      <td>Pakistan</td>\n",
              "      <td>Zimbabwe</td>\n",
              "      <td>Pakistan</td>\n",
              "      <td>Gaddafi Stadium</td>\n",
              "      <td>6</td>\n",
              "    </tr>\n",
              "    <tr>\n",
              "      <th>5</th>\n",
              "      <td>Pakistan</td>\n",
              "      <td>Zimbabwe</td>\n",
              "      <td>Pakistan</td>\n",
              "      <td>Gaddafi Stadium</td>\n",
              "      <td>7</td>\n",
              "    </tr>\n",
              "    <tr>\n",
              "      <th>6</th>\n",
              "      <td>Pakistan</td>\n",
              "      <td>Zimbabwe</td>\n",
              "      <td>No result</td>\n",
              "      <td>Gaddafi Stadium</td>\n",
              "      <td>8</td>\n",
              "    </tr>\n",
              "    <tr>\n",
              "      <th>7</th>\n",
              "      <td>England</td>\n",
              "      <td>New Zealand</td>\n",
              "      <td>England</td>\n",
              "      <td>Edgbaston</td>\n",
              "      <td>9</td>\n",
              "    </tr>\n",
              "    <tr>\n",
              "      <th>8</th>\n",
              "      <td>England</td>\n",
              "      <td>New Zealand</td>\n",
              "      <td>New Zealand</td>\n",
              "      <td>Kennington Oval</td>\n",
              "      <td>10</td>\n",
              "    </tr>\n",
              "    <tr>\n",
              "      <th>9</th>\n",
              "      <td>England</td>\n",
              "      <td>New Zealand</td>\n",
              "      <td>New Zealand</td>\n",
              "      <td>The Rose Bowl</td>\n",
              "      <td>11</td>\n",
              "    </tr>\n",
              "  </tbody>\n",
              "</table>\n",
              "</div>"
            ],
            "text/plain": [
              "        Team_1       Team_2        Winner                         Ground   1\n",
              "0  Bangladesh      Pakistan   Bangladesh   Shere Bangla National Stadium   2\n",
              "1  Bangladesh      Pakistan   Bangladesh   Shere Bangla National Stadium   3\n",
              "2  Bangladesh      Pakistan   Bangladesh   Shere Bangla National Stadium   4\n",
              "3     Ireland       England     No result                    The Village   5\n",
              "4    Pakistan      Zimbabwe     Pakistan                 Gaddafi Stadium   6\n",
              "5    Pakistan      Zimbabwe     Pakistan                 Gaddafi Stadium   7\n",
              "6    Pakistan      Zimbabwe     No result                Gaddafi Stadium   8\n",
              "7     England   New Zealand      England                       Edgbaston   9\n",
              "8      England  New Zealand  New Zealand                 Kennington Oval  10\n",
              "9     England   New Zealand  New Zealand                   The Rose Bowl  11"
            ]
          },
          "execution_count": 4,
          "metadata": {},
          "output_type": "execute_result"
        }
      ],
      "source": [
        "completeODIhistory.head(10)"
      ]
    },
    {
      "cell_type": "markdown",
      "metadata": {
        "id": "CaHQbPBboYJI"
      },
      "source": [
        "Number of titles won by each team"
      ]
    },
    {
      "cell_type": "code",
      "execution_count": 5,
      "metadata": {
        "colab": {
          "base_uri": "https://localhost:8080/",
          "height": 416
        },
        "id": "Ug4j-rpMoS73",
        "outputId": "ee536bc0-996c-450d-e946-67512ef4d48c"
      },
      "outputs": [
        {
          "name": "stderr",
          "output_type": "stream",
          "text": [
            "C:\\Users\\Vedant\\AppData\\Local\\Packages\\PythonSoftwareFoundation.Python.3.11_qbz5n2kfra8p0\\LocalCache\\local-packages\\Python311\\site-packages\\seaborn\\_oldcore.py:1498: FutureWarning: is_categorical_dtype is deprecated and will be removed in a future version. Use isinstance(dtype, CategoricalDtype) instead\n",
            "  if pd.api.types.is_categorical_dtype(vector):\n",
            "C:\\Users\\Vedant\\AppData\\Local\\Packages\\PythonSoftwareFoundation.Python.3.11_qbz5n2kfra8p0\\LocalCache\\local-packages\\Python311\\site-packages\\seaborn\\_oldcore.py:1498: FutureWarning: is_categorical_dtype is deprecated and will be removed in a future version. Use isinstance(dtype, CategoricalDtype) instead\n",
            "  if pd.api.types.is_categorical_dtype(vector):\n",
            "C:\\Users\\Vedant\\AppData\\Local\\Packages\\PythonSoftwareFoundation.Python.3.11_qbz5n2kfra8p0\\LocalCache\\local-packages\\Python311\\site-packages\\seaborn\\_oldcore.py:1498: FutureWarning: is_categorical_dtype is deprecated and will be removed in a future version. Use isinstance(dtype, CategoricalDtype) instead\n",
            "  if pd.api.types.is_categorical_dtype(vector):\n"
          ]
        },
        {
          "data": {
            "image/png": "[encoded data removed]",
            "text/plain": [
              "<Figure size 2000x500 with 1 Axes>"
            ]
          },
          "metadata": {},
          "output_type": "display_data"
        }
      ],
      "source": [
        "sns.set(rc={'figure.figsize':(20, 5)})\n",
        "\n",
        "sns.barplot(x=\"Team_name\", y =\"Titles\", data = world_cup)\n",
        "plt.show()"
      ]
    },
    {
      "cell_type": "code",
      "execution_count": 6,
      "metadata": {
        "colab": {
          "base_uri": "https://localhost:8080/",
          "height": 414
        },
        "id": "HB7W5gY8o4U_",
        "outputId": "6d1af9c5-312c-4c45-a2ba-e0ca6ff1d25a"
      },
      "outputs": [
        {
          "name": "stderr",
          "output_type": "stream",
          "text": [
            "C:\\Users\\Vedant\\AppData\\Local\\Packages\\PythonSoftwareFoundation.Python.3.11_qbz5n2kfra8p0\\LocalCache\\local-packages\\Python311\\site-packages\\seaborn\\_oldcore.py:1498: FutureWarning: is_categorical_dtype is deprecated and will be removed in a future version. Use isinstance(dtype, CategoricalDtype) instead\n",
            "  if pd.api.types.is_categorical_dtype(vector):\n",
            "C:\\Users\\Vedant\\AppData\\Local\\Packages\\PythonSoftwareFoundation.Python.3.11_qbz5n2kfra8p0\\LocalCache\\local-packages\\Python311\\site-packages\\seaborn\\_oldcore.py:1498: FutureWarning: is_categorical_dtype is deprecated and will be removed in a future version. Use isinstance(dtype, CategoricalDtype) instead\n",
            "  if pd.api.types.is_categorical_dtype(vector):\n",
            "C:\\Users\\Vedant\\AppData\\Local\\Packages\\PythonSoftwareFoundation.Python.3.11_qbz5n2kfra8p0\\LocalCache\\local-packages\\Python311\\site-packages\\seaborn\\_oldcore.py:1498: FutureWarning: is_categorical_dtype is deprecated and will be removed in a future version. Use isinstance(dtype, CategoricalDtype) instead\n",
            "  if pd.api.types.is_categorical_dtype(vector):\n"
          ]
        },
        {
          "data": {
            "image/png": "[encoded data removed]",
            "text/plain": [
              "<Figure size 2000x500 with 1 Axes>"
            ]
          },
          "metadata": {},
          "output_type": "display_data"
        }
      ],
      "source": [
        "sns.set(rc={'figure.figsize':(20, 5)})\n",
        "\n",
        "sns.barplot(x=\"Team_name\", y =\"Win_percentage_ODI\", data = world_cup)\n",
        "plt.show()"
      ]
    },
    {
      "cell_type": "code",
      "execution_count": 7,
      "metadata": {
        "id": "iuoMtudMpTKU"
      },
      "outputs": [],
      "source": [
        "# Removing rows with 'Match abandoned' and 'No result' from the 'results' DataFrame.\"\n",
        "completeODIhistory.drop(completeODIhistory[(completeODIhistory['Winner'] == 'Match abandoned' )].index, inplace=True)\n",
        "completeODIhistory.drop(completeODIhistory[(completeODIhistory['Winner'] == 'No result' )].index, inplace=True)"
      ]
    },
    {
      "cell_type": "code",
      "execution_count": 8,
      "metadata": {
        "id": "LTWsuV9Qppca"
      },
      "outputs": [],
      "source": [
        "world_cup_qualified_teams = [\"India\", \"Australia\",\"England\", \"New Zealand\", \"Pakistan\", \"Sri Lanka\", \"Netherlands\",\"Afghanistan\",\"South Africa\",\"Bangladesh\"]\n"
      ]
    },
    {
      "cell_type": "code",
      "execution_count": 9,
      "metadata": {
        "id": "SgHTp82LqOtX"
      },
      "outputs": [],
      "source": [
        "teams = completeODIhistory[completeODIhistory['Team_1'].apply(lambda x: x in world_cup_qualified_teams)]\n",
        "teams = teams[teams['Team_2'].apply(lambda x: x in world_cup_qualified_teams)]"
      ]
    },
    {
      "cell_type": "code",
      "execution_count": 10,
      "metadata": {
        "colab": {
          "base_uri": "https://localhost:8080/",
          "height": 206
        },
        "id": "6f1iW3nqssN1",
        "outputId": "db911265-e165-4e5f-ddeb-81586ad43d7f"
      },
      "outputs": [
        {
          "data": {
            "text/html": [
              "<div>\n",
              "<style scoped>\n",
              "    .dataframe tbody tr th:only-of-type {\n",
              "        vertical-align: middle;\n",
              "    }\n",
              "\n",
              "    .dataframe tbody tr th {\n",
              "        vertical-align: top;\n",
              "    }\n",
              "\n",
              "    .dataframe thead th {\n",
              "        text-align: right;\n",
              "    }\n",
              "</style>\n",
              "<table border=\"1\" class=\"dataframe\">\n",
              "  <thead>\n",
              "    <tr style=\"text-align: right;\">\n",
              "      <th></th>\n",
              "      <th>Team_1</th>\n",
              "      <th>Team_2</th>\n",
              "      <th>Winner</th>\n",
              "      <th>Ground</th>\n",
              "      <th>1</th>\n",
              "    </tr>\n",
              "  </thead>\n",
              "  <tbody>\n",
              "    <tr>\n",
              "      <th>8</th>\n",
              "      <td>England</td>\n",
              "      <td>New Zealand</td>\n",
              "      <td>New Zealand</td>\n",
              "      <td>Kennington Oval</td>\n",
              "      <td>10</td>\n",
              "    </tr>\n",
              "    <tr>\n",
              "      <th>11</th>\n",
              "      <td>Bangladesh</td>\n",
              "      <td>India</td>\n",
              "      <td>Bangladesh</td>\n",
              "      <td>Shere Bangla National Stadium</td>\n",
              "      <td>13</td>\n",
              "    </tr>\n",
              "    <tr>\n",
              "      <th>29</th>\n",
              "      <td>South Africa</td>\n",
              "      <td>New Zealand</td>\n",
              "      <td>South Africa</td>\n",
              "      <td>SuperSport Park</td>\n",
              "      <td>31</td>\n",
              "    </tr>\n",
              "    <tr>\n",
              "      <th>35</th>\n",
              "      <td>England</td>\n",
              "      <td>Australia</td>\n",
              "      <td>England</td>\n",
              "      <td>Old Trafford</td>\n",
              "      <td>37</td>\n",
              "    </tr>\n",
              "    <tr>\n",
              "      <th>59</th>\n",
              "      <td>Pakistan</td>\n",
              "      <td>England</td>\n",
              "      <td>England</td>\n",
              "      <td>Dubai International Cricket Stadium</td>\n",
              "      <td>61</td>\n",
              "    </tr>\n",
              "  </tbody>\n",
              "</table>\n",
              "</div>"
            ],
            "text/plain": [
              "          Team_1       Team_2        Winner  \\\n",
              "8        England  New Zealand  New Zealand    \n",
              "11    Bangladesh        India   Bangladesh    \n",
              "29  South Africa  New Zealand  South Africa   \n",
              "35       England    Australia       England   \n",
              "59      Pakistan      England       England   \n",
              "\n",
              "                                 Ground   1  \n",
              "8                       Kennington Oval  10  \n",
              "11        Shere Bangla National Stadium  13  \n",
              "29                      SuperSport Park  31  \n",
              "35                         Old Trafford  37  \n",
              "59  Dubai International Cricket Stadium  61  "
            ]
          },
          "execution_count": 10,
          "metadata": {},
          "output_type": "execute_result"
        }
      ],
      "source": [
        "teams.head(5)"
      ]
    },
    {
      "cell_type": "code",
      "execution_count": 11,
      "metadata": {
        "id": "JbYcFNcftSZg"
      },
      "outputs": [],
      "source": [
        "#Removing the unneccessary columns\n",
        "teams.drop(['1','Ground'],axis=1, inplace=True)\n"
      ]
    },
    {
      "cell_type": "markdown",
      "metadata": {
        "id": "ddnPOVVyO2dR"
      },
      "source": [
        "Ground is removed because world cup is in India and so other grounds would not affect the model"
      ]
    },
    {
      "cell_type": "code",
      "execution_count": 12,
      "metadata": {
        "colab": {
          "base_uri": "https://localhost:8080/",
          "height": 423
        },
        "id": "CcrZ31oTtkwC",
        "outputId": "9e64226c-dacb-4cac-9d8d-b873d8b65b2e"
      },
      "outputs": [
        {
          "data": {
            "text/html": [
              "<div>\n",
              "<style scoped>\n",
              "    .dataframe tbody tr th:only-of-type {\n",
              "        vertical-align: middle;\n",
              "    }\n",
              "\n",
              "    .dataframe tbody tr th {\n",
              "        vertical-align: top;\n",
              "    }\n",
              "\n",
              "    .dataframe thead th {\n",
              "        text-align: right;\n",
              "    }\n",
              "</style>\n",
              "<table border=\"1\" class=\"dataframe\">\n",
              "  <thead>\n",
              "    <tr style=\"text-align: right;\">\n",
              "      <th></th>\n",
              "      <th>Team_1</th>\n",
              "      <th>Team_2</th>\n",
              "      <th>Winner</th>\n",
              "    </tr>\n",
              "  </thead>\n",
              "  <tbody>\n",
              "    <tr>\n",
              "      <th>8</th>\n",
              "      <td>England</td>\n",
              "      <td>New Zealand</td>\n",
              "      <td>New Zealand</td>\n",
              "    </tr>\n",
              "    <tr>\n",
              "      <th>11</th>\n",
              "      <td>Bangladesh</td>\n",
              "      <td>India</td>\n",
              "      <td>Bangladesh</td>\n",
              "    </tr>\n",
              "    <tr>\n",
              "      <th>29</th>\n",
              "      <td>South Africa</td>\n",
              "      <td>New Zealand</td>\n",
              "      <td>South Africa</td>\n",
              "    </tr>\n",
              "    <tr>\n",
              "      <th>35</th>\n",
              "      <td>England</td>\n",
              "      <td>Australia</td>\n",
              "      <td>England</td>\n",
              "    </tr>\n",
              "    <tr>\n",
              "      <th>59</th>\n",
              "      <td>Pakistan</td>\n",
              "      <td>England</td>\n",
              "      <td>England</td>\n",
              "    </tr>\n",
              "    <tr>\n",
              "      <th>...</th>\n",
              "      <td>...</td>\n",
              "      <td>...</td>\n",
              "      <td>...</td>\n",
              "    </tr>\n",
              "    <tr>\n",
              "      <th>795</th>\n",
              "      <td>New Zealand</td>\n",
              "      <td>Sri Lanka</td>\n",
              "      <td>New Zealand</td>\n",
              "    </tr>\n",
              "    <tr>\n",
              "      <th>796</th>\n",
              "      <td>Afghanistan</td>\n",
              "      <td>South Africa</td>\n",
              "      <td>South Africa</td>\n",
              "    </tr>\n",
              "    <tr>\n",
              "      <th>797</th>\n",
              "      <td>Australia</td>\n",
              "      <td>Bangladesh</td>\n",
              "      <td>Australia</td>\n",
              "    </tr>\n",
              "    <tr>\n",
              "      <th>798</th>\n",
              "      <td>England</td>\n",
              "      <td>Pakistan</td>\n",
              "      <td>England</td>\n",
              "    </tr>\n",
              "    <tr>\n",
              "      <th>799</th>\n",
              "      <td>India</td>\n",
              "      <td>Netherlands</td>\n",
              "      <td>India</td>\n",
              "    </tr>\n",
              "  </tbody>\n",
              "</table>\n",
              "<p>241 rows × 3 columns</p>\n",
              "</div>"
            ],
            "text/plain": [
              "           Team_1        Team_2        Winner\n",
              "8         England   New Zealand  New Zealand \n",
              "11     Bangladesh         India   Bangladesh \n",
              "29   South Africa   New Zealand  South Africa\n",
              "35        England     Australia       England\n",
              "59       Pakistan       England       England\n",
              "..            ...           ...           ...\n",
              "795   New Zealand     Sri Lanka   New Zealand\n",
              "796   Afghanistan  South Africa  South Africa\n",
              "797     Australia    Bangladesh     Australia\n",
              "798       England      Pakistan       England\n",
              "799         India   Netherlands         India\n",
              "\n",
              "[241 rows x 3 columns]"
            ]
          },
          "execution_count": 12,
          "metadata": {},
          "output_type": "execute_result"
        }
      ],
      "source": [
        "teams"
      ]
    },
    {
      "cell_type": "code",
      "execution_count": 13,
      "metadata": {
        "colab": {
          "base_uri": "https://localhost:8080/",
          "height": 363
        },
        "id": "KVHWsnguXnVv",
        "outputId": "2de95615-b21c-4233-d3b4-bfcab40cf1f0"
      },
      "outputs": [
        {
          "data": {
            "text/html": [
              "<div>\n",
              "<style scoped>\n",
              "    .dataframe tbody tr th:only-of-type {\n",
              "        vertical-align: middle;\n",
              "    }\n",
              "\n",
              "    .dataframe tbody tr th {\n",
              "        vertical-align: top;\n",
              "    }\n",
              "\n",
              "    .dataframe thead th {\n",
              "        text-align: right;\n",
              "    }\n",
              "</style>\n",
              "<table border=\"1\" class=\"dataframe\">\n",
              "  <thead>\n",
              "    <tr style=\"text-align: right;\">\n",
              "      <th></th>\n",
              "      <th>Team_ranking</th>\n",
              "      <th>Team_name</th>\n",
              "      <th>Rating</th>\n",
              "    </tr>\n",
              "  </thead>\n",
              "  <tbody>\n",
              "    <tr>\n",
              "      <th>0</th>\n",
              "      <td>1</td>\n",
              "      <td>India</td>\n",
              "      <td>121</td>\n",
              "    </tr>\n",
              "    <tr>\n",
              "      <th>1</th>\n",
              "      <td>2</td>\n",
              "      <td>Australia</td>\n",
              "      <td>115</td>\n",
              "    </tr>\n",
              "    <tr>\n",
              "      <th>2</th>\n",
              "      <td>3</td>\n",
              "      <td>South Africa</td>\n",
              "      <td>112</td>\n",
              "    </tr>\n",
              "    <tr>\n",
              "      <th>3</th>\n",
              "      <td>4</td>\n",
              "      <td>Pakistan</td>\n",
              "      <td>109</td>\n",
              "    </tr>\n",
              "    <tr>\n",
              "      <th>4</th>\n",
              "      <td>5</td>\n",
              "      <td>New Zealand</td>\n",
              "      <td>103</td>\n",
              "    </tr>\n",
              "    <tr>\n",
              "      <th>5</th>\n",
              "      <td>6</td>\n",
              "      <td>England</td>\n",
              "      <td>99</td>\n",
              "    </tr>\n",
              "    <tr>\n",
              "      <th>6</th>\n",
              "      <td>7</td>\n",
              "      <td>Sri Lanka</td>\n",
              "      <td>88</td>\n",
              "    </tr>\n",
              "    <tr>\n",
              "      <th>7</th>\n",
              "      <td>8</td>\n",
              "      <td>Bangladesh</td>\n",
              "      <td>87</td>\n",
              "    </tr>\n",
              "    <tr>\n",
              "      <th>8</th>\n",
              "      <td>9</td>\n",
              "      <td>Afghanistan</td>\n",
              "      <td>84</td>\n",
              "    </tr>\n",
              "    <tr>\n",
              "      <th>9</th>\n",
              "      <td>10</td>\n",
              "      <td>Netherlands</td>\n",
              "      <td>41</td>\n",
              "    </tr>\n",
              "  </tbody>\n",
              "</table>\n",
              "</div>"
            ],
            "text/plain": [
              "   Team_ranking     Team_name  Rating\n",
              "0             1         India     121\n",
              "1             2     Australia     115\n",
              "2             3  South Africa     112\n",
              "3             4     Pakistan      109\n",
              "4             5   New Zealand     103\n",
              "5             6       England      99\n",
              "6             7     Sri Lanka      88\n",
              "7             8    Bangladesh      87\n",
              "8             9   Afghanistan      84\n",
              "9            10   Netherlands      41"
            ]
          },
          "execution_count": 13,
          "metadata": {},
          "output_type": "execute_result"
        }
      ],
      "source": [
        "rankings"
      ]
    },
    {
      "cell_type": "code",
      "execution_count": 14,
      "metadata": {
        "id": "slPtF7dct37H"
      },
      "outputs": [],
      "source": [
        "teams = teams.reset_index(drop=True)"
      ]
    },
    {
      "cell_type": "code",
      "execution_count": 15,
      "metadata": {
        "id": "Vwod6yIQSS4P"
      },
      "outputs": [],
      "source": [
        "teams = teams.merge(rankings, left_on='Team_1', right_on='Team_name', how='left')"
      ]
    },
    {
      "cell_type": "code",
      "execution_count": 16,
      "metadata": {
        "id": "ZfqFXTQRS6lt"
      },
      "outputs": [],
      "source": [
        "teams.rename(columns={'Team_ranking': 'Team_1_Position'}, inplace=True)"
      ]
    },
    {
      "cell_type": "code",
      "execution_count": 17,
      "metadata": {
        "id": "-7NgL0ZhTEOX"
      },
      "outputs": [],
      "source": [
        "teams.drop(['Team_name','Rating'] , axis = 1 , inplace = True)"
      ]
    },
    {
      "cell_type": "code",
      "execution_count": 18,
      "metadata": {
        "id": "rK7zhpxWTALu"
      },
      "outputs": [],
      "source": [
        "teams = teams.merge(rankings, left_on='Team_2', right_on='Team_name', how='left')"
      ]
    },
    {
      "cell_type": "code",
      "execution_count": 19,
      "metadata": {
        "id": "jusHZfOxS9Fe"
      },
      "outputs": [],
      "source": [
        "teams.rename(columns={'Team_ranking': 'Team_2_Position'}, inplace=True)"
      ]
    },
    {
      "cell_type": "code",
      "execution_count": 20,
      "metadata": {
        "id": "kL9yKMrKTpTG"
      },
      "outputs": [],
      "source": [
        "teams.drop(['Team_name','Rating'] , axis = 1 , inplace = True)"
      ]
    },
    {
      "cell_type": "code",
      "execution_count": 21,
      "metadata": {},
      "outputs": [
        {
          "data": {
            "text/html": [
              "<div>\n",
              "<style scoped>\n",
              "    .dataframe tbody tr th:only-of-type {\n",
              "        vertical-align: middle;\n",
              "    }\n",
              "\n",
              "    .dataframe tbody tr th {\n",
              "        vertical-align: top;\n",
              "    }\n",
              "\n",
              "    .dataframe thead th {\n",
              "        text-align: right;\n",
              "    }\n",
              "</style>\n",
              "<table border=\"1\" class=\"dataframe\">\n",
              "  <thead>\n",
              "    <tr style=\"text-align: right;\">\n",
              "      <th></th>\n",
              "      <th>Team_1</th>\n",
              "      <th>Team_2</th>\n",
              "      <th>Winner</th>\n",
              "      <th>Team_1_Position</th>\n",
              "      <th>Team_2_Position</th>\n",
              "    </tr>\n",
              "  </thead>\n",
              "  <tbody>\n",
              "    <tr>\n",
              "      <th>0</th>\n",
              "      <td>England</td>\n",
              "      <td>New Zealand</td>\n",
              "      <td>New Zealand</td>\n",
              "      <td>6.0</td>\n",
              "      <td>5.0</td>\n",
              "    </tr>\n",
              "    <tr>\n",
              "      <th>1</th>\n",
              "      <td>Bangladesh</td>\n",
              "      <td>India</td>\n",
              "      <td>Bangladesh</td>\n",
              "      <td>8.0</td>\n",
              "      <td>1.0</td>\n",
              "    </tr>\n",
              "    <tr>\n",
              "      <th>2</th>\n",
              "      <td>South Africa</td>\n",
              "      <td>New Zealand</td>\n",
              "      <td>South Africa</td>\n",
              "      <td>3.0</td>\n",
              "      <td>5.0</td>\n",
              "    </tr>\n",
              "    <tr>\n",
              "      <th>3</th>\n",
              "      <td>England</td>\n",
              "      <td>Australia</td>\n",
              "      <td>England</td>\n",
              "      <td>6.0</td>\n",
              "      <td>2.0</td>\n",
              "    </tr>\n",
              "    <tr>\n",
              "      <th>4</th>\n",
              "      <td>Pakistan</td>\n",
              "      <td>England</td>\n",
              "      <td>England</td>\n",
              "      <td>NaN</td>\n",
              "      <td>6.0</td>\n",
              "    </tr>\n",
              "  </tbody>\n",
              "</table>\n",
              "</div>"
            ],
            "text/plain": [
              "         Team_1       Team_2        Winner  Team_1_Position  Team_2_Position\n",
              "0       England  New Zealand  New Zealand               6.0              5.0\n",
              "1    Bangladesh        India   Bangladesh               8.0              1.0\n",
              "2  South Africa  New Zealand  South Africa              3.0              5.0\n",
              "3       England    Australia       England              6.0              2.0\n",
              "4      Pakistan      England       England              NaN              6.0"
            ]
          },
          "execution_count": 21,
          "metadata": {},
          "output_type": "execute_result"
        }
      ],
      "source": [
        "teams.head()"
      ]
    },
    {
      "cell_type": "markdown",
      "metadata": {
        "id": "MWuY-2O9VImY"
      },
      "source": [
        "# **Model Training**"
      ]
    },
    {
      "cell_type": "code",
      "execution_count": 23,
      "metadata": {
        "id": "TR3hmpXkw8WQ"
      },
      "outputs": [],
      "source": [
        "from sklearn.model_selection import train_test_split"
      ]
    },
    {
      "cell_type": "code",
      "execution_count": 24,
      "metadata": {
        "id": "OY4ep7XDx1DE"
      },
      "outputs": [],
      "source": [
        "teams_final = pd.get_dummies(teams, prefix=['Team_1', 'Team_2'], columns=['Team_1', 'Team_2'])\n"
      ]
    },
    {
      "cell_type": "code",
      "execution_count": 25,
      "metadata": {},
      "outputs": [
        {
          "data": {
            "text/html": [
              "<div>\n",
              "<style scoped>\n",
              "    .dataframe tbody tr th:only-of-type {\n",
              "        vertical-align: middle;\n",
              "    }\n",
              "\n",
              "    .dataframe tbody tr th {\n",
              "        vertical-align: top;\n",
              "    }\n",
              "\n",
              "    .dataframe thead th {\n",
              "        text-align: right;\n",
              "    }\n",
              "</style>\n",
              "<table border=\"1\" class=\"dataframe\">\n",
              "  <thead>\n",
              "    <tr style=\"text-align: right;\">\n",
              "      <th></th>\n",
              "      <th>Winner</th>\n",
              "      <th>Team_1_Position</th>\n",
              "      <th>Team_2_Position</th>\n",
              "      <th>Team_1_Afghanistan</th>\n",
              "      <th>Team_1_Australia</th>\n",
              "      <th>Team_1_Bangladesh</th>\n",
              "      <th>Team_1_England</th>\n",
              "      <th>Team_1_India</th>\n",
              "      <th>Team_1_Netherlands</th>\n",
              "      <th>Team_1_New Zealand</th>\n",
              "      <th>...</th>\n",
              "      <th>Team_2_Afghanistan</th>\n",
              "      <th>Team_2_Australia</th>\n",
              "      <th>Team_2_Bangladesh</th>\n",
              "      <th>Team_2_England</th>\n",
              "      <th>Team_2_India</th>\n",
              "      <th>Team_2_Netherlands</th>\n",
              "      <th>Team_2_New Zealand</th>\n",
              "      <th>Team_2_Pakistan</th>\n",
              "      <th>Team_2_South Africa</th>\n",
              "      <th>Team_2_Sri Lanka</th>\n",
              "    </tr>\n",
              "  </thead>\n",
              "  <tbody>\n",
              "    <tr>\n",
              "      <th>0</th>\n",
              "      <td>New Zealand</td>\n",
              "      <td>6.0</td>\n",
              "      <td>5.0</td>\n",
              "      <td>False</td>\n",
              "      <td>False</td>\n",
              "      <td>False</td>\n",
              "      <td>True</td>\n",
              "      <td>False</td>\n",
              "      <td>False</td>\n",
              "      <td>False</td>\n",
              "      <td>...</td>\n",
              "      <td>False</td>\n",
              "      <td>False</td>\n",
              "      <td>False</td>\n",
              "      <td>False</td>\n",
              "      <td>False</td>\n",
              "      <td>False</td>\n",
              "      <td>True</td>\n",
              "      <td>False</td>\n",
              "      <td>False</td>\n",
              "      <td>False</td>\n",
              "    </tr>\n",
              "    <tr>\n",
              "      <th>1</th>\n",
              "      <td>Bangladesh</td>\n",
              "      <td>8.0</td>\n",
              "      <td>1.0</td>\n",
              "      <td>False</td>\n",
              "      <td>False</td>\n",
              "      <td>True</td>\n",
              "      <td>False</td>\n",
              "      <td>False</td>\n",
              "      <td>False</td>\n",
              "      <td>False</td>\n",
              "      <td>...</td>\n",
              "      <td>False</td>\n",
              "      <td>False</td>\n",
              "      <td>False</td>\n",
              "      <td>False</td>\n",
              "      <td>True</td>\n",
              "      <td>False</td>\n",
              "      <td>False</td>\n",
              "      <td>False</td>\n",
              "      <td>False</td>\n",
              "      <td>False</td>\n",
              "    </tr>\n",
              "    <tr>\n",
              "      <th>2</th>\n",
              "      <td>South Africa</td>\n",
              "      <td>3.0</td>\n",
              "      <td>5.0</td>\n",
              "      <td>False</td>\n",
              "      <td>False</td>\n",
              "      <td>False</td>\n",
              "      <td>False</td>\n",
              "      <td>False</td>\n",
              "      <td>False</td>\n",
              "      <td>False</td>\n",
              "      <td>...</td>\n",
              "      <td>False</td>\n",
              "      <td>False</td>\n",
              "      <td>False</td>\n",
              "      <td>False</td>\n",
              "      <td>False</td>\n",
              "      <td>False</td>\n",
              "      <td>True</td>\n",
              "      <td>False</td>\n",
              "      <td>False</td>\n",
              "      <td>False</td>\n",
              "    </tr>\n",
              "    <tr>\n",
              "      <th>3</th>\n",
              "      <td>England</td>\n",
              "      <td>6.0</td>\n",
              "      <td>2.0</td>\n",
              "      <td>False</td>\n",
              "      <td>False</td>\n",
              "      <td>False</td>\n",
              "      <td>True</td>\n",
              "      <td>False</td>\n",
              "      <td>False</td>\n",
              "      <td>False</td>\n",
              "      <td>...</td>\n",
              "      <td>False</td>\n",
              "      <td>True</td>\n",
              "      <td>False</td>\n",
              "      <td>False</td>\n",
              "      <td>False</td>\n",
              "      <td>False</td>\n",
              "      <td>False</td>\n",
              "      <td>False</td>\n",
              "      <td>False</td>\n",
              "      <td>False</td>\n",
              "    </tr>\n",
              "    <tr>\n",
              "      <th>4</th>\n",
              "      <td>England</td>\n",
              "      <td>NaN</td>\n",
              "      <td>6.0</td>\n",
              "      <td>False</td>\n",
              "      <td>False</td>\n",
              "      <td>False</td>\n",
              "      <td>False</td>\n",
              "      <td>False</td>\n",
              "      <td>False</td>\n",
              "      <td>False</td>\n",
              "      <td>...</td>\n",
              "      <td>False</td>\n",
              "      <td>False</td>\n",
              "      <td>False</td>\n",
              "      <td>True</td>\n",
              "      <td>False</td>\n",
              "      <td>False</td>\n",
              "      <td>False</td>\n",
              "      <td>False</td>\n",
              "      <td>False</td>\n",
              "      <td>False</td>\n",
              "    </tr>\n",
              "    <tr>\n",
              "      <th>...</th>\n",
              "      <td>...</td>\n",
              "      <td>...</td>\n",
              "      <td>...</td>\n",
              "      <td>...</td>\n",
              "      <td>...</td>\n",
              "      <td>...</td>\n",
              "      <td>...</td>\n",
              "      <td>...</td>\n",
              "      <td>...</td>\n",
              "      <td>...</td>\n",
              "      <td>...</td>\n",
              "      <td>...</td>\n",
              "      <td>...</td>\n",
              "      <td>...</td>\n",
              "      <td>...</td>\n",
              "      <td>...</td>\n",
              "      <td>...</td>\n",
              "      <td>...</td>\n",
              "      <td>...</td>\n",
              "      <td>...</td>\n",
              "      <td>...</td>\n",
              "    </tr>\n",
              "    <tr>\n",
              "      <th>236</th>\n",
              "      <td>New Zealand</td>\n",
              "      <td>5.0</td>\n",
              "      <td>7.0</td>\n",
              "      <td>False</td>\n",
              "      <td>False</td>\n",
              "      <td>False</td>\n",
              "      <td>False</td>\n",
              "      <td>False</td>\n",
              "      <td>False</td>\n",
              "      <td>True</td>\n",
              "      <td>...</td>\n",
              "      <td>False</td>\n",
              "      <td>False</td>\n",
              "      <td>False</td>\n",
              "      <td>False</td>\n",
              "      <td>False</td>\n",
              "      <td>False</td>\n",
              "      <td>False</td>\n",
              "      <td>False</td>\n",
              "      <td>False</td>\n",
              "      <td>True</td>\n",
              "    </tr>\n",
              "    <tr>\n",
              "      <th>237</th>\n",
              "      <td>South Africa</td>\n",
              "      <td>9.0</td>\n",
              "      <td>3.0</td>\n",
              "      <td>True</td>\n",
              "      <td>False</td>\n",
              "      <td>False</td>\n",
              "      <td>False</td>\n",
              "      <td>False</td>\n",
              "      <td>False</td>\n",
              "      <td>False</td>\n",
              "      <td>...</td>\n",
              "      <td>False</td>\n",
              "      <td>False</td>\n",
              "      <td>False</td>\n",
              "      <td>False</td>\n",
              "      <td>False</td>\n",
              "      <td>False</td>\n",
              "      <td>False</td>\n",
              "      <td>False</td>\n",
              "      <td>True</td>\n",
              "      <td>False</td>\n",
              "    </tr>\n",
              "    <tr>\n",
              "      <th>238</th>\n",
              "      <td>Australia</td>\n",
              "      <td>2.0</td>\n",
              "      <td>8.0</td>\n",
              "      <td>False</td>\n",
              "      <td>True</td>\n",
              "      <td>False</td>\n",
              "      <td>False</td>\n",
              "      <td>False</td>\n",
              "      <td>False</td>\n",
              "      <td>False</td>\n",
              "      <td>...</td>\n",
              "      <td>False</td>\n",
              "      <td>False</td>\n",
              "      <td>True</td>\n",
              "      <td>False</td>\n",
              "      <td>False</td>\n",
              "      <td>False</td>\n",
              "      <td>False</td>\n",
              "      <td>False</td>\n",
              "      <td>False</td>\n",
              "      <td>False</td>\n",
              "    </tr>\n",
              "    <tr>\n",
              "      <th>239</th>\n",
              "      <td>England</td>\n",
              "      <td>6.0</td>\n",
              "      <td>NaN</td>\n",
              "      <td>False</td>\n",
              "      <td>False</td>\n",
              "      <td>False</td>\n",
              "      <td>True</td>\n",
              "      <td>False</td>\n",
              "      <td>False</td>\n",
              "      <td>False</td>\n",
              "      <td>...</td>\n",
              "      <td>False</td>\n",
              "      <td>False</td>\n",
              "      <td>False</td>\n",
              "      <td>False</td>\n",
              "      <td>False</td>\n",
              "      <td>False</td>\n",
              "      <td>False</td>\n",
              "      <td>True</td>\n",
              "      <td>False</td>\n",
              "      <td>False</td>\n",
              "    </tr>\n",
              "    <tr>\n",
              "      <th>240</th>\n",
              "      <td>India</td>\n",
              "      <td>1.0</td>\n",
              "      <td>10.0</td>\n",
              "      <td>False</td>\n",
              "      <td>False</td>\n",
              "      <td>False</td>\n",
              "      <td>False</td>\n",
              "      <td>True</td>\n",
              "      <td>False</td>\n",
              "      <td>False</td>\n",
              "      <td>...</td>\n",
              "      <td>False</td>\n",
              "      <td>False</td>\n",
              "      <td>False</td>\n",
              "      <td>False</td>\n",
              "      <td>False</td>\n",
              "      <td>True</td>\n",
              "      <td>False</td>\n",
              "      <td>False</td>\n",
              "      <td>False</td>\n",
              "      <td>False</td>\n",
              "    </tr>\n",
              "  </tbody>\n",
              "</table>\n",
              "<p>241 rows × 23 columns</p>\n",
              "</div>"
            ],
            "text/plain": [
              "           Winner  Team_1_Position  Team_2_Position  Team_1_Afghanistan  \\\n",
              "0    New Zealand               6.0              5.0               False   \n",
              "1     Bangladesh               8.0              1.0               False   \n",
              "2    South Africa              3.0              5.0               False   \n",
              "3         England              6.0              2.0               False   \n",
              "4         England              NaN              6.0               False   \n",
              "..            ...              ...              ...                 ...   \n",
              "236   New Zealand              5.0              7.0               False   \n",
              "237  South Africa              9.0              3.0                True   \n",
              "238     Australia              2.0              8.0               False   \n",
              "239       England              6.0              NaN               False   \n",
              "240         India              1.0             10.0               False   \n",
              "\n",
              "     Team_1_Australia  Team_1_Bangladesh  Team_1_England  Team_1_India  \\\n",
              "0               False              False            True         False   \n",
              "1               False               True           False         False   \n",
              "2               False              False           False         False   \n",
              "3               False              False            True         False   \n",
              "4               False              False           False         False   \n",
              "..                ...                ...             ...           ...   \n",
              "236             False              False           False         False   \n",
              "237             False              False           False         False   \n",
              "238              True              False           False         False   \n",
              "239             False              False            True         False   \n",
              "240             False              False           False          True   \n",
              "\n",
              "     Team_1_Netherlands  Team_1_New Zealand  ...  Team_2_Afghanistan  \\\n",
              "0                 False               False  ...               False   \n",
              "1                 False               False  ...               False   \n",
              "2                 False               False  ...               False   \n",
              "3                 False               False  ...               False   \n",
              "4                 False               False  ...               False   \n",
              "..                  ...                 ...  ...                 ...   \n",
              "236               False                True  ...               False   \n",
              "237               False               False  ...               False   \n",
              "238               False               False  ...               False   \n",
              "239               False               False  ...               False   \n",
              "240               False               False  ...               False   \n",
              "\n",
              "     Team_2_Australia  Team_2_Bangladesh  Team_2_England  Team_2_India  \\\n",
              "0               False              False           False         False   \n",
              "1               False              False           False          True   \n",
              "2               False              False           False         False   \n",
              "3                True              False           False         False   \n",
              "4               False              False            True         False   \n",
              "..                ...                ...             ...           ...   \n",
              "236             False              False           False         False   \n",
              "237             False              False           False         False   \n",
              "238             False               True           False         False   \n",
              "239             False              False           False         False   \n",
              "240             False              False           False         False   \n",
              "\n",
              "     Team_2_Netherlands  Team_2_New Zealand  Team_2_Pakistan  \\\n",
              "0                 False                True            False   \n",
              "1                 False               False            False   \n",
              "2                 False                True            False   \n",
              "3                 False               False            False   \n",
              "4                 False               False            False   \n",
              "..                  ...                 ...              ...   \n",
              "236               False               False            False   \n",
              "237               False               False            False   \n",
              "238               False               False            False   \n",
              "239               False               False             True   \n",
              "240                True               False            False   \n",
              "\n",
              "     Team_2_South Africa  Team_2_Sri Lanka  \n",
              "0                  False             False  \n",
              "1                  False             False  \n",
              "2                  False             False  \n",
              "3                  False             False  \n",
              "4                  False             False  \n",
              "..                   ...               ...  \n",
              "236                False              True  \n",
              "237                 True             False  \n",
              "238                False             False  \n",
              "239                False             False  \n",
              "240                False             False  \n",
              "\n",
              "[241 rows x 23 columns]"
            ]
          },
          "execution_count": 25,
          "metadata": {},
          "output_type": "execute_result"
        }
      ],
      "source": [
        "teams_final"
      ]
    },
    {
      "cell_type": "code",
      "execution_count": 27,
      "metadata": {
        "colab": {
          "base_uri": "https://localhost:8080/",
          "height": 325
        },
        "id": "jHj-RtOBVHXI",
        "outputId": "946251a8-43e5-4d0c-f3a7-fc9f000f218c"
      },
      "outputs": [
        {
          "data": {
            "text/html": [
              "<div>\n",
              "<style scoped>\n",
              "    .dataframe tbody tr th:only-of-type {\n",
              "        vertical-align: middle;\n",
              "    }\n",
              "\n",
              "    .dataframe tbody tr th {\n",
              "        vertical-align: top;\n",
              "    }\n",
              "\n",
              "    .dataframe thead th {\n",
              "        text-align: right;\n",
              "    }\n",
              "</style>\n",
              "<table border=\"1\" class=\"dataframe\">\n",
              "  <thead>\n",
              "    <tr style=\"text-align: right;\">\n",
              "      <th></th>\n",
              "      <th>Winner</th>\n",
              "      <th>Team_1_Position</th>\n",
              "      <th>Team_2_Position</th>\n",
              "      <th>Team_1_Afghanistan</th>\n",
              "      <th>Team_1_Australia</th>\n",
              "      <th>Team_1_Bangladesh</th>\n",
              "      <th>Team_1_England</th>\n",
              "      <th>Team_1_India</th>\n",
              "      <th>Team_1_Netherlands</th>\n",
              "      <th>Team_1_New Zealand</th>\n",
              "      <th>...</th>\n",
              "      <th>Team_2_Afghanistan</th>\n",
              "      <th>Team_2_Australia</th>\n",
              "      <th>Team_2_Bangladesh</th>\n",
              "      <th>Team_2_England</th>\n",
              "      <th>Team_2_India</th>\n",
              "      <th>Team_2_Netherlands</th>\n",
              "      <th>Team_2_New Zealand</th>\n",
              "      <th>Team_2_Pakistan</th>\n",
              "      <th>Team_2_South Africa</th>\n",
              "      <th>Team_2_Sri Lanka</th>\n",
              "    </tr>\n",
              "  </thead>\n",
              "  <tbody>\n",
              "    <tr>\n",
              "      <th>0</th>\n",
              "      <td>New Zealand</td>\n",
              "      <td>6.0</td>\n",
              "      <td>5.0</td>\n",
              "      <td>False</td>\n",
              "      <td>False</td>\n",
              "      <td>False</td>\n",
              "      <td>True</td>\n",
              "      <td>False</td>\n",
              "      <td>False</td>\n",
              "      <td>False</td>\n",
              "      <td>...</td>\n",
              "      <td>False</td>\n",
              "      <td>False</td>\n",
              "      <td>False</td>\n",
              "      <td>False</td>\n",
              "      <td>False</td>\n",
              "      <td>False</td>\n",
              "      <td>True</td>\n",
              "      <td>False</td>\n",
              "      <td>False</td>\n",
              "      <td>False</td>\n",
              "    </tr>\n",
              "    <tr>\n",
              "      <th>1</th>\n",
              "      <td>Bangladesh</td>\n",
              "      <td>8.0</td>\n",
              "      <td>1.0</td>\n",
              "      <td>False</td>\n",
              "      <td>False</td>\n",
              "      <td>True</td>\n",
              "      <td>False</td>\n",
              "      <td>False</td>\n",
              "      <td>False</td>\n",
              "      <td>False</td>\n",
              "      <td>...</td>\n",
              "      <td>False</td>\n",
              "      <td>False</td>\n",
              "      <td>False</td>\n",
              "      <td>False</td>\n",
              "      <td>True</td>\n",
              "      <td>False</td>\n",
              "      <td>False</td>\n",
              "      <td>False</td>\n",
              "      <td>False</td>\n",
              "      <td>False</td>\n",
              "    </tr>\n",
              "    <tr>\n",
              "      <th>2</th>\n",
              "      <td>South Africa</td>\n",
              "      <td>3.0</td>\n",
              "      <td>5.0</td>\n",
              "      <td>False</td>\n",
              "      <td>False</td>\n",
              "      <td>False</td>\n",
              "      <td>False</td>\n",
              "      <td>False</td>\n",
              "      <td>False</td>\n",
              "      <td>False</td>\n",
              "      <td>...</td>\n",
              "      <td>False</td>\n",
              "      <td>False</td>\n",
              "      <td>False</td>\n",
              "      <td>False</td>\n",
              "      <td>False</td>\n",
              "      <td>False</td>\n",
              "      <td>True</td>\n",
              "      <td>False</td>\n",
              "      <td>False</td>\n",
              "      <td>False</td>\n",
              "    </tr>\n",
              "    <tr>\n",
              "      <th>3</th>\n",
              "      <td>England</td>\n",
              "      <td>6.0</td>\n",
              "      <td>2.0</td>\n",
              "      <td>False</td>\n",
              "      <td>False</td>\n",
              "      <td>False</td>\n",
              "      <td>True</td>\n",
              "      <td>False</td>\n",
              "      <td>False</td>\n",
              "      <td>False</td>\n",
              "      <td>...</td>\n",
              "      <td>False</td>\n",
              "      <td>True</td>\n",
              "      <td>False</td>\n",
              "      <td>False</td>\n",
              "      <td>False</td>\n",
              "      <td>False</td>\n",
              "      <td>False</td>\n",
              "      <td>False</td>\n",
              "      <td>False</td>\n",
              "      <td>False</td>\n",
              "    </tr>\n",
              "    <tr>\n",
              "      <th>6</th>\n",
              "      <td>New Zealand</td>\n",
              "      <td>5.0</td>\n",
              "      <td>2.0</td>\n",
              "      <td>False</td>\n",
              "      <td>False</td>\n",
              "      <td>False</td>\n",
              "      <td>False</td>\n",
              "      <td>False</td>\n",
              "      <td>False</td>\n",
              "      <td>True</td>\n",
              "      <td>...</td>\n",
              "      <td>False</td>\n",
              "      <td>True</td>\n",
              "      <td>False</td>\n",
              "      <td>False</td>\n",
              "      <td>False</td>\n",
              "      <td>False</td>\n",
              "      <td>False</td>\n",
              "      <td>False</td>\n",
              "      <td>False</td>\n",
              "      <td>False</td>\n",
              "    </tr>\n",
              "  </tbody>\n",
              "</table>\n",
              "<p>5 rows × 23 columns</p>\n",
              "</div>"
            ],
            "text/plain": [
              "         Winner  Team_1_Position  Team_2_Position  Team_1_Afghanistan  \\\n",
              "0  New Zealand               6.0              5.0               False   \n",
              "1   Bangladesh               8.0              1.0               False   \n",
              "2  South Africa              3.0              5.0               False   \n",
              "3       England              6.0              2.0               False   \n",
              "6   New Zealand              5.0              2.0               False   \n",
              "\n",
              "   Team_1_Australia  Team_1_Bangladesh  Team_1_England  Team_1_India  \\\n",
              "0             False              False            True         False   \n",
              "1             False               True           False         False   \n",
              "2             False              False           False         False   \n",
              "3             False              False            True         False   \n",
              "6             False              False           False         False   \n",
              "\n",
              "   Team_1_Netherlands  Team_1_New Zealand  ...  Team_2_Afghanistan  \\\n",
              "0               False               False  ...               False   \n",
              "1               False               False  ...               False   \n",
              "2               False               False  ...               False   \n",
              "3               False               False  ...               False   \n",
              "6               False                True  ...               False   \n",
              "\n",
              "   Team_2_Australia  Team_2_Bangladesh  Team_2_England  Team_2_India  \\\n",
              "0             False              False           False         False   \n",
              "1             False              False           False          True   \n",
              "2             False              False           False         False   \n",
              "3              True              False           False         False   \n",
              "6              True              False           False         False   \n",
              "\n",
              "   Team_2_Netherlands  Team_2_New Zealand  Team_2_Pakistan  \\\n",
              "0               False                True            False   \n",
              "1               False               False            False   \n",
              "2               False                True            False   \n",
              "3               False               False            False   \n",
              "6               False               False            False   \n",
              "\n",
              "   Team_2_South Africa  Team_2_Sri Lanka  \n",
              "0                False             False  \n",
              "1                False             False  \n",
              "2                False             False  \n",
              "3                False             False  \n",
              "6                False             False  \n",
              "\n",
              "[5 rows x 23 columns]"
            ]
          },
          "execution_count": 27,
          "metadata": {},
          "output_type": "execute_result"
        }
      ],
      "source": [
        "teams_final.head(5)\n",
        "\n"
      ]
    },
    {
      "cell_type": "code",
      "execution_count": 28,
      "metadata": {},
      "outputs": [],
      "source": [
        "teams_final.to_csv('teams_final.csv')"
      ]
    },
    {
      "cell_type": "code",
      "execution_count": 29,
      "metadata": {
        "id": "Tluyf1Mi1rlv"
      },
      "outputs": [],
      "source": [
        "teams_final['Team_1_Position'] = teams_final['Team_1_Position'].apply(np.int64)\n",
        "teams_final['Team_2_Position'] = teams_final['Team_2_Position'].apply(np.int64)"
      ]
    },
    {
      "cell_type": "code",
      "execution_count": 57,
      "metadata": {
        "id": "y8MJI-mh5q6S"
      },
      "outputs": [],
      "source": [
        "X = teams_final.drop(['Winner'], axis=1)  # Extracting features by dropping the 'Winner' column\n",
        "y = teams_final[\"Winner\"]  # Assigning the 'Winner' column as the target variable\n",
        "\n",
        "# Split the data into training and testing sets using a test size of 20% and a random state of 42.\n",
        "X_train, X_test, y_train, y_test = train_test_split(X, y, test_size=0.20, random_state=42)"
      ]
    },
    {
      "cell_type": "code",
      "execution_count": 58,
      "metadata": {
        "id": "uJ49xHYkUMZN"
      },
      "outputs": [
        {
          "name": "stderr",
          "output_type": "stream",
          "text": [
            "c:\\Users\\YASH\\AppData\\Local\\Programs\\Python\\Python310\\lib\\site-packages\\sklearn\\model_selection\\_split.py:725: UserWarning: The least populated class in y has only 1 members, which is less than n_splits=5.\n",
            "  warnings.warn(\n"
          ]
        },
        {
          "name": "stdout",
          "output_type": "stream",
          "text": [
            "Best Parameters: {'max_depth': 10, 'min_samples_split': 10, 'n_estimators': 200}\n",
            "Training set accuracy: 0.716\n",
            "Test set accuracy: 0.692\n"
          ]
        }
      ],
      "source": [
        "from sklearn.model_selection import GridSearchCV\n",
        "from sklearn.ensemble import RandomForestClassifier\n",
        "# Define the parameter grid to search\n",
        "param_grid = {\n",
        "    'n_estimators': [100, 200, 300],\n",
        "    'max_depth': [5,10, 20, 30],\n",
        "    'min_samples_split': [5, 8, 10 , 12]\n",
        "}\n",
        "\n",
        "# Create the RandomForestClassifier\n",
        "rf = RandomForestClassifier(random_state=0)\n",
        "\n",
        "# Create a GridSearchCV object with cross-validation\n",
        "grid_search = GridSearchCV(rf, param_grid, cv=5, n_jobs=-1)\n",
        "\n",
        "# Fit the GridSearchCV to the training data\n",
        "grid_search.fit(X_train, y_train)\n",
        "\n",
        "# Get the best estimator and its parameters\n",
        "best_rf = grid_search.best_estimator_\n",
        "best_params = grid_search.best_params_\n",
        "\n",
        "# Evaluate the best model on the training and test sets\n",
        "train_score = best_rf.score(X_train, y_train)\n",
        "test_score = best_rf.score(X_test, y_test)\n",
        "\n",
        "print(\"Best Parameters:\", best_params)\n",
        "print(\"Training set accuracy: %.3f\" % train_score)\n",
        "print(\"Test set accuracy: %.3f\" % test_score)"
      ]
    },
    {
      "cell_type": "code",
      "execution_count": 59,
      "metadata": {
        "id": "4IXgfUPQ53UP"
      },
      "outputs": [
        {
          "name": "stderr",
          "output_type": "stream",
          "text": [
            "c:\\Users\\YASH\\AppData\\Local\\Programs\\Python\\Python310\\lib\\site-packages\\sklearn\\model_selection\\_split.py:725: UserWarning: The least populated class in y has only 1 members, which is less than n_splits=5.\n",
            "  warnings.warn(\n"
          ]
        },
        {
          "name": "stdout",
          "output_type": "stream",
          "text": [
            "Best Parameters: {'C': 10, 'penalty': 'l2'}\n",
            "Training set accuracy: 0.748\n",
            "Test set accuracy: 0.718\n"
          ]
        },
        {
          "name": "stderr",
          "output_type": "stream",
          "text": [
            "c:\\Users\\YASH\\AppData\\Local\\Programs\\Python\\Python310\\lib\\site-packages\\sklearn\\model_selection\\_validation.py:425: FitFailedWarning: \n",
            "25 fits failed out of a total of 50.\n",
            "The score on these train-test partitions for these parameters will be set to nan.\n",
            "If these failures are not expected, you can try to debug them by setting error_score='raise'.\n",
            "\n",
            "Below are more details about the failures:\n",
            "--------------------------------------------------------------------------------\n",
            "25 fits failed with the following error:\n",
            "Traceback (most recent call last):\n",
            "  File \"c:\\Users\\YASH\\AppData\\Local\\Programs\\Python\\Python310\\lib\\site-packages\\sklearn\\model_selection\\_validation.py\", line 732, in _fit_and_score\n",
            "    estimator.fit(X_train, y_train, **fit_params)\n",
            "  File \"c:\\Users\\YASH\\AppData\\Local\\Programs\\Python\\Python310\\lib\\site-packages\\sklearn\\base.py\", line 1151, in wrapper\n",
            "    return fit_method(estimator, *args, **kwargs)\n",
            "  File \"c:\\Users\\YASH\\AppData\\Local\\Programs\\Python\\Python310\\lib\\site-packages\\sklearn\\linear_model\\_logistic.py\", line 1168, in fit\n",
            "    solver = _check_solver(self.solver, self.penalty, self.dual)\n",
            "  File \"c:\\Users\\YASH\\AppData\\Local\\Programs\\Python\\Python310\\lib\\site-packages\\sklearn\\linear_model\\_logistic.py\", line 56, in _check_solver\n",
            "    raise ValueError(\n",
            "ValueError: Solver lbfgs supports only 'l2' or 'none' penalties, got l1 penalty.\n",
            "\n",
            "  warnings.warn(some_fits_failed_message, FitFailedWarning)\n",
            "c:\\Users\\YASH\\AppData\\Local\\Programs\\Python\\Python310\\lib\\site-packages\\sklearn\\model_selection\\_search.py:976: UserWarning: One or more of the test scores are non-finite: [       nan 0.17419355        nan 0.27096774        nan 0.53548387\n",
            "        nan 0.58709677        nan 0.61290323]\n",
            "  warnings.warn(\n",
            "c:\\Users\\YASH\\AppData\\Local\\Programs\\Python\\Python310\\lib\\site-packages\\sklearn\\linear_model\\_logistic.py:460: ConvergenceWarning: lbfgs failed to converge (status=1):\n",
            "STOP: TOTAL NO. of ITERATIONS REACHED LIMIT.\n",
            "\n",
            "Increase the number of iterations (max_iter) or scale the data as shown in:\n",
            "    https://scikit-learn.org/stable/modules/preprocessing.html\n",
            "Please also refer to the documentation for alternative solver options:\n",
            "    https://scikit-learn.org/stable/modules/linear_model.html#logistic-regression\n",
            "  n_iter_i = _check_optimize_result(\n"
          ]
        }
      ],
      "source": [
        "from sklearn.linear_model import LogisticRegression\n",
        "\n",
        "\n",
        "# Define the parameter grid to search\n",
        "param_grid = {\n",
        "    'C': [0.001, 0.01, 0.1 , 1 , 10],\n",
        "    \"penalty\":[\"l1\",\"l2\"]\n",
        "}\n",
        "\n",
        "# Create the LogisticRegression model for multinomial classification\n",
        "logistic_reg = LogisticRegression(multi_class='multinomial', random_state=0)\n",
        "\n",
        "# Create a GridSearchCV object with cross-validation\n",
        "grid_search = GridSearchCV(logistic_reg, param_grid, cv=5, n_jobs=-1)\n",
        "\n",
        "# Fit the GridSearchCV to the training data\n",
        "grid_search.fit(X_train, y_train)\n",
        "\n",
        "# Get the best estimator and its parameters\n",
        "best_logistic_reg = grid_search.best_estimator_\n",
        "best_params = grid_search.best_params_\n",
        "\n",
        "# Evaluate the best model on the training and test sets\n",
        "train_score = best_logistic_reg.score(X_train, y_train)\n",
        "test_score = best_logistic_reg.score(X_test, y_test)\n",
        "\n",
        "print(\"Best Parameters:\", best_params)\n",
        "print(\"Training set accuracy: %.3f\" % train_score)\n",
        "print(\"Test set accuracy: %.3f\" % test_score)\n"
      ]
    },
    {
      "cell_type": "code",
      "execution_count": 31,
      "metadata": {
        "colab": {
          "base_uri": "https://localhost:8080/"
        },
        "id": "Tzi9I3o3FfC4",
        "outputId": "cf7825d0-7ede-4f03-9074-f3fc2561b0f6"
      },
      "outputs": [
        {
          "name": "stdout",
          "output_type": "stream",
          "text": [
            "[['Training Accuracy', 'Rf : 0.71', 'Logistic Regression : 0.75'], ['Testing Accuracy', 'Rf : 0.69', 'Logistic Regression : 0.71']]\n"
          ]
        }
      ],
      "source": [
        "# Data for the table\n",
        "data = [\n",
        "    ['Training Accuracy', 'Rf : 0.71', 'Logistic Regression : 0.75'],\n",
        "    ['Testing Accuracy', 'Rf : 0.69', 'Logistic Regression : 0.71']\n",
        "]\n",
        "print(data)"
      ]
    },
    {
      "cell_type": "markdown",
      "metadata": {
        "id": "5JGzH9D2W1qx"
      },
      "source": [
        "# **Final Prediction**"
      ]
    },
    {
      "cell_type": "code",
      "execution_count": 61,
      "metadata": {
        "id": "2mtgdtmSW5Ox"
      },
      "outputs": [],
      "source": [
        "def result(matches , df , rankingdf , best_model):\n",
        "\n",
        "  winner_list = []\n",
        "\n",
        "  for match in matches:\n",
        "    team1 = match[0]\n",
        "    team2 = match[1]\n",
        "    position1 = rankingdf[team1]\n",
        "    position2 = rankingdf[team2]\n",
        "    data = {\n",
        "        'Team_1': [team1],\n",
        "        'Team_2': [team2],\n",
        "        \"Team_1_Position\": [position1],\n",
        "        \"Team_2_Position\": [position2]\n",
        "    }\n",
        "    df_temp = pd.DataFrame(data)\n",
        "    pred_set = pd.get_dummies(df_temp, prefix=['Team_1', 'Team_2'], columns=['Team_1', 'Team_2'])\n",
        "    missing_cols2 = set(df.columns) - set(pred_set.columns)\n",
        "\n",
        "    for c in missing_cols2:\n",
        "        pred_set[c] = 0\n",
        "    pred_set = pred_set[df.columns]\n",
        "\n",
        "    pred_set = pred_set.drop(['Winner'], axis=1)\n",
        "\n",
        "    pred = best_model.predict(pred_set)\n",
        "    index = pred.argmax()\n",
        "    winner_list.append(pred)\n",
        "\n",
        "  return winner_list\n",
        "\n"
      ]
    },
    {
      "cell_type": "code",
      "execution_count": 62,
      "metadata": {
        "id": "ME16iYk1XG4D"
      },
      "outputs": [],
      "source": [
        "semi_final = [('India', 'New Zealand'),\n",
        "            ('South Africa', 'Australia')]"
      ]
    },
    {
      "cell_type": "code",
      "execution_count": 63,
      "metadata": {
        "id": "GZZbBb8YXw_g"
      },
      "outputs": [],
      "source": [
        "team_position_dict = dict(zip(rankings['Team_name'], rankings['Team_ranking']))"
      ]
    },
    {
      "cell_type": "code",
      "execution_count": 64,
      "metadata": {
        "id": "H819xZ0PWal9"
      },
      "outputs": [],
      "source": [
        "val = result(semi_final, teams_final ,team_position_dict , best_rf)"
      ]
    },
    {
      "cell_type": "code",
      "execution_count": 65,
      "metadata": {
        "colab": {
          "base_uri": "https://localhost:8080/"
        },
        "id": "ycjjnfYZLrxd",
        "outputId": "7732b31e-0746-4e5d-9c66-82cdcad2af87"
      },
      "outputs": [
        {
          "name": "stdout",
          "output_type": "stream",
          "text": [
            "[array(['India'], dtype=object), array(['South Africa'], dtype=object)]\n"
          ]
        }
      ],
      "source": [
        "print(val)"
      ]
    },
    {
      "cell_type": "code",
      "execution_count": 66,
      "metadata": {
        "colab": {
          "base_uri": "https://localhost:8080/"
        },
        "id": "BwpTPOqMYmfe",
        "outputId": "54495d84-0b2d-42e1-9d57-a4c6fe60897a"
      },
      "outputs": [
        {
          "name": "stdout",
          "output_type": "stream",
          "text": [
            "The winner of SEMI FINALE 1 India vs New Zealand: India\n",
            "The winner of SEMI FINALE 2 Australia vs South Africa: South Africa\n"
          ]
        }
      ],
      "source": [
        "print(\"The winner of SEMI FINALE 1 India vs New Zealand:\" , val[0][0])\n",
        "print(\"The winner of SEMI FINALE 2 Australia vs South Africa:\" , val[1][0])\n"
      ]
    },
    {
      "cell_type": "markdown",
      "metadata": {
        "id": "1ps-s5hCYobt"
      },
      "source": [
        "**Finalist** : INDIA vs SOUTH AFRICA"
      ]
    },
    {
      "cell_type": "markdown",
      "metadata": {
        "id": "jEnRXGH3YzLA"
      },
      "source": [
        "Winner of the World Cup"
      ]
    },
    {
      "cell_type": "code",
      "execution_count": 67,
      "metadata": {
        "id": "VNGlBvHrY1rw"
      },
      "outputs": [],
      "source": [
        "final = [(\"India\" , \"South Africa\")]\n",
        "finalval = result(final , teams_final , team_position_dict , best_rf)"
      ]
    },
    {
      "cell_type": "code",
      "execution_count": 68,
      "metadata": {
        "colab": {
          "base_uri": "https://localhost:8080/"
        },
        "id": "ltL4QwYuY7Tw",
        "outputId": "3a976876-7b95-4ca7-aff4-bf5b91504016"
      },
      "outputs": [
        {
          "data": {
            "text/plain": [
              "[array(['India'], dtype=object)]"
            ]
          },
          "execution_count": 68,
          "metadata": {},
          "output_type": "execute_result"
        }
      ],
      "source": [
        "finalval"
      ]
    },
    {
      "cell_type": "code",
      "execution_count": 69,
      "metadata": {
        "colab": {
          "base_uri": "https://localhost:8080/"
        },
        "id": "px61rSFKY99g",
        "outputId": "f457ce20-85c8-4a96-ed68-38e412c25af6"
      },
      "outputs": [
        {
          "name": "stdout",
          "output_type": "stream",
          "text": [
            "The winner of Finale South Africa vs India: India\n"
          ]
        }
      ],
      "source": [
        "print(\"The winner of Finale South Africa vs India:\" , finalval[0][0])"
      ]
    },
    {
      "cell_type": "code",
      "execution_count": 71,
      "metadata": {},
      "outputs": [],
      "source": [
        "### Create a Pickle file using serialization\n",
        "import pickle\n",
        "pickle_out = open(\"winner_prediction.pkl\",\"wb\")\n",
        "pickle.dump(best_rf, pickle_out)\n",
        "#Serialization\n",
        "pickle_out.close()"
      ]
    }
  ],
  "metadata": {
    "colab": {
      "provenance": []
    },
    "kernelspec": {
      "display_name": "Python 3",
      "name": "python3"
    },
    "language_info": {
      "codemirror_mode": {
        "name": "ipython",
        "version": 3
      },
      "file_extension": ".py",
      "mimetype": "text/x-python",
      "name": "python",
      "nbconvert_exporter": "python",
      "pygments_lexer": "ipython3",
      "version": "3.11.6"
    }
  },
  "nbformat": 4,
  "nbformat_minor": 0
}
