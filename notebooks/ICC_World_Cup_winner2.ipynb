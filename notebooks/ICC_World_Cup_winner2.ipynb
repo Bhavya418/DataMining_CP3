{
  "cells": [
    {
      "cell_type": "markdown",
      "metadata": {
        "id": "3-P4Flvmpt58"
      },
      "source": [
        "Importing the libraries"
      ]
    },
    {
      "cell_type": "code",
      "execution_count": 2,
      "metadata": {
        "id": "dhQr5X0yRsjv"
      },
      "outputs": [],
      "source": [
        "import pandas as pd\n",
        "import numpy as np\n",
        "import seaborn as sns\n",
        "import matplotlib.pyplot as plt\n"
      ]
    },
    {
      "cell_type": "markdown",
      "metadata": {
        "id": "wLsDRgeXpv-r"
      },
      "source": [
        "Importing all the datasets"
      ]
    },
    {
      "cell_type": "code",
      "execution_count": 3,
      "metadata": {
        "id": "mKuThd49SD25"
      },
      "outputs": [],
      "source": [
        "world_cup = pd.read_csv(\"../datasets/World_cup_2023.csv\")\n",
        "completeODIhistory = pd.read_csv(\"../datasets/results.csv\")\n",
        "fixtures = pd.read_csv(\"../datasets/Fixtures.csv\")\n"
      ]
    },
    {
      "cell_type": "code",
      "execution_count": 4,
      "metadata": {
        "colab": {
          "base_uri": "https://localhost:8080/",
          "height": 243
        },
        "id": "CqmRhO_ObQ3u",
        "outputId": "fb56163e-6b84-41b0-f27b-51dfc5bb7388"
      },
      "outputs": [
        {
          "data": {
            "text/html": [
              "<div>\n",
              "<style scoped>\n",
              "    .dataframe tbody tr th:only-of-type {\n",
              "        vertical-align: middle;\n",
              "    }\n",
              "\n",
              "    .dataframe tbody tr th {\n",
              "        vertical-align: top;\n",
              "    }\n",
              "\n",
              "    .dataframe thead th {\n",
              "        text-align: right;\n",
              "    }\n",
              "</style>\n",
              "<table border=\"1\" class=\"dataframe\">\n",
              "  <thead>\n",
              "    <tr style=\"text-align: right;\">\n",
              "      <th></th>\n",
              "      <th>Team_name</th>\n",
              "      <th>Team_ranking</th>\n",
              "      <th>Titles</th>\n",
              "      <th>Win_percentage_ODI</th>\n",
              "      <th>WC_matches</th>\n",
              "      <th>WC_match_won</th>\n",
              "      <th>Win_percent_WC</th>\n",
              "      <th>WC_match_loss</th>\n",
              "      <th>Loss_percent_WC</th>\n",
              "      <th>Tied</th>\n",
              "      <th>No_result</th>\n",
              "      <th>World_cup_winner</th>\n",
              "      <th>Recent_points</th>\n",
              "      <th>Rating</th>\n",
              "    </tr>\n",
              "  </thead>\n",
              "  <tbody>\n",
              "    <tr>\n",
              "      <th>0</th>\n",
              "      <td>Australia</td>\n",
              "      <td>1</td>\n",
              "      <td>5</td>\n",
              "      <td>60.73</td>\n",
              "      <td>94</td>\n",
              "      <td>69</td>\n",
              "      <td>73.40</td>\n",
              "      <td>23</td>\n",
              "      <td>24.46</td>\n",
              "      <td>1</td>\n",
              "      <td>1</td>\n",
              "      <td>Yes</td>\n",
              "      <td>2714</td>\n",
              "      <td>118</td>\n",
              "    </tr>\n",
              "    <tr>\n",
              "      <th>1</th>\n",
              "      <td>Pakistan</td>\n",
              "      <td>2</td>\n",
              "      <td>1</td>\n",
              "      <td>52.78</td>\n",
              "      <td>79</td>\n",
              "      <td>45</td>\n",
              "      <td>56.96</td>\n",
              "      <td>32</td>\n",
              "      <td>40.50</td>\n",
              "      <td>0</td>\n",
              "      <td>2</td>\n",
              "      <td>Yes</td>\n",
              "      <td>2316</td>\n",
              "      <td>116</td>\n",
              "    </tr>\n",
              "    <tr>\n",
              "      <th>2</th>\n",
              "      <td>India</td>\n",
              "      <td>3</td>\n",
              "      <td>2</td>\n",
              "      <td>52.38</td>\n",
              "      <td>84</td>\n",
              "      <td>53</td>\n",
              "      <td>63.09</td>\n",
              "      <td>29</td>\n",
              "      <td>34.52</td>\n",
              "      <td>1</td>\n",
              "      <td>1</td>\n",
              "      <td>Yes</td>\n",
              "      <td>3807</td>\n",
              "      <td>115</td>\n",
              "    </tr>\n",
              "    <tr>\n",
              "      <th>3</th>\n",
              "      <td>New Zealand</td>\n",
              "      <td>4</td>\n",
              "      <td>0</td>\n",
              "      <td>45.89</td>\n",
              "      <td>89</td>\n",
              "      <td>54</td>\n",
              "      <td>60.67</td>\n",
              "      <td>33</td>\n",
              "      <td>37.07</td>\n",
              "      <td>1</td>\n",
              "      <td>1</td>\n",
              "      <td>No</td>\n",
              "      <td>2806</td>\n",
              "      <td>104</td>\n",
              "    </tr>\n",
              "    <tr>\n",
              "      <th>4</th>\n",
              "      <td>England</td>\n",
              "      <td>5</td>\n",
              "      <td>1</td>\n",
              "      <td>50.32</td>\n",
              "      <td>83</td>\n",
              "      <td>48</td>\n",
              "      <td>57.83</td>\n",
              "      <td>32</td>\n",
              "      <td>38.55</td>\n",
              "      <td>2</td>\n",
              "      <td>1</td>\n",
              "      <td>Yes</td>\n",
              "      <td>2426</td>\n",
              "      <td>101</td>\n",
              "    </tr>\n",
              "  </tbody>\n",
              "</table>\n",
              "</div>"
            ],
            "text/plain": [
              "      Team_name  Team_ranking  Titles  Win_percentage_ODI  WC_matches   \n",
              "0     Australia             1       5               60.73          94  \\\n",
              "1      Pakistan             2       1               52.78          79   \n",
              "2         India             3       2               52.38          84   \n",
              "3  New Zealand              4       0               45.89          89   \n",
              "4       England             5       1               50.32          83   \n",
              "\n",
              "   WC_match_won  Win_percent_WC  WC_match_loss  Loss_percent_WC  Tied   \n",
              "0            69           73.40             23            24.46     1  \\\n",
              "1            45           56.96             32            40.50     0   \n",
              "2            53           63.09             29            34.52     1   \n",
              "3            54           60.67             33            37.07     1   \n",
              "4            48           57.83             32            38.55     2   \n",
              "\n",
              "   No_result World_cup_winner  Recent_points  Rating  \n",
              "0          1              Yes           2714     118  \n",
              "1          2              Yes           2316     116  \n",
              "2          1              Yes           3807     115  \n",
              "3          1               No           2806     104  \n",
              "4          1              Yes           2426     101  "
            ]
          },
          "execution_count": 4,
          "metadata": {},
          "output_type": "execute_result"
        }
      ],
      "source": [
        "\n",
        "world_cup.head(5)"
      ]
    },
    {
      "cell_type": "code",
      "execution_count": 5,
      "metadata": {
        "colab": {
          "base_uri": "https://localhost:8080/",
          "height": 206
        },
        "id": "ESDF2-s4bqLW",
        "outputId": "de129819-c4f8-4c00-c9ba-c67b80d1664c"
      },
      "outputs": [
        {
          "data": {
            "text/html": [
              "<div>\n",
              "<style scoped>\n",
              "    .dataframe tbody tr th:only-of-type {\n",
              "        vertical-align: middle;\n",
              "    }\n",
              "\n",
              "    .dataframe tbody tr th {\n",
              "        vertical-align: top;\n",
              "    }\n",
              "\n",
              "    .dataframe thead th {\n",
              "        text-align: right;\n",
              "    }\n",
              "</style>\n",
              "<table border=\"1\" class=\"dataframe\">\n",
              "  <thead>\n",
              "    <tr style=\"text-align: right;\">\n",
              "      <th></th>\n",
              "      <th>Team_1</th>\n",
              "      <th>Team_2</th>\n",
              "      <th>Winner</th>\n",
              "      <th>Ground</th>\n",
              "      <th>1</th>\n",
              "    </tr>\n",
              "  </thead>\n",
              "  <tbody>\n",
              "    <tr>\n",
              "      <th>0</th>\n",
              "      <td>Bangladesh</td>\n",
              "      <td>Pakistan</td>\n",
              "      <td>Bangladesh</td>\n",
              "      <td>Shere Bangla National Stadium</td>\n",
              "      <td>2</td>\n",
              "    </tr>\n",
              "    <tr>\n",
              "      <th>1</th>\n",
              "      <td>Bangladesh</td>\n",
              "      <td>Pakistan</td>\n",
              "      <td>Bangladesh</td>\n",
              "      <td>Shere Bangla National Stadium</td>\n",
              "      <td>3</td>\n",
              "    </tr>\n",
              "    <tr>\n",
              "      <th>2</th>\n",
              "      <td>Bangladesh</td>\n",
              "      <td>Pakistan</td>\n",
              "      <td>Bangladesh</td>\n",
              "      <td>Shere Bangla National Stadium</td>\n",
              "      <td>4</td>\n",
              "    </tr>\n",
              "    <tr>\n",
              "      <th>3</th>\n",
              "      <td>Ireland</td>\n",
              "      <td>England</td>\n",
              "      <td>No result</td>\n",
              "      <td>The Village</td>\n",
              "      <td>5</td>\n",
              "    </tr>\n",
              "    <tr>\n",
              "      <th>4</th>\n",
              "      <td>Pakistan</td>\n",
              "      <td>Zimbabwe</td>\n",
              "      <td>Pakistan</td>\n",
              "      <td>Gaddafi Stadium</td>\n",
              "      <td>6</td>\n",
              "    </tr>\n",
              "  </tbody>\n",
              "</table>\n",
              "</div>"
            ],
            "text/plain": [
              "        Team_1    Team_2       Winner                         Ground  1\n",
              "0  Bangladesh   Pakistan  Bangladesh   Shere Bangla National Stadium  2\n",
              "1  Bangladesh   Pakistan  Bangladesh   Shere Bangla National Stadium  3\n",
              "2  Bangladesh   Pakistan  Bangladesh   Shere Bangla National Stadium  4\n",
              "3     Ireland    England    No result                    The Village  5\n",
              "4    Pakistan   Zimbabwe    Pakistan                 Gaddafi Stadium  6"
            ]
          },
          "execution_count": 5,
          "metadata": {},
          "output_type": "execute_result"
        }
      ],
      "source": [
        "completeODIhistory.head(5)"
      ]
    },
    {
      "cell_type": "code",
      "execution_count": 6,
      "metadata": {
        "id": "w36E42HtSHSC"
      },
      "outputs": [],
      "source": [
        "completeODIhistory=completeODIhistory.loc[372:]"
      ]
    },
    {
      "cell_type": "code",
      "execution_count": 7,
      "metadata": {
        "id": "QtMZWi7hVe_M"
      },
      "outputs": [],
      "source": [
        "completeODIhistory= completeODIhistory.reset_index(drop=True)"
      ]
    },
    {
      "cell_type": "markdown",
      "metadata": {
        "id": "XesSR8mxcrVZ"
      },
      "source": [
        "# **World Cup Titles**"
      ]
    },
    {
      "cell_type": "code",
      "execution_count": 8,
      "metadata": {
        "colab": {
          "base_uri": "https://localhost:8080/",
          "height": 331
        },
        "id": "JkERFuTub08H",
        "outputId": "428e0a37-db13-4ce3-fa9e-0edae798fc78"
      },
      "outputs": [
        {
          "data": {
            "image/png": "[encoded data removed]",
            "text/plain": [
              "<Figure size 2000x500 with 1 Axes>"
            ]
          },
          "metadata": {},
          "output_type": "display_data"
        }
      ],
      "source": [
        "sns.set(rc={'figure.figsize':(20, 5)})\n",
        "\n",
        "sns.barplot(x=\"Team_name\", y =\"Titles\", data = world_cup)\n",
        "plt.show()"
      ]
    },
    {
      "cell_type": "markdown",
      "metadata": {
        "id": "TlV5NITrcnTE"
      },
      "source": [
        "# **World Winning Percentage**"
      ]
    },
    {
      "cell_type": "code",
      "execution_count": 9,
      "metadata": {
        "colab": {
          "base_uri": "https://localhost:8080/",
          "height": 329
        },
        "id": "dva4gLeMcCIp",
        "outputId": "8728cfd1-6a00-4737-80e9-10ce419f7aae"
      },
      "outputs": [
        {
          "data": {
            "image/png": "[encoded data removed]",
            "text/plain": [
              "<Figure size 2000x500 with 1 Axes>"
            ]
          },
          "metadata": {},
          "output_type": "display_data"
        }
      ],
      "source": [
        "sns.set(rc={'figure.figsize':(20, 5)})\n",
        "\n",
        "sns.barplot(x=\"Team_name\", y =\"Win_percentage_ODI\", data = world_cup)\n",
        "plt.show()"
      ]
    },
    {
      "cell_type": "markdown",
      "metadata": {
        "id": "jTx6709Sc4hD"
      },
      "source": [
        "# **Plotting the stats for the teams that have performed well in world cups**"
      ]
    },
    {
      "cell_type": "code",
      "execution_count": 10,
      "metadata": {
        "colab": {
          "base_uri": "https://localhost:8080/",
          "height": 329
        },
        "id": "hsxnFPgtdLrZ",
        "outputId": "8a0d7349-5aab-4a85-b1fa-7fea7902acef"
      },
      "outputs": [
        {
          "data": {
            "image/png": "[encoded data removed]",
            "text/plain": [
              "<Figure size 2000x500 with 1 Axes>"
            ]
          },
          "metadata": {},
          "output_type": "display_data"
        }
      ],
      "source": [
        "# Set the figure size for the bar plot using Seaborn\n",
        "sns.set(rc={'figure.figsize':(20, 5)})\n",
        "\n",
        "# Create a bar plot using Seaborn\n",
        "sns.barplot(x='Team_name', y='WC_match_won', data=world_cup)\n",
        "\n",
        "# Display the plot\n",
        "plt.show()\n"
      ]
    },
    {
      "cell_type": "code",
      "execution_count": 11,
      "metadata": {
        "id": "WwiMM7GomtPY"
      },
      "outputs": [],
      "source": [
        "rankings = pd.read_csv(\"../datasets/Icc_ranking.csv\")"
      ]
    },
    {
      "cell_type": "code",
      "execution_count": 12,
      "metadata": {
        "colab": {
          "base_uri": "https://localhost:8080/",
          "height": 328
        },
        "id": "5JlyTNN9mwOk",
        "outputId": "04288d21-5433-4453-e244-f102d0689a96"
      },
      "outputs": [
        {
          "data": {
            "image/png": "[encoded data removed]",
            "text/plain": [
              "<Figure size 2000x500 with 1 Axes>"
            ]
          },
          "metadata": {},
          "output_type": "display_data"
        }
      ],
      "source": [
        "# Set the figure size for the bar plot using Seaborn\n",
        "sns.set(rc={'figure.figsize':(20, 5)})\n",
        "\n",
        "# Create a bar plot using Seaborn to display recent ratings of teams\n",
        "sns.barplot(x='Team_name', y='Rating', data=rankings)\n",
        "\n",
        "# Display the plot\n",
        "plt.show()\n"
      ]
    },
    {
      "cell_type": "markdown",
      "metadata": {
        "id": "CT33l-8VktBj"
      },
      "source": [
        "# **Top 2 Teams in ICC rankings **"
      ]
    },
    {
      "cell_type": "code",
      "execution_count": 13,
      "metadata": {
        "colab": {
          "base_uri": "https://localhost:8080/",
          "height": 206
        },
        "id": "7L7Fr_YJky7O",
        "outputId": "7c56480c-b664-425a-d8c1-fb254c068e96"
      },
      "outputs": [
        {
          "data": {
            "text/html": [
              "<div>\n",
              "<style scoped>\n",
              "    .dataframe tbody tr th:only-of-type {\n",
              "        vertical-align: middle;\n",
              "    }\n",
              "\n",
              "    .dataframe tbody tr th {\n",
              "        vertical-align: top;\n",
              "    }\n",
              "\n",
              "    .dataframe thead th {\n",
              "        text-align: right;\n",
              "    }\n",
              "</style>\n",
              "<table border=\"1\" class=\"dataframe\">\n",
              "  <thead>\n",
              "    <tr style=\"text-align: right;\">\n",
              "      <th></th>\n",
              "      <th>Team_1</th>\n",
              "      <th>Team_2</th>\n",
              "      <th>Winner</th>\n",
              "      <th>Ground</th>\n",
              "      <th>1</th>\n",
              "    </tr>\n",
              "  </thead>\n",
              "  <tbody>\n",
              "    <tr>\n",
              "      <th>3</th>\n",
              "      <td>Australia</td>\n",
              "      <td>India</td>\n",
              "      <td>Australia</td>\n",
              "      <td>Sydney Cricket Ground</td>\n",
              "      <td>377</td>\n",
              "    </tr>\n",
              "    <tr>\n",
              "      <th>4</th>\n",
              "      <td>Australia</td>\n",
              "      <td>India</td>\n",
              "      <td>India</td>\n",
              "      <td>Adelaide Oval</td>\n",
              "      <td>378</td>\n",
              "    </tr>\n",
              "    <tr>\n",
              "      <th>5</th>\n",
              "      <td>Australia</td>\n",
              "      <td>India</td>\n",
              "      <td>India</td>\n",
              "      <td>Melbourne Cricket Ground</td>\n",
              "      <td>379</td>\n",
              "    </tr>\n",
              "    <tr>\n",
              "      <th>8</th>\n",
              "      <td>New Zealand</td>\n",
              "      <td>India</td>\n",
              "      <td>India</td>\n",
              "      <td>McLean Park</td>\n",
              "      <td>382</td>\n",
              "    </tr>\n",
              "    <tr>\n",
              "      <th>10</th>\n",
              "      <td>New Zealand</td>\n",
              "      <td>India</td>\n",
              "      <td>India</td>\n",
              "      <td>Bay Oval</td>\n",
              "      <td>384</td>\n",
              "    </tr>\n",
              "  </tbody>\n",
              "</table>\n",
              "</div>"
            ],
            "text/plain": [
              "          Team_1 Team_2     Winner                    Ground    1\n",
              "3     Australia   India  Australia     Sydney Cricket Ground  377\n",
              "4     Australia   India     India              Adelaide Oval  378\n",
              "5     Australia   India     India   Melbourne Cricket Ground  379\n",
              "8   New Zealand   India     India                McLean Park  382\n",
              "10  New Zealand   India     India                   Bay Oval  384"
            ]
          },
          "execution_count": 13,
          "metadata": {},
          "output_type": "execute_result"
        }
      ],
      "source": [
        "# Filter the 'results' DataFrame to include rows where India played either as Team_1 or Team_2\n",
        "df = completeODIhistory[(completeODIhistory['Team_1'] == 'India') | (completeODIhistory['Team_2'] == 'India')]\n",
        "\n",
        "# Create a new DataFrame 'India' containing all rows from the filtered DataFrame\n",
        "India = df.iloc[:]\n",
        "\n",
        "# Display the first few rows of the 'India' DataFrame\n",
        "India.head()\n"
      ]
    },
    {
      "cell_type": "code",
      "execution_count": 14,
      "metadata": {
        "id": "ajIzN3hdEFiW"
      },
      "outputs": [],
      "source": [
        "India_win = India[India['Winner']=='India']"
      ]
    },
    {
      "cell_type": "markdown",
      "metadata": {
        "id": "jaHKPnxEEbIS"
      },
      "source": [
        "# **No of wins of India in odi against other teams**"
      ]
    },
    {
      "cell_type": "code",
      "execution_count": 15,
      "metadata": {
        "colab": {
          "base_uri": "https://localhost:8080/",
          "height": 450
        },
        "id": "UuFGkVlcEazE",
        "outputId": "aa8e2151-2b1d-40d2-d41f-fae5afe61044"
      },
      "outputs": [
        {
          "data": {
            "image/png": "[encoded data removed]",
            "text/plain": [
              "<Figure size 800x500 with 1 Axes>"
            ]
          },
          "metadata": {},
          "output_type": "display_data"
        }
      ],
      "source": [
        "# Exclude Team India's name\n",
        "excluded_value = 'India'\n",
        "\n",
        "# Filtering out rows with the excluded value\n",
        "filtered_df = India_win[India_win['Team_2'] != excluded_value]\n",
        "# Plotting a bar chart to show the top 5 opponents faced by India.\n",
        "plt.figure(figsize=(8, 5))\n",
        "plt.bar(list(filtered_df['Team_2'].value_counts()[0:5].keys()), list(filtered_df['Team_2'].value_counts()[0:5]), color=\"b\")\n",
        "plt.show()\n"
      ]
    },
    {
      "cell_type": "code",
      "execution_count": 16,
      "metadata": {
        "colab": {
          "base_uri": "https://localhost:8080/",
          "height": 450
        },
        "id": "oKZ1lehFEifc",
        "outputId": "5a6d03e3-28c2-4e85-a7d6-e3b1e864e970"
      },
      "outputs": [
        {
          "data": {
            "image/png": "[encoded data removed]",
            "text/plain": [
              "<Figure size 800x500 with 1 Axes>"
            ]
          },
          "metadata": {},
          "output_type": "display_data"
        }
      ],
      "source": [
        "# Exclude Team India's name\n",
        "excluded_value = 'India'\n",
        "\n",
        "# Filtering out rows with the excluded value\n",
        "filtered_df = India_win[India_win['Team_1'] != excluded_value]\n",
        "# Plotting a bar chart to show the top 5 opponents faced by India.\n",
        "plt.figure(figsize=(8, 5))\n",
        "plt.bar(list(filtered_df['Team_1'].value_counts()[0:5].keys()), list(filtered_df['Team_1'].value_counts()[0:5]), color=\"b\")\n",
        "plt.show()\n"
      ]
    },
    {
      "cell_type": "markdown",
      "metadata": {
        "id": "DCmlg3m5qNwC"
      },
      "source": [
        "# **No of wins of Australia in odi against other teams**"
      ]
    },
    {
      "cell_type": "code",
      "execution_count": 17,
      "metadata": {
        "colab": {
          "base_uri": "https://localhost:8080/",
          "height": 206
        },
        "id": "ZtGmN_RLFZPO",
        "outputId": "6989b98e-a2a0-4a90-ad05-8a05da026485"
      },
      "outputs": [
        {
          "data": {
            "text/html": [
              "<div>\n",
              "<style scoped>\n",
              "    .dataframe tbody tr th:only-of-type {\n",
              "        vertical-align: middle;\n",
              "    }\n",
              "\n",
              "    .dataframe tbody tr th {\n",
              "        vertical-align: top;\n",
              "    }\n",
              "\n",
              "    .dataframe thead th {\n",
              "        text-align: right;\n",
              "    }\n",
              "</style>\n",
              "<table border=\"1\" class=\"dataframe\">\n",
              "  <thead>\n",
              "    <tr style=\"text-align: right;\">\n",
              "      <th></th>\n",
              "      <th>Team_1</th>\n",
              "      <th>Team_2</th>\n",
              "      <th>Winner</th>\n",
              "      <th>Ground</th>\n",
              "      <th>1</th>\n",
              "    </tr>\n",
              "  </thead>\n",
              "  <tbody>\n",
              "    <tr>\n",
              "      <th>25</th>\n",
              "      <td>India</td>\n",
              "      <td>Australia</td>\n",
              "      <td>India</td>\n",
              "      <td>Rajiv Gandhi International Stadium</td>\n",
              "      <td>399</td>\n",
              "    </tr>\n",
              "    <tr>\n",
              "      <th>28</th>\n",
              "      <td>India</td>\n",
              "      <td>Australia</td>\n",
              "      <td>India</td>\n",
              "      <td>Vidarbha Cricket Association Stadium</td>\n",
              "      <td>402</td>\n",
              "    </tr>\n",
              "    <tr>\n",
              "      <th>31</th>\n",
              "      <td>India</td>\n",
              "      <td>Australia</td>\n",
              "      <td>Australia</td>\n",
              "      <td>JSCA International Stadium Complex</td>\n",
              "      <td>405</td>\n",
              "    </tr>\n",
              "    <tr>\n",
              "      <th>34</th>\n",
              "      <td>India</td>\n",
              "      <td>Australia</td>\n",
              "      <td>Australia</td>\n",
              "      <td>Punjab Cricket Association IS Bindra Stadium</td>\n",
              "      <td>408</td>\n",
              "    </tr>\n",
              "    <tr>\n",
              "      <th>37</th>\n",
              "      <td>India</td>\n",
              "      <td>Australia</td>\n",
              "      <td>Australia</td>\n",
              "      <td>Arun Jaitley Stadium</td>\n",
              "      <td>411</td>\n",
              "    </tr>\n",
              "  </tbody>\n",
              "</table>\n",
              "</div>"
            ],
            "text/plain": [
              "     Team_1     Team_2     Winner   \n",
              "25  India    Australia      India  \\\n",
              "28   India   Australia      India   \n",
              "31   India   Australia  Australia   \n",
              "34   India   Australia  Australia   \n",
              "37   India   Australia  Australia   \n",
              "\n",
              "                                          Ground    1  \n",
              "25            Rajiv Gandhi International Stadium  399  \n",
              "28          Vidarbha Cricket Association Stadium  402  \n",
              "31            JSCA International Stadium Complex  405  \n",
              "34  Punjab Cricket Association IS Bindra Stadium  408  \n",
              "37                          Arun Jaitley Stadium  411  "
            ]
          },
          "execution_count": 17,
          "metadata": {},
          "output_type": "execute_result"
        }
      ],
      "source": [
        "# Filter the 'results' DataFrame to include rows where India played either as Team_1 or Team_2\n",
        "df = completeODIhistory[(completeODIhistory['Team_1'] == 'Australia') | (completeODIhistory['Team_2'] == 'Australia')]\n",
        "\n",
        "# Create a new DataFrame 'India' containing all rows from the filtered DataFrame\n",
        "Australia = df.iloc[:]\n",
        "\n",
        "# Display the first few rows of the 'India' DataFrame\n",
        "Australia.head()\n"
      ]
    },
    {
      "cell_type": "code",
      "execution_count": 18,
      "metadata": {
        "id": "K_v5KPw0FfLg"
      },
      "outputs": [],
      "source": [
        "Australia_win = Australia[Australia['Winner']=='Australia']"
      ]
    },
    {
      "cell_type": "code",
      "execution_count": 19,
      "metadata": {
        "colab": {
          "base_uri": "https://localhost:8080/",
          "height": 450
        },
        "id": "1VQXidaWFGgk",
        "outputId": "f0ea137a-18dd-4cef-fad1-3815f81eed6d"
      },
      "outputs": [
        {
          "data": {
            "image/png": "[encoded data removed]",
            "text/plain": [
              "<Figure size 800x500 with 1 Axes>"
            ]
          },
          "metadata": {},
          "output_type": "display_data"
        }
      ],
      "source": [
        "# Exclude Team Australia's name\n",
        "excluded_value = 'Australia'\n",
        "\n",
        "# Filtering out rows with the excluded value\n",
        "filtered_df = Australia_win[Australia_win['Team_2'] != excluded_value]\n",
        "# Plotting a bar chart to show the top 5 opponents faced by India.\n",
        "plt.figure(figsize=(8, 5))\n",
        "plt.bar(list(filtered_df['Team_2'].value_counts()[0:5].keys()), list(filtered_df['Team_2'].value_counts()[0:5]), color=\"b\")\n",
        "plt.show()\n"
      ]
    },
    {
      "cell_type": "code",
      "execution_count": 20,
      "metadata": {
        "colab": {
          "base_uri": "https://localhost:8080/",
          "height": 485
        },
        "id": "P2P18YHPGGXy",
        "outputId": "39803e75-0071-4715-f3a0-032c91d2dfbc"
      },
      "outputs": [
        {
          "name": "stderr",
          "output_type": "stream",
          "text": [
            "C:\\Users\\YASH\\AppData\\Local\\Temp\\ipykernel_11408\\3837276112.py:5: UserWarning: Boolean Series key will be reindexed to match DataFrame index.\n",
            "  filtered_df = Australia_win[Australia['Team_1'] != excluded_value]\n"
          ]
        },
        {
          "data": {
            "image/png": "[encoded data removed]",
            "text/plain": [
              "<Figure size 800x500 with 1 Axes>"
            ]
          },
          "metadata": {},
          "output_type": "display_data"
        }
      ],
      "source": [
        "# Exclude Team India's name\n",
        "excluded_value = 'Australia'\n",
        "\n",
        "# Filtering out rows with the excluded value\n",
        "filtered_df = Australia_win[Australia['Team_1'] != excluded_value]\n",
        "# Plotting a bar chart to show the top 5 opponents faced by India.\n",
        "plt.figure(figsize=(8, 5))\n",
        "plt.bar(list(filtered_df['Team_1'].value_counts()[0:5].keys()), list(filtered_df['Team_1'].value_counts()[0:5]), color=\"b\")\n",
        "plt.show()\n"
      ]
    },
    {
      "cell_type": "markdown",
      "metadata": {
        "id": "QlQFXw9nFHM7"
      },
      "source": [
        "# **Removing the abondonded or no result games**"
      ]
    },
    {
      "cell_type": "code",
      "execution_count": 21,
      "metadata": {
        "id": "-UmubmvPcQDh"
      },
      "outputs": [],
      "source": [
        "# Removing rows with 'Match abandoned' and 'No result' from the 'results' DataFrame.\"\n",
        "completeODIhistory.drop(completeODIhistory[(completeODIhistory['Winner'] == 'Match abandoned' )].index, inplace=True)\n",
        "completeODIhistory.drop(completeODIhistory[(completeODIhistory['Winner'] == 'No result' )].index, inplace=True)"
      ]
    },
    {
      "cell_type": "code",
      "execution_count": 22,
      "metadata": {
        "id": "CbO5FHuncajL"
      },
      "outputs": [],
      "source": [
        "world_cup_qualified_teams = [\"India\", \"Australia\",\"England\", \"New Zealand\", \"Pakistan\", \"Srilanka\", \"Netherlands\",\"Afghanistan\",\"South Africa\",\"Bangladesh\"]"
      ]
    },
    {
      "cell_type": "code",
      "execution_count": 23,
      "metadata": {
        "id": "sfxjYV9coNik"
      },
      "outputs": [],
      "source": [
        "#Filtering the teams which are qualified for the world cups from completeODIhistory\n",
        "team1_wc = completeODIhistory[completeODIhistory[\"Team_1\"].isin(world_cup_qualified_teams)]\n",
        "team2_wc = completeODIhistory[completeODIhistory[\"Team_2\"].isin(world_cup_qualified_teams)]\n"
      ]
    },
    {
      "cell_type": "code",
      "execution_count": 24,
      "metadata": {
        "colab": {
          "base_uri": "https://localhost:8080/",
          "height": 423
        },
        "id": "_lrX0RPUpHQ8",
        "outputId": "be314bcb-b980-4be6-b5bb-4a2ec5fc9099"
      },
      "outputs": [
        {
          "data": {
            "text/html": [
              "<div>\n",
              "<style scoped>\n",
              "    .dataframe tbody tr th:only-of-type {\n",
              "        vertical-align: middle;\n",
              "    }\n",
              "\n",
              "    .dataframe tbody tr th {\n",
              "        vertical-align: top;\n",
              "    }\n",
              "\n",
              "    .dataframe thead th {\n",
              "        text-align: right;\n",
              "    }\n",
              "</style>\n",
              "<table border=\"1\" class=\"dataframe\">\n",
              "  <thead>\n",
              "    <tr style=\"text-align: right;\">\n",
              "      <th></th>\n",
              "      <th>Team_1</th>\n",
              "      <th>Team_2</th>\n",
              "      <th>Winner</th>\n",
              "      <th>Ground</th>\n",
              "      <th>1</th>\n",
              "    </tr>\n",
              "  </thead>\n",
              "  <tbody>\n",
              "    <tr>\n",
              "      <th>0</th>\n",
              "      <td>New Zealand</td>\n",
              "      <td>Sri Lanka</td>\n",
              "      <td>New Zealand</td>\n",
              "      <td>Bay Oval</td>\n",
              "      <td>374</td>\n",
              "    </tr>\n",
              "    <tr>\n",
              "      <th>1</th>\n",
              "      <td>South Africa</td>\n",
              "      <td>Pakistan</td>\n",
              "      <td>South Africa</td>\n",
              "      <td>SuperSport Park</td>\n",
              "      <td>383</td>\n",
              "    </tr>\n",
              "    <tr>\n",
              "      <th>2</th>\n",
              "      <td>New Zealand</td>\n",
              "      <td>Bangladesh</td>\n",
              "      <td>New Zealand</td>\n",
              "      <td>Hagley Oval</td>\n",
              "      <td>391</td>\n",
              "    </tr>\n",
              "    <tr>\n",
              "      <th>3</th>\n",
              "      <td>Pakistan</td>\n",
              "      <td>Australia</td>\n",
              "      <td>Australia</td>\n",
              "      <td>Sheikh Zayed Stadium</td>\n",
              "      <td>415</td>\n",
              "    </tr>\n",
              "    <tr>\n",
              "      <th>4</th>\n",
              "      <td>England</td>\n",
              "      <td>Pakistan</td>\n",
              "      <td>England</td>\n",
              "      <td>The Rose Bowl</td>\n",
              "      <td>425</td>\n",
              "    </tr>\n",
              "    <tr>\n",
              "      <th>...</th>\n",
              "      <td>...</td>\n",
              "      <td>...</td>\n",
              "      <td>...</td>\n",
              "      <td>...</td>\n",
              "      <td>...</td>\n",
              "    </tr>\n",
              "    <tr>\n",
              "      <th>353</th>\n",
              "      <td>Sri Lanka</td>\n",
              "      <td>Bangladesh</td>\n",
              "      <td>Sri Lanka</td>\n",
              "      <td>Pallekele</td>\n",
              "      <td>731</td>\n",
              "    </tr>\n",
              "    <tr>\n",
              "      <th>354</th>\n",
              "      <td>Sri Lanka</td>\n",
              "      <td>Bangladesh</td>\n",
              "      <td>Sri Lanka</td>\n",
              "      <td>Colombo (RPS)</td>\n",
              "      <td>738</td>\n",
              "    </tr>\n",
              "    <tr>\n",
              "      <th>355</th>\n",
              "      <td>Sri Lanka</td>\n",
              "      <td>India</td>\n",
              "      <td>India</td>\n",
              "      <td>Colombo (RPS)</td>\n",
              "      <td>742</td>\n",
              "    </tr>\n",
              "    <tr>\n",
              "      <th>356</th>\n",
              "      <td>Sri Lanka</td>\n",
              "      <td>Pakistan</td>\n",
              "      <td>Sri Lanka</td>\n",
              "      <td>Colombo (RPS)</td>\n",
              "      <td>745</td>\n",
              "    </tr>\n",
              "    <tr>\n",
              "      <th>357</th>\n",
              "      <td>Sri Lanka</td>\n",
              "      <td>India</td>\n",
              "      <td>India</td>\n",
              "      <td>Colombo (RPS)</td>\n",
              "      <td>750</td>\n",
              "    </tr>\n",
              "  </tbody>\n",
              "</table>\n",
              "<p>358 rows × 5 columns</p>\n",
              "</div>"
            ],
            "text/plain": [
              "           Team_1      Team_2         Winner                Ground    1\n",
              "0     New Zealand   Sri Lanka    New Zealand              Bay Oval  374\n",
              "1    South Africa    Pakistan  South Africa        SuperSport Park  383\n",
              "2     New Zealand  Bangladesh    New Zealand           Hagley Oval  391\n",
              "3        Pakistan   Australia      Australia  Sheikh Zayed Stadium  415\n",
              "4         England    Pakistan        England         The Rose Bowl  425\n",
              "..            ...         ...            ...                   ...  ...\n",
              "353     Sri Lanka  Bangladesh      Sri Lanka             Pallekele  731\n",
              "354     Sri Lanka  Bangladesh      Sri Lanka         Colombo (RPS)  738\n",
              "355     Sri Lanka       India          India         Colombo (RPS)  742\n",
              "356     Sri Lanka    Pakistan      Sri Lanka         Colombo (RPS)  745\n",
              "357     Sri Lanka       India          India         Colombo (RPS)  750\n",
              "\n",
              "[358 rows x 5 columns]"
            ]
          },
          "execution_count": 24,
          "metadata": {},
          "output_type": "execute_result"
        }
      ],
      "source": [
        "teams = pd.concat((team1_wc,team2_wc))\n",
        "teams = teams.drop_duplicates()\n",
        "teams.reset_index(drop=True)"
      ]
    },
    {
      "cell_type": "code",
      "execution_count": 25,
      "metadata": {
        "id": "u0T5XPYznXDu"
      },
      "outputs": [],
      "source": [
        "teams.drop(['1','Ground'],axis=1,inplace=True)"
      ]
    },
    {
      "cell_type": "code",
      "execution_count": 26,
      "metadata": {
        "id": "4JSmfYyBoBxS"
      },
      "outputs": [],
      "source": [
        "from sklearn.model_selection import train_test_split"
      ]
    },
    {
      "cell_type": "code",
      "execution_count": 27,
      "metadata": {
        "id": "BCwzOTD4oGwi"
      },
      "outputs": [],
      "source": [
        "teams_final = pd.get_dummies(teams, prefix=['Team_1', 'Team_2'], columns=['Team_1', 'Team_2'])"
      ]
    },
    {
      "cell_type": "code",
      "execution_count": 28,
      "metadata": {
        "colab": {
          "base_uri": "https://localhost:8080/",
          "height": 565
        },
        "id": "ETMlUSa3qrie",
        "outputId": "e483156c-7b14-48a7-9d51-b9f7f3146f66"
      },
      "outputs": [
        {
          "data": {
            "text/html": [
              "<div>\n",
              "<style scoped>\n",
              "    .dataframe tbody tr th:only-of-type {\n",
              "        vertical-align: middle;\n",
              "    }\n",
              "\n",
              "    .dataframe tbody tr th {\n",
              "        vertical-align: top;\n",
              "    }\n",
              "\n",
              "    .dataframe thead th {\n",
              "        text-align: right;\n",
              "    }\n",
              "</style>\n",
              "<table border=\"1\" class=\"dataframe\">\n",
              "  <thead>\n",
              "    <tr style=\"text-align: right;\">\n",
              "      <th></th>\n",
              "      <th>Winner</th>\n",
              "      <th>Team_1_Afghanistan</th>\n",
              "      <th>Team_1_Afghanistan</th>\n",
              "      <th>Team_1_Australia</th>\n",
              "      <th>Team_1_Australia</th>\n",
              "      <th>Team_1_Bangladesh</th>\n",
              "      <th>Team_1_Bangladesh</th>\n",
              "      <th>Team_1_England</th>\n",
              "      <th>Team_1_England</th>\n",
              "      <th>Team_1_India</th>\n",
              "      <th>...</th>\n",
              "      <th>Team_2_Nepal</th>\n",
              "      <th>Team_2_Netherlands</th>\n",
              "      <th>Team_2_New Zealand</th>\n",
              "      <th>Team_2_Oman</th>\n",
              "      <th>Team_2_Pakistan</th>\n",
              "      <th>Team_2_Scotland</th>\n",
              "      <th>Team_2_South Africa</th>\n",
              "      <th>Team_2_Sri Lanka</th>\n",
              "      <th>Team_2_West Indies</th>\n",
              "      <th>Team_2_Zimbabwe</th>\n",
              "    </tr>\n",
              "  </thead>\n",
              "  <tbody>\n",
              "    <tr>\n",
              "      <th>0</th>\n",
              "      <td>New Zealand</td>\n",
              "      <td>False</td>\n",
              "      <td>False</td>\n",
              "      <td>False</td>\n",
              "      <td>False</td>\n",
              "      <td>False</td>\n",
              "      <td>False</td>\n",
              "      <td>False</td>\n",
              "      <td>False</td>\n",
              "      <td>False</td>\n",
              "      <td>...</td>\n",
              "      <td>False</td>\n",
              "      <td>False</td>\n",
              "      <td>False</td>\n",
              "      <td>False</td>\n",
              "      <td>False</td>\n",
              "      <td>False</td>\n",
              "      <td>False</td>\n",
              "      <td>True</td>\n",
              "      <td>False</td>\n",
              "      <td>False</td>\n",
              "    </tr>\n",
              "    <tr>\n",
              "      <th>9</th>\n",
              "      <td>South Africa</td>\n",
              "      <td>False</td>\n",
              "      <td>False</td>\n",
              "      <td>False</td>\n",
              "      <td>False</td>\n",
              "      <td>False</td>\n",
              "      <td>False</td>\n",
              "      <td>False</td>\n",
              "      <td>False</td>\n",
              "      <td>False</td>\n",
              "      <td>...</td>\n",
              "      <td>False</td>\n",
              "      <td>False</td>\n",
              "      <td>False</td>\n",
              "      <td>False</td>\n",
              "      <td>True</td>\n",
              "      <td>False</td>\n",
              "      <td>False</td>\n",
              "      <td>False</td>\n",
              "      <td>False</td>\n",
              "      <td>False</td>\n",
              "    </tr>\n",
              "    <tr>\n",
              "      <th>17</th>\n",
              "      <td>New Zealand</td>\n",
              "      <td>False</td>\n",
              "      <td>False</td>\n",
              "      <td>False</td>\n",
              "      <td>False</td>\n",
              "      <td>False</td>\n",
              "      <td>False</td>\n",
              "      <td>False</td>\n",
              "      <td>False</td>\n",
              "      <td>False</td>\n",
              "      <td>...</td>\n",
              "      <td>False</td>\n",
              "      <td>False</td>\n",
              "      <td>False</td>\n",
              "      <td>False</td>\n",
              "      <td>False</td>\n",
              "      <td>False</td>\n",
              "      <td>False</td>\n",
              "      <td>False</td>\n",
              "      <td>False</td>\n",
              "      <td>False</td>\n",
              "    </tr>\n",
              "    <tr>\n",
              "      <th>41</th>\n",
              "      <td>Australia</td>\n",
              "      <td>False</td>\n",
              "      <td>False</td>\n",
              "      <td>False</td>\n",
              "      <td>False</td>\n",
              "      <td>False</td>\n",
              "      <td>False</td>\n",
              "      <td>False</td>\n",
              "      <td>False</td>\n",
              "      <td>False</td>\n",
              "      <td>...</td>\n",
              "      <td>False</td>\n",
              "      <td>False</td>\n",
              "      <td>False</td>\n",
              "      <td>False</td>\n",
              "      <td>False</td>\n",
              "      <td>False</td>\n",
              "      <td>False</td>\n",
              "      <td>False</td>\n",
              "      <td>False</td>\n",
              "      <td>False</td>\n",
              "    </tr>\n",
              "    <tr>\n",
              "      <th>51</th>\n",
              "      <td>England</td>\n",
              "      <td>False</td>\n",
              "      <td>False</td>\n",
              "      <td>False</td>\n",
              "      <td>False</td>\n",
              "      <td>False</td>\n",
              "      <td>False</td>\n",
              "      <td>True</td>\n",
              "      <td>False</td>\n",
              "      <td>False</td>\n",
              "      <td>...</td>\n",
              "      <td>False</td>\n",
              "      <td>False</td>\n",
              "      <td>False</td>\n",
              "      <td>False</td>\n",
              "      <td>True</td>\n",
              "      <td>False</td>\n",
              "      <td>False</td>\n",
              "      <td>False</td>\n",
              "      <td>False</td>\n",
              "      <td>False</td>\n",
              "    </tr>\n",
              "    <tr>\n",
              "      <th>...</th>\n",
              "      <td>...</td>\n",
              "      <td>...</td>\n",
              "      <td>...</td>\n",
              "      <td>...</td>\n",
              "      <td>...</td>\n",
              "      <td>...</td>\n",
              "      <td>...</td>\n",
              "      <td>...</td>\n",
              "      <td>...</td>\n",
              "      <td>...</td>\n",
              "      <td>...</td>\n",
              "      <td>...</td>\n",
              "      <td>...</td>\n",
              "      <td>...</td>\n",
              "      <td>...</td>\n",
              "      <td>...</td>\n",
              "      <td>...</td>\n",
              "      <td>...</td>\n",
              "      <td>...</td>\n",
              "      <td>...</td>\n",
              "      <td>...</td>\n",
              "    </tr>\n",
              "    <tr>\n",
              "      <th>357</th>\n",
              "      <td>Sri Lanka</td>\n",
              "      <td>False</td>\n",
              "      <td>False</td>\n",
              "      <td>False</td>\n",
              "      <td>False</td>\n",
              "      <td>False</td>\n",
              "      <td>False</td>\n",
              "      <td>False</td>\n",
              "      <td>False</td>\n",
              "      <td>False</td>\n",
              "      <td>...</td>\n",
              "      <td>False</td>\n",
              "      <td>False</td>\n",
              "      <td>False</td>\n",
              "      <td>False</td>\n",
              "      <td>False</td>\n",
              "      <td>False</td>\n",
              "      <td>False</td>\n",
              "      <td>False</td>\n",
              "      <td>False</td>\n",
              "      <td>False</td>\n",
              "    </tr>\n",
              "    <tr>\n",
              "      <th>364</th>\n",
              "      <td>Sri Lanka</td>\n",
              "      <td>False</td>\n",
              "      <td>False</td>\n",
              "      <td>False</td>\n",
              "      <td>False</td>\n",
              "      <td>False</td>\n",
              "      <td>False</td>\n",
              "      <td>False</td>\n",
              "      <td>False</td>\n",
              "      <td>False</td>\n",
              "      <td>...</td>\n",
              "      <td>False</td>\n",
              "      <td>False</td>\n",
              "      <td>False</td>\n",
              "      <td>False</td>\n",
              "      <td>False</td>\n",
              "      <td>False</td>\n",
              "      <td>False</td>\n",
              "      <td>False</td>\n",
              "      <td>False</td>\n",
              "      <td>False</td>\n",
              "    </tr>\n",
              "    <tr>\n",
              "      <th>368</th>\n",
              "      <td>India</td>\n",
              "      <td>False</td>\n",
              "      <td>False</td>\n",
              "      <td>False</td>\n",
              "      <td>False</td>\n",
              "      <td>False</td>\n",
              "      <td>False</td>\n",
              "      <td>False</td>\n",
              "      <td>False</td>\n",
              "      <td>False</td>\n",
              "      <td>...</td>\n",
              "      <td>False</td>\n",
              "      <td>False</td>\n",
              "      <td>False</td>\n",
              "      <td>False</td>\n",
              "      <td>False</td>\n",
              "      <td>False</td>\n",
              "      <td>False</td>\n",
              "      <td>False</td>\n",
              "      <td>False</td>\n",
              "      <td>False</td>\n",
              "    </tr>\n",
              "    <tr>\n",
              "      <th>371</th>\n",
              "      <td>Sri Lanka</td>\n",
              "      <td>False</td>\n",
              "      <td>False</td>\n",
              "      <td>False</td>\n",
              "      <td>False</td>\n",
              "      <td>False</td>\n",
              "      <td>False</td>\n",
              "      <td>False</td>\n",
              "      <td>False</td>\n",
              "      <td>False</td>\n",
              "      <td>...</td>\n",
              "      <td>False</td>\n",
              "      <td>False</td>\n",
              "      <td>False</td>\n",
              "      <td>False</td>\n",
              "      <td>True</td>\n",
              "      <td>False</td>\n",
              "      <td>False</td>\n",
              "      <td>False</td>\n",
              "      <td>False</td>\n",
              "      <td>False</td>\n",
              "    </tr>\n",
              "    <tr>\n",
              "      <th>376</th>\n",
              "      <td>India</td>\n",
              "      <td>False</td>\n",
              "      <td>False</td>\n",
              "      <td>False</td>\n",
              "      <td>False</td>\n",
              "      <td>False</td>\n",
              "      <td>False</td>\n",
              "      <td>False</td>\n",
              "      <td>False</td>\n",
              "      <td>False</td>\n",
              "      <td>...</td>\n",
              "      <td>False</td>\n",
              "      <td>False</td>\n",
              "      <td>False</td>\n",
              "      <td>False</td>\n",
              "      <td>False</td>\n",
              "      <td>False</td>\n",
              "      <td>False</td>\n",
              "      <td>False</td>\n",
              "      <td>False</td>\n",
              "      <td>False</td>\n",
              "    </tr>\n",
              "  </tbody>\n",
              "</table>\n",
              "<p>358 rows × 44 columns</p>\n",
              "</div>"
            ],
            "text/plain": [
              "            Winner  Team_1_Afghanistan  Team_1_Afghanistan   Team_1_Australia   \n",
              "0      New Zealand               False                False             False  \\\n",
              "9    South Africa                False                False             False   \n",
              "17     New Zealand               False                False             False   \n",
              "41       Australia               False                False             False   \n",
              "51         England               False                False             False   \n",
              "..             ...                 ...                  ...               ...   \n",
              "357      Sri Lanka               False                False             False   \n",
              "364      Sri Lanka               False                False             False   \n",
              "368          India               False                False             False   \n",
              "371      Sri Lanka               False                False             False   \n",
              "376          India               False                False             False   \n",
              "\n",
              "     Team_1_Australia   Team_1_Bangladesh  Team_1_Bangladesh   Team_1_England   \n",
              "0                False              False               False           False  \\\n",
              "9                False              False               False           False   \n",
              "17               False              False               False           False   \n",
              "41               False              False               False           False   \n",
              "51               False              False               False            True   \n",
              "..                 ...                ...                 ...             ...   \n",
              "357              False              False               False           False   \n",
              "364              False              False               False           False   \n",
              "368              False              False               False           False   \n",
              "371              False              False               False           False   \n",
              "376              False              False               False           False   \n",
              "\n",
              "     Team_1_England   Team_1_India  ...  Team_2_Nepal  Team_2_Netherlands   \n",
              "0              False         False  ...         False               False  \\\n",
              "9              False         False  ...         False               False   \n",
              "17             False         False  ...         False               False   \n",
              "41             False         False  ...         False               False   \n",
              "51             False         False  ...         False               False   \n",
              "..               ...           ...  ...           ...                 ...   \n",
              "357            False         False  ...         False               False   \n",
              "364            False         False  ...         False               False   \n",
              "368            False         False  ...         False               False   \n",
              "371            False         False  ...         False               False   \n",
              "376            False         False  ...         False               False   \n",
              "\n",
              "     Team_2_New Zealand  Team_2_Oman  Team_2_Pakistan  Team_2_Scotland   \n",
              "0                 False        False            False            False  \\\n",
              "9                 False        False             True            False   \n",
              "17                False        False            False            False   \n",
              "41                False        False            False            False   \n",
              "51                False        False             True            False   \n",
              "..                  ...          ...              ...              ...   \n",
              "357               False        False            False            False   \n",
              "364               False        False            False            False   \n",
              "368               False        False            False            False   \n",
              "371               False        False             True            False   \n",
              "376               False        False            False            False   \n",
              "\n",
              "     Team_2_South Africa  Team_2_Sri Lanka  Team_2_West Indies   \n",
              "0                  False              True               False  \\\n",
              "9                  False             False               False   \n",
              "17                 False             False               False   \n",
              "41                 False             False               False   \n",
              "51                 False             False               False   \n",
              "..                   ...               ...                 ...   \n",
              "357                False             False               False   \n",
              "364                False             False               False   \n",
              "368                False             False               False   \n",
              "371                False             False               False   \n",
              "376                False             False               False   \n",
              "\n",
              "     Team_2_Zimbabwe  \n",
              "0              False  \n",
              "9              False  \n",
              "17             False  \n",
              "41             False  \n",
              "51             False  \n",
              "..               ...  \n",
              "357            False  \n",
              "364            False  \n",
              "368            False  \n",
              "371            False  \n",
              "376            False  \n",
              "\n",
              "[358 rows x 44 columns]"
            ]
          },
          "execution_count": 28,
          "metadata": {},
          "output_type": "execute_result"
        }
      ],
      "source": [
        "teams_final"
      ]
    },
    {
      "cell_type": "code",
      "execution_count": 29,
      "metadata": {
        "id": "06ExELj8qzHa"
      },
      "outputs": [],
      "source": [
        "#removing the duplicate columns\n",
        "teams_final.drop(teams_final.columns[[13,15,18]],axis=1, inplace=True)"
      ]
    },
    {
      "cell_type": "code",
      "execution_count": 30,
      "metadata": {
        "id": "xylSKwpWsZL3"
      },
      "outputs": [],
      "source": [
        "teams_final=  teams_final.reset_index(drop=True)"
      ]
    },
    {
      "cell_type": "code",
      "execution_count": 31,
      "metadata": {
        "colab": {
          "base_uri": "https://localhost:8080/",
          "height": 565
        },
        "id": "QcJt4NI6HAx_",
        "outputId": "ab675803-29c1-4124-e3ba-9c948873e6a6"
      },
      "outputs": [
        {
          "data": {
            "text/html": [
              "<div>\n",
              "<style scoped>\n",
              "    .dataframe tbody tr th:only-of-type {\n",
              "        vertical-align: middle;\n",
              "    }\n",
              "\n",
              "    .dataframe tbody tr th {\n",
              "        vertical-align: top;\n",
              "    }\n",
              "\n",
              "    .dataframe thead th {\n",
              "        text-align: right;\n",
              "    }\n",
              "</style>\n",
              "<table border=\"1\" class=\"dataframe\">\n",
              "  <thead>\n",
              "    <tr style=\"text-align: right;\">\n",
              "      <th></th>\n",
              "      <th>Winner</th>\n",
              "      <th>Team_1_Afghanistan</th>\n",
              "      <th>Team_1_Afghanistan</th>\n",
              "      <th>Team_1_Australia</th>\n",
              "      <th>Team_1_Australia</th>\n",
              "      <th>Team_1_Bangladesh</th>\n",
              "      <th>Team_1_Bangladesh</th>\n",
              "      <th>Team_1_England</th>\n",
              "      <th>Team_1_England</th>\n",
              "      <th>Team_1_India</th>\n",
              "      <th>...</th>\n",
              "      <th>Team_2_Nepal</th>\n",
              "      <th>Team_2_Netherlands</th>\n",
              "      <th>Team_2_New Zealand</th>\n",
              "      <th>Team_2_Oman</th>\n",
              "      <th>Team_2_Pakistan</th>\n",
              "      <th>Team_2_Scotland</th>\n",
              "      <th>Team_2_South Africa</th>\n",
              "      <th>Team_2_Sri Lanka</th>\n",
              "      <th>Team_2_West Indies</th>\n",
              "      <th>Team_2_Zimbabwe</th>\n",
              "    </tr>\n",
              "  </thead>\n",
              "  <tbody>\n",
              "    <tr>\n",
              "      <th>0</th>\n",
              "      <td>New Zealand</td>\n",
              "      <td>False</td>\n",
              "      <td>False</td>\n",
              "      <td>False</td>\n",
              "      <td>False</td>\n",
              "      <td>False</td>\n",
              "      <td>False</td>\n",
              "      <td>False</td>\n",
              "      <td>False</td>\n",
              "      <td>False</td>\n",
              "      <td>...</td>\n",
              "      <td>False</td>\n",
              "      <td>False</td>\n",
              "      <td>False</td>\n",
              "      <td>False</td>\n",
              "      <td>False</td>\n",
              "      <td>False</td>\n",
              "      <td>False</td>\n",
              "      <td>True</td>\n",
              "      <td>False</td>\n",
              "      <td>False</td>\n",
              "    </tr>\n",
              "    <tr>\n",
              "      <th>1</th>\n",
              "      <td>South Africa</td>\n",
              "      <td>False</td>\n",
              "      <td>False</td>\n",
              "      <td>False</td>\n",
              "      <td>False</td>\n",
              "      <td>False</td>\n",
              "      <td>False</td>\n",
              "      <td>False</td>\n",
              "      <td>False</td>\n",
              "      <td>False</td>\n",
              "      <td>...</td>\n",
              "      <td>False</td>\n",
              "      <td>False</td>\n",
              "      <td>False</td>\n",
              "      <td>False</td>\n",
              "      <td>True</td>\n",
              "      <td>False</td>\n",
              "      <td>False</td>\n",
              "      <td>False</td>\n",
              "      <td>False</td>\n",
              "      <td>False</td>\n",
              "    </tr>\n",
              "    <tr>\n",
              "      <th>2</th>\n",
              "      <td>New Zealand</td>\n",
              "      <td>False</td>\n",
              "      <td>False</td>\n",
              "      <td>False</td>\n",
              "      <td>False</td>\n",
              "      <td>False</td>\n",
              "      <td>False</td>\n",
              "      <td>False</td>\n",
              "      <td>False</td>\n",
              "      <td>False</td>\n",
              "      <td>...</td>\n",
              "      <td>False</td>\n",
              "      <td>False</td>\n",
              "      <td>False</td>\n",
              "      <td>False</td>\n",
              "      <td>False</td>\n",
              "      <td>False</td>\n",
              "      <td>False</td>\n",
              "      <td>False</td>\n",
              "      <td>False</td>\n",
              "      <td>False</td>\n",
              "    </tr>\n",
              "    <tr>\n",
              "      <th>3</th>\n",
              "      <td>Australia</td>\n",
              "      <td>False</td>\n",
              "      <td>False</td>\n",
              "      <td>False</td>\n",
              "      <td>False</td>\n",
              "      <td>False</td>\n",
              "      <td>False</td>\n",
              "      <td>False</td>\n",
              "      <td>False</td>\n",
              "      <td>False</td>\n",
              "      <td>...</td>\n",
              "      <td>False</td>\n",
              "      <td>False</td>\n",
              "      <td>False</td>\n",
              "      <td>False</td>\n",
              "      <td>False</td>\n",
              "      <td>False</td>\n",
              "      <td>False</td>\n",
              "      <td>False</td>\n",
              "      <td>False</td>\n",
              "      <td>False</td>\n",
              "    </tr>\n",
              "    <tr>\n",
              "      <th>4</th>\n",
              "      <td>England</td>\n",
              "      <td>False</td>\n",
              "      <td>False</td>\n",
              "      <td>False</td>\n",
              "      <td>False</td>\n",
              "      <td>False</td>\n",
              "      <td>False</td>\n",
              "      <td>True</td>\n",
              "      <td>False</td>\n",
              "      <td>False</td>\n",
              "      <td>...</td>\n",
              "      <td>False</td>\n",
              "      <td>False</td>\n",
              "      <td>False</td>\n",
              "      <td>False</td>\n",
              "      <td>True</td>\n",
              "      <td>False</td>\n",
              "      <td>False</td>\n",
              "      <td>False</td>\n",
              "      <td>False</td>\n",
              "      <td>False</td>\n",
              "    </tr>\n",
              "    <tr>\n",
              "      <th>...</th>\n",
              "      <td>...</td>\n",
              "      <td>...</td>\n",
              "      <td>...</td>\n",
              "      <td>...</td>\n",
              "      <td>...</td>\n",
              "      <td>...</td>\n",
              "      <td>...</td>\n",
              "      <td>...</td>\n",
              "      <td>...</td>\n",
              "      <td>...</td>\n",
              "      <td>...</td>\n",
              "      <td>...</td>\n",
              "      <td>...</td>\n",
              "      <td>...</td>\n",
              "      <td>...</td>\n",
              "      <td>...</td>\n",
              "      <td>...</td>\n",
              "      <td>...</td>\n",
              "      <td>...</td>\n",
              "      <td>...</td>\n",
              "      <td>...</td>\n",
              "    </tr>\n",
              "    <tr>\n",
              "      <th>353</th>\n",
              "      <td>Sri Lanka</td>\n",
              "      <td>False</td>\n",
              "      <td>False</td>\n",
              "      <td>False</td>\n",
              "      <td>False</td>\n",
              "      <td>False</td>\n",
              "      <td>False</td>\n",
              "      <td>False</td>\n",
              "      <td>False</td>\n",
              "      <td>False</td>\n",
              "      <td>...</td>\n",
              "      <td>False</td>\n",
              "      <td>False</td>\n",
              "      <td>False</td>\n",
              "      <td>False</td>\n",
              "      <td>False</td>\n",
              "      <td>False</td>\n",
              "      <td>False</td>\n",
              "      <td>False</td>\n",
              "      <td>False</td>\n",
              "      <td>False</td>\n",
              "    </tr>\n",
              "    <tr>\n",
              "      <th>354</th>\n",
              "      <td>Sri Lanka</td>\n",
              "      <td>False</td>\n",
              "      <td>False</td>\n",
              "      <td>False</td>\n",
              "      <td>False</td>\n",
              "      <td>False</td>\n",
              "      <td>False</td>\n",
              "      <td>False</td>\n",
              "      <td>False</td>\n",
              "      <td>False</td>\n",
              "      <td>...</td>\n",
              "      <td>False</td>\n",
              "      <td>False</td>\n",
              "      <td>False</td>\n",
              "      <td>False</td>\n",
              "      <td>False</td>\n",
              "      <td>False</td>\n",
              "      <td>False</td>\n",
              "      <td>False</td>\n",
              "      <td>False</td>\n",
              "      <td>False</td>\n",
              "    </tr>\n",
              "    <tr>\n",
              "      <th>355</th>\n",
              "      <td>India</td>\n",
              "      <td>False</td>\n",
              "      <td>False</td>\n",
              "      <td>False</td>\n",
              "      <td>False</td>\n",
              "      <td>False</td>\n",
              "      <td>False</td>\n",
              "      <td>False</td>\n",
              "      <td>False</td>\n",
              "      <td>False</td>\n",
              "      <td>...</td>\n",
              "      <td>False</td>\n",
              "      <td>False</td>\n",
              "      <td>False</td>\n",
              "      <td>False</td>\n",
              "      <td>False</td>\n",
              "      <td>False</td>\n",
              "      <td>False</td>\n",
              "      <td>False</td>\n",
              "      <td>False</td>\n",
              "      <td>False</td>\n",
              "    </tr>\n",
              "    <tr>\n",
              "      <th>356</th>\n",
              "      <td>Sri Lanka</td>\n",
              "      <td>False</td>\n",
              "      <td>False</td>\n",
              "      <td>False</td>\n",
              "      <td>False</td>\n",
              "      <td>False</td>\n",
              "      <td>False</td>\n",
              "      <td>False</td>\n",
              "      <td>False</td>\n",
              "      <td>False</td>\n",
              "      <td>...</td>\n",
              "      <td>False</td>\n",
              "      <td>False</td>\n",
              "      <td>False</td>\n",
              "      <td>False</td>\n",
              "      <td>True</td>\n",
              "      <td>False</td>\n",
              "      <td>False</td>\n",
              "      <td>False</td>\n",
              "      <td>False</td>\n",
              "      <td>False</td>\n",
              "    </tr>\n",
              "    <tr>\n",
              "      <th>357</th>\n",
              "      <td>India</td>\n",
              "      <td>False</td>\n",
              "      <td>False</td>\n",
              "      <td>False</td>\n",
              "      <td>False</td>\n",
              "      <td>False</td>\n",
              "      <td>False</td>\n",
              "      <td>False</td>\n",
              "      <td>False</td>\n",
              "      <td>False</td>\n",
              "      <td>...</td>\n",
              "      <td>False</td>\n",
              "      <td>False</td>\n",
              "      <td>False</td>\n",
              "      <td>False</td>\n",
              "      <td>False</td>\n",
              "      <td>False</td>\n",
              "      <td>False</td>\n",
              "      <td>False</td>\n",
              "      <td>False</td>\n",
              "      <td>False</td>\n",
              "    </tr>\n",
              "  </tbody>\n",
              "</table>\n",
              "<p>358 rows × 41 columns</p>\n",
              "</div>"
            ],
            "text/plain": [
              "            Winner  Team_1_Afghanistan  Team_1_Afghanistan   Team_1_Australia   \n",
              "0      New Zealand               False                False             False  \\\n",
              "1    South Africa                False                False             False   \n",
              "2      New Zealand               False                False             False   \n",
              "3        Australia               False                False             False   \n",
              "4          England               False                False             False   \n",
              "..             ...                 ...                  ...               ...   \n",
              "353      Sri Lanka               False                False             False   \n",
              "354      Sri Lanka               False                False             False   \n",
              "355          India               False                False             False   \n",
              "356      Sri Lanka               False                False             False   \n",
              "357          India               False                False             False   \n",
              "\n",
              "     Team_1_Australia   Team_1_Bangladesh  Team_1_Bangladesh   Team_1_England   \n",
              "0                False              False               False           False  \\\n",
              "1                False              False               False           False   \n",
              "2                False              False               False           False   \n",
              "3                False              False               False           False   \n",
              "4                False              False               False            True   \n",
              "..                 ...                ...                 ...             ...   \n",
              "353              False              False               False           False   \n",
              "354              False              False               False           False   \n",
              "355              False              False               False           False   \n",
              "356              False              False               False           False   \n",
              "357              False              False               False           False   \n",
              "\n",
              "     Team_1_England   Team_1_India  ...  Team_2_Nepal  Team_2_Netherlands   \n",
              "0              False         False  ...         False               False  \\\n",
              "1              False         False  ...         False               False   \n",
              "2              False         False  ...         False               False   \n",
              "3              False         False  ...         False               False   \n",
              "4              False         False  ...         False               False   \n",
              "..               ...           ...  ...           ...                 ...   \n",
              "353            False         False  ...         False               False   \n",
              "354            False         False  ...         False               False   \n",
              "355            False         False  ...         False               False   \n",
              "356            False         False  ...         False               False   \n",
              "357            False         False  ...         False               False   \n",
              "\n",
              "     Team_2_New Zealand  Team_2_Oman  Team_2_Pakistan  Team_2_Scotland   \n",
              "0                 False        False            False            False  \\\n",
              "1                 False        False             True            False   \n",
              "2                 False        False            False            False   \n",
              "3                 False        False            False            False   \n",
              "4                 False        False             True            False   \n",
              "..                  ...          ...              ...              ...   \n",
              "353               False        False            False            False   \n",
              "354               False        False            False            False   \n",
              "355               False        False            False            False   \n",
              "356               False        False             True            False   \n",
              "357               False        False            False            False   \n",
              "\n",
              "     Team_2_South Africa  Team_2_Sri Lanka  Team_2_West Indies   \n",
              "0                  False              True               False  \\\n",
              "1                  False             False               False   \n",
              "2                  False             False               False   \n",
              "3                  False             False               False   \n",
              "4                  False             False               False   \n",
              "..                   ...               ...                 ...   \n",
              "353                False             False               False   \n",
              "354                False             False               False   \n",
              "355                False             False               False   \n",
              "356                False             False               False   \n",
              "357                False             False               False   \n",
              "\n",
              "     Team_2_Zimbabwe  \n",
              "0              False  \n",
              "1              False  \n",
              "2              False  \n",
              "3              False  \n",
              "4              False  \n",
              "..               ...  \n",
              "353            False  \n",
              "354            False  \n",
              "355            False  \n",
              "356            False  \n",
              "357            False  \n",
              "\n",
              "[358 rows x 41 columns]"
            ]
          },
          "execution_count": 31,
          "metadata": {},
          "output_type": "execute_result"
        }
      ],
      "source": [
        "teams_final"
      ]
    },
    {
      "cell_type": "markdown",
      "metadata": {
        "id": "rAmDlrNnud5a"
      },
      "source": [
        "# **Training the Model and Testing the output**\n"
      ]
    },
    {
      "cell_type": "code",
      "execution_count": 32,
      "metadata": {
        "id": "VFCVNng_ugut"
      },
      "outputs": [],
      "source": [
        "X = teams_final.drop(['Winner'],axis=1)\n",
        "y = teams_final['Winner']"
      ]
    },
    {
      "cell_type": "code",
      "execution_count": 33,
      "metadata": {
        "id": "SSL6J0nmu8YM"
      },
      "outputs": [],
      "source": [
        "# Split the data into training and testing sets using a test size of 20% and a random state of 42.\n",
        "X_train, X_test, y_train, y_test = train_test_split(X, y, test_size=0.20, random_state=42)"
      ]
    },
    {
      "cell_type": "code",
      "execution_count": 34,
      "metadata": {
        "id": "dbQCB3AQvVrq"
      },
      "outputs": [],
      "source": [
        "from sklearn.ensemble import RandomForestClassifier\n",
        "from sklearn.svm import SVC\n",
        "from sklearn.linear_model import LogisticRegression\n",
        "from sklearn.metrics import accuracy_score, confusion_matrix, classification_report\n",
        "from sklearn.model_selection import train_test_split, cross_validate, cross_val_score, GridSearchCV"
      ]
    },
    {
      "cell_type": "markdown",
      "metadata": {
        "id": "dL5BzuUxqjmN"
      },
      "source": [
        "Hyperparameter Tuning"
      ]
    },
    {
      "cell_type": "code",
      "execution_count": 35,
      "metadata": {
        "id": "f3xVlViZ4P_5"
      },
      "outputs": [],
      "source": [
        "model_dict = {\n",
        "    'RandomForestClassifier': {\"model\": RandomForestClassifier(), \"params\": {'n_estimators': list(range(50, 150, 5)), 'max_depth': list(range(1, 20, 2))}},\n",
        "    'SVC': {\"model\": SVC(), \"params\": {'C': list(range(1, 10, 2)), 'kernel': ['linear','rbf','poly']}},\n",
        "    'LogisticRegression':{\"model\": LogisticRegression(), \"params\": {}}\n",
        "\n",
        "}"
      ]
    },
    {
      "cell_type": "code",
      "execution_count": 36,
      "metadata": {
        "id": "NxybF3i36Mkh"
      },
      "outputs": [],
      "source": [
        "from sklearn import metrics\n",
        "def eval_models():\n",
        "    model_results = pd.DataFrame()\n",
        "    model_results['Train_Precision'] = None\n",
        "    model_results['Test_Precision'] = None\n",
        "    model_results['Train_Recall'] = None\n",
        "    model_results['Test_Recall'] = None\n",
        "    model_results['Train_Accuracy'] = None\n",
        "    model_results['Test_Accuracy'] = None\n",
        "    model_results['best_params'] = None\n",
        "\n",
        "    for model_name, reg_model in model_dict.items():\n",
        "                classifier = GridSearchCV(reg_model['model'], reg_model['params'],  verbose=0)\n",
        "                classifier.fit(X_train, y_train)\n",
        "                best_model = classifier.best_estimator_\n",
        "                y_train_predicted = best_model.predict(X_train)\n",
        "                # print(model_name, classifier.best_params_)\n",
        "\n",
        "                y_predicted = best_model.predict(X_test)\n",
        "                train_precision = metrics.precision_score(y_train, y_train_predicted, average = 'macro')\n",
        "                train_recall = metrics.recall_score(y_train, y_train_predicted, average = 'macro')\n",
        "                train_accuracy = metrics.accuracy_score(y_train, y_train_predicted)\n",
        "\n",
        "                # print(model_name, train_accurac, classifier.best_params_)\n",
        "\n",
        "                test_precision = metrics.precision_score(y_test, y_predicted, average = 'macro')\n",
        "                test_recall = metrics.recall_score(y_test, y_predicted, average = 'macro')\n",
        "                test_accuracy = metrics.accuracy_score(y_test, y_predicted)\n",
        "\n",
        "                model_results.loc[model_name, ['Train_Precision', 'Test_Precision', 'Train_Recall', 'Test_Recall', 'Train_Accuracy','Test_Accuracy', 'best_params']] = [train_precision, test_precision, train_recall, test_recall, train_accuracy, test_accuracy, classifier.best_params_]\n",
        "\n",
        "    return model_results"
      ]
    },
    {
      "cell_type": "code",
      "execution_count": 37,
      "metadata": {
        "colab": {
          "base_uri": "https://localhost:8080/"
        },
        "id": "JurWpQLFGtWl",
        "outputId": "994b3f7f-0fdf-4b55-a391-39bbf1f9def9"
      },
      "outputs": [
        {
          "name": "stderr",
          "output_type": "stream",
          "text": [
            "c:\\Users\\YASH\\AppData\\Local\\Programs\\Python\\Python310\\lib\\site-packages\\sklearn\\model_selection\\_split.py:725: UserWarning: The least populated class in y has only 1 members, which is less than n_splits=5.\n",
            "  warnings.warn(\n"
          ]
        },
        {
          "name": "stderr",
          "output_type": "stream",
          "text": [
            "c:\\Users\\YASH\\AppData\\Local\\Programs\\Python\\Python310\\lib\\site-packages\\sklearn\\metrics\\_classification.py:1469: UndefinedMetricWarning: Precision is ill-defined and being set to 0.0 in labels with no predicted samples. Use `zero_division` parameter to control this behavior.\n",
            "  _warn_prf(average, modifier, msg_start, len(result))\n",
            "c:\\Users\\YASH\\AppData\\Local\\Programs\\Python\\Python310\\lib\\site-packages\\sklearn\\metrics\\_classification.py:1469: UndefinedMetricWarning: Precision is ill-defined and being set to 0.0 in labels with no predicted samples. Use `zero_division` parameter to control this behavior.\n",
            "  _warn_prf(average, modifier, msg_start, len(result))\n",
            "c:\\Users\\YASH\\AppData\\Local\\Programs\\Python\\Python310\\lib\\site-packages\\sklearn\\model_selection\\_split.py:725: UserWarning: The least populated class in y has only 1 members, which is less than n_splits=5.\n",
            "  warnings.warn(\n",
            "c:\\Users\\YASH\\AppData\\Local\\Programs\\Python\\Python310\\lib\\site-packages\\sklearn\\metrics\\_classification.py:1469: UndefinedMetricWarning: Precision is ill-defined and being set to 0.0 in labels with no predicted samples. Use `zero_division` parameter to control this behavior.\n",
            "  _warn_prf(average, modifier, msg_start, len(result))\n",
            "c:\\Users\\YASH\\AppData\\Local\\Programs\\Python\\Python310\\lib\\site-packages\\sklearn\\metrics\\_classification.py:1469: UndefinedMetricWarning: Precision is ill-defined and being set to 0.0 in labels with no predicted samples. Use `zero_division` parameter to control this behavior.\n",
            "  _warn_prf(average, modifier, msg_start, len(result))\n",
            "c:\\Users\\YASH\\AppData\\Local\\Programs\\Python\\Python310\\lib\\site-packages\\sklearn\\metrics\\_classification.py:1469: UndefinedMetricWarning: Recall is ill-defined and being set to 0.0 in labels with no true samples. Use `zero_division` parameter to control this behavior.\n",
            "  _warn_prf(average, modifier, msg_start, len(result))\n",
            "c:\\Users\\YASH\\AppData\\Local\\Programs\\Python\\Python310\\lib\\site-packages\\sklearn\\model_selection\\_split.py:725: UserWarning: The least populated class in y has only 1 members, which is less than n_splits=5.\n",
            "  warnings.warn(\n",
            "c:\\Users\\YASH\\AppData\\Local\\Programs\\Python\\Python310\\lib\\site-packages\\sklearn\\metrics\\_classification.py:1469: UndefinedMetricWarning: Precision is ill-defined and being set to 0.0 in labels with no predicted samples. Use `zero_division` parameter to control this behavior.\n",
            "  _warn_prf(average, modifier, msg_start, len(result))\n",
            "c:\\Users\\YASH\\AppData\\Local\\Programs\\Python\\Python310\\lib\\site-packages\\sklearn\\metrics\\_classification.py:1469: UndefinedMetricWarning: Precision is ill-defined and being set to 0.0 in labels with no predicted samples. Use `zero_division` parameter to control this behavior.\n",
            "  _warn_prf(average, modifier, msg_start, len(result))\n"
          ]
        }
      ],
      "source": [
        "model_results = eval_models()\n"
      ]
    },
    {
      "cell_type": "code",
      "execution_count": 38,
      "metadata": {
        "colab": {
          "base_uri": "https://localhost:8080/",
          "height": 161
        },
        "id": "x6gWjXtoIMPV",
        "outputId": "e4abcc82-eb9a-4485-b264-be2110bb0358"
      },
      "outputs": [
        {
          "data": {
            "text/html": [
              "<div>\n",
              "<style scoped>\n",
              "    .dataframe tbody tr th:only-of-type {\n",
              "        vertical-align: middle;\n",
              "    }\n",
              "\n",
              "    .dataframe tbody tr th {\n",
              "        vertical-align: top;\n",
              "    }\n",
              "\n",
              "    .dataframe thead th {\n",
              "        text-align: right;\n",
              "    }\n",
              "</style>\n",
              "<table border=\"1\" class=\"dataframe\">\n",
              "  <thead>\n",
              "    <tr style=\"text-align: right;\">\n",
              "      <th></th>\n",
              "      <th>Train_Precision</th>\n",
              "      <th>Test_Precision</th>\n",
              "      <th>Train_Recall</th>\n",
              "      <th>Test_Recall</th>\n",
              "      <th>Train_Accuracy</th>\n",
              "      <th>Test_Accuracy</th>\n",
              "      <th>best_params</th>\n",
              "    </tr>\n",
              "  </thead>\n",
              "  <tbody>\n",
              "    <tr>\n",
              "      <th>RandomForestClassifier</th>\n",
              "      <td>0.429694</td>\n",
              "      <td>0.526243</td>\n",
              "      <td>0.38777</td>\n",
              "      <td>0.522534</td>\n",
              "      <td>0.706294</td>\n",
              "      <td>0.708333</td>\n",
              "      <td>{'max_depth': 7, 'n_estimators': 125}</td>\n",
              "    </tr>\n",
              "    <tr>\n",
              "      <th>SVC</th>\n",
              "      <td>0.608122</td>\n",
              "      <td>0.528478</td>\n",
              "      <td>0.582938</td>\n",
              "      <td>0.54754</td>\n",
              "      <td>0.762238</td>\n",
              "      <td>0.638889</td>\n",
              "      <td>{'C': 1, 'kernel': 'linear'}</td>\n",
              "    </tr>\n",
              "    <tr>\n",
              "      <th>LogisticRegression</th>\n",
              "      <td>0.493407</td>\n",
              "      <td>0.588917</td>\n",
              "      <td>0.444315</td>\n",
              "      <td>0.583078</td>\n",
              "      <td>0.741259</td>\n",
              "      <td>0.694444</td>\n",
              "      <td>{}</td>\n",
              "    </tr>\n",
              "  </tbody>\n",
              "</table>\n",
              "</div>"
            ],
            "text/plain": [
              "                       Train_Precision Test_Precision Train_Recall   \n",
              "RandomForestClassifier        0.429694       0.526243      0.38777  \\\n",
              "SVC                           0.608122       0.528478     0.582938   \n",
              "LogisticRegression            0.493407       0.588917     0.444315   \n",
              "\n",
              "                       Test_Recall Train_Accuracy Test_Accuracy   \n",
              "RandomForestClassifier    0.522534       0.706294      0.708333  \\\n",
              "SVC                        0.54754       0.762238      0.638889   \n",
              "LogisticRegression        0.583078       0.741259      0.694444   \n",
              "\n",
              "                                                  best_params  \n",
              "RandomForestClassifier  {'max_depth': 7, 'n_estimators': 125}  \n",
              "SVC                              {'C': 1, 'kernel': 'linear'}  \n",
              "LogisticRegression                                         {}  "
            ]
          },
          "execution_count": 38,
          "metadata": {},
          "output_type": "execute_result"
        }
      ],
      "source": [
        "model_results"
      ]
    },
    {
      "cell_type": "markdown",
      "metadata": {
        "id": "4HoiAFgzHbOf"
      },
      "source": [
        "Random Forest Classifier"
      ]
    },
    {
      "cell_type": "code",
      "execution_count": 39,
      "metadata": {
        "id": "GPMYUxcWHSnN"
      },
      "outputs": [],
      "source": [
        "rf_Model = RandomForestClassifier(n_estimators=100,max_depth=10,random_state=42)\n",
        "rf_Model.fit(X_train, y_train)\n",
        "y_pred_train = rf_Model.predict(X_train)\n",
        "y_pred = rf_Model.predict(X_test)"
      ]
    },
    {
      "cell_type": "code",
      "execution_count": 40,
      "metadata": {
        "colab": {
          "base_uri": "https://localhost:8080/"
        },
        "id": "Ff-v7uD0IduQ",
        "outputId": "37e36832-7bfe-423f-d146-2cc14fcd4283"
      },
      "outputs": [
        {
          "name": "stdout",
          "output_type": "stream",
          "text": [
            "Accuracy: 0.7552447552447552\n",
            "Precision: 0.5396305382981151\n",
            "Recall: 0.49850482498638077\n"
          ]
        },
        {
          "name": "stderr",
          "output_type": "stream",
          "text": [
            "c:\\Users\\YASH\\AppData\\Local\\Programs\\Python\\Python310\\lib\\site-packages\\sklearn\\metrics\\_classification.py:1469: UndefinedMetricWarning: Precision is ill-defined and being set to 0.0 in labels with no predicted samples. Use `zero_division` parameter to control this behavior.\n",
            "  _warn_prf(average, modifier, msg_start, len(result))\n"
          ]
        }
      ],
      "source": [
        "print(\"Accuracy:\",metrics.accuracy_score(y_train, y_pred_train))\n",
        "print(\"Precision:\",metrics.precision_score(y_train, y_pred_train, average='macro'))\n",
        "print(\"Recall:\",metrics.recall_score(y_train, y_pred_train, average = 'macro'))"
      ]
    },
    {
      "cell_type": "code",
      "execution_count": 41,
      "metadata": {
        "colab": {
          "base_uri": "https://localhost:8080/"
        },
        "id": "qVzZ6i8uHfeF",
        "outputId": "89407c17-2361-4aa3-e738-e1d63a1a4c9b"
      },
      "outputs": [
        {
          "name": "stdout",
          "output_type": "stream",
          "text": [
            "Accuracy: 0.6944444444444444\n",
            "Precision: 0.5233134920634921\n",
            "Recall: 0.5177721088435374\n"
          ]
        },
        {
          "name": "stderr",
          "output_type": "stream",
          "text": [
            "c:\\Users\\YASH\\AppData\\Local\\Programs\\Python\\Python310\\lib\\site-packages\\sklearn\\metrics\\_classification.py:1469: UndefinedMetricWarning: Precision is ill-defined and being set to 0.0 in labels with no predicted samples. Use `zero_division` parameter to control this behavior.\n",
            "  _warn_prf(average, modifier, msg_start, len(result))\n"
          ]
        }
      ],
      "source": [
        "print(\"Accuracy:\",metrics.accuracy_score(y_test, y_pred))\n",
        "print(\"Precision:\",metrics.precision_score(y_test, y_pred, average='macro'))\n",
        "print(\"Recall:\",metrics.recall_score(y_test, y_pred, average = 'macro'))"
      ]
    },
    {
      "cell_type": "code",
      "execution_count": 42,
      "metadata": {
        "id": "btSAPn0AIVWV"
      },
      "outputs": [],
      "source": [
        "semi = [('Australia', 'South Africa'),\n",
        "            ('India', 'New Zealand')]\n"
      ]
    },
    {
      "cell_type": "code",
      "execution_count": 43,
      "metadata": {
        "colab": {
          "base_uri": "https://localhost:8080/"
        },
        "id": "WMkQpqSrJ5L2",
        "outputId": "59943600-465f-4ebf-d170-72b6032e4cc7"
      },
      "outputs": [
        {
          "data": {
            "text/plain": [
              "('Australia', 'South Africa')"
            ]
          },
          "execution_count": 43,
          "metadata": {},
          "output_type": "execute_result"
        }
      ],
      "source": [
        "semi[0]"
      ]
    },
    {
      "cell_type": "code",
      "execution_count": 44,
      "metadata": {
        "colab": {
          "base_uri": "https://localhost:8080/"
        },
        "id": "C2UNv6UCJ69R",
        "outputId": "d1cfae8b-4948-4c03-8baa-93497a3dd941"
      },
      "outputs": [
        {
          "data": {
            "text/plain": [
              "('India', 'New Zealand')"
            ]
          },
          "execution_count": 44,
          "metadata": {},
          "output_type": "execute_result"
        }
      ],
      "source": [
        "semi[1]"
      ]
    },
    {
      "cell_type": "code",
      "execution_count": 45,
      "metadata": {
        "id": "gf4PJBqUJ8a9"
      },
      "outputs": [],
      "source": [
        "prediction_set = []\n",
        "dict1 = {}\n",
        "dict1.update({'Team_1':semi[0][0], 'Team_2':semi[0][1]})\n",
        "prediction_set.append(dict1)\n",
        "prediction_set = pd.DataFrame(prediction_set)\n",
        "prediction_set = pd.get_dummies(prediction_set, prefix=['Team_1', 'Team_2'], columns=['Team_1', 'Team_2'])"
      ]
    },
    {
      "cell_type": "code",
      "execution_count": 46,
      "metadata": {
        "colab": {
          "base_uri": "https://localhost:8080/",
          "height": 81
        },
        "id": "OmKbP4qMKXwE",
        "outputId": "360b2fcc-11eb-4b2e-902b-e548513282ee"
      },
      "outputs": [
        {
          "data": {
            "text/html": [
              "<div>\n",
              "<style scoped>\n",
              "    .dataframe tbody tr th:only-of-type {\n",
              "        vertical-align: middle;\n",
              "    }\n",
              "\n",
              "    .dataframe tbody tr th {\n",
              "        vertical-align: top;\n",
              "    }\n",
              "\n",
              "    .dataframe thead th {\n",
              "        text-align: right;\n",
              "    }\n",
              "</style>\n",
              "<table border=\"1\" class=\"dataframe\">\n",
              "  <thead>\n",
              "    <tr style=\"text-align: right;\">\n",
              "      <th></th>\n",
              "      <th>Team_1_Australia</th>\n",
              "      <th>Team_2_South Africa</th>\n",
              "    </tr>\n",
              "  </thead>\n",
              "  <tbody>\n",
              "    <tr>\n",
              "      <th>0</th>\n",
              "      <td>True</td>\n",
              "      <td>True</td>\n",
              "    </tr>\n",
              "  </tbody>\n",
              "</table>\n",
              "</div>"
            ],
            "text/plain": [
              "   Team_1_Australia  Team_2_South Africa\n",
              "0              True                 True"
            ]
          },
          "execution_count": 46,
          "metadata": {},
          "output_type": "execute_result"
        }
      ],
      "source": [
        "prediction_set"
      ]
    },
    {
      "cell_type": "code",
      "execution_count": 47,
      "metadata": {
        "id": "wAj_ULX3Kazd"
      },
      "outputs": [],
      "source": [
        "missing_cols2 = set(teams_final.columns) - set(prediction_set.columns)\n",
        "for c in missing_cols2:\n",
        "    prediction_set[c] = 0\n"
      ]
    },
    {
      "cell_type": "code",
      "execution_count": 48,
      "metadata": {
        "id": "dvFYjxyjKeKY"
      },
      "outputs": [],
      "source": [
        "prediction_set = prediction_set[teams_final.columns]"
      ]
    },
    {
      "cell_type": "code",
      "execution_count": 49,
      "metadata": {
        "colab": {
          "base_uri": "https://localhost:8080/"
        },
        "id": "YQP-BbNOK3-3",
        "outputId": "18daf71b-40c1-4b8a-b8f1-ef0a6339b175"
      },
      "outputs": [
        {
          "name": "stderr",
          "output_type": "stream",
          "text": [
            "C:\\Users\\YASH\\AppData\\Local\\Temp\\ipykernel_11408\\978776890.py:1: SettingWithCopyWarning: \n",
            "A value is trying to be set on a copy of a slice from a DataFrame\n",
            "\n",
            "See the caveats in the documentation: https://pandas.pydata.org/pandas-docs/stable/user_guide/indexing.html#returning-a-view-versus-a-copy\n",
            "  prediction_set.drop(['Winner'],axis=1,inplace=True)\n"
          ]
        }
      ],
      "source": [
        "prediction_set.drop(['Winner'],axis=1,inplace=True)"
      ]
    },
    {
      "cell_type": "code",
      "execution_count": 50,
      "metadata": {
        "id": "0cZniOXuKlxj"
      },
      "outputs": [],
      "source": [
        "y_final_team_1 = rf_Model.predict(prediction_set)"
      ]
    },
    {
      "cell_type": "code",
      "execution_count": 51,
      "metadata": {
        "colab": {
          "base_uri": "https://localhost:8080/"
        },
        "id": "gDMJXPtaLAhz",
        "outputId": "3533dd43-8530-4549-aeb4-63c75f09271b"
      },
      "outputs": [
        {
          "data": {
            "text/plain": [
              "array(['South Africa'], dtype=object)"
            ]
          },
          "execution_count": 51,
          "metadata": {},
          "output_type": "execute_result"
        }
      ],
      "source": [
        "y_final_team_1"
      ]
    },
    {
      "cell_type": "code",
      "execution_count": 52,
      "metadata": {
        "id": "fO7BBvK7LGvu"
      },
      "outputs": [],
      "source": [
        "prediction_set = []\n",
        "dict2 = {}\n",
        "dict2.update({'Team_1':semi[1][0], 'Team_2':semi[1][1]})\n",
        "prediction_set.append(dict2)\n",
        "prediction_set = pd.DataFrame(prediction_set)\n",
        "prediction_set = pd.get_dummies(prediction_set, prefix=['Team_1', 'Team_2'], columns=['Team_1', 'Team_2'])"
      ]
    },
    {
      "cell_type": "code",
      "execution_count": 53,
      "metadata": {
        "colab": {
          "base_uri": "https://localhost:8080/",
          "height": 81
        },
        "id": "ePD5Gy4iLOWN",
        "outputId": "d097f983-01fa-4129-9d1c-c4276245462e"
      },
      "outputs": [
        {
          "data": {
            "text/html": [
              "<div>\n",
              "<style scoped>\n",
              "    .dataframe tbody tr th:only-of-type {\n",
              "        vertical-align: middle;\n",
              "    }\n",
              "\n",
              "    .dataframe tbody tr th {\n",
              "        vertical-align: top;\n",
              "    }\n",
              "\n",
              "    .dataframe thead th {\n",
              "        text-align: right;\n",
              "    }\n",
              "</style>\n",
              "<table border=\"1\" class=\"dataframe\">\n",
              "  <thead>\n",
              "    <tr style=\"text-align: right;\">\n",
              "      <th></th>\n",
              "      <th>Team_1_India</th>\n",
              "      <th>Team_2_New Zealand</th>\n",
              "    </tr>\n",
              "  </thead>\n",
              "  <tbody>\n",
              "    <tr>\n",
              "      <th>0</th>\n",
              "      <td>True</td>\n",
              "      <td>True</td>\n",
              "    </tr>\n",
              "  </tbody>\n",
              "</table>\n",
              "</div>"
            ],
            "text/plain": [
              "   Team_1_India  Team_2_New Zealand\n",
              "0          True                True"
            ]
          },
          "execution_count": 53,
          "metadata": {},
          "output_type": "execute_result"
        }
      ],
      "source": [
        "prediction_set"
      ]
    },
    {
      "cell_type": "code",
      "execution_count": 54,
      "metadata": {
        "id": "ixvB26ZeLQ0w"
      },
      "outputs": [],
      "source": [
        "missing_cols2 = set(teams_final.columns) - set(prediction_set.columns)\n",
        "for c in missing_cols2:\n",
        "    prediction_set[c] = 0\n"
      ]
    },
    {
      "cell_type": "code",
      "execution_count": 55,
      "metadata": {
        "colab": {
          "base_uri": "https://localhost:8080/"
        },
        "id": "2Eq0poLZLTbr",
        "outputId": "cad69dc3-6d4f-4fc2-f20a-90af23c74672"
      },
      "outputs": [
        {
          "name": "stderr",
          "output_type": "stream",
          "text": [
            "C:\\Users\\YASH\\AppData\\Local\\Temp\\ipykernel_11408\\759131389.py:2: SettingWithCopyWarning: \n",
            "A value is trying to be set on a copy of a slice from a DataFrame\n",
            "\n",
            "See the caveats in the documentation: https://pandas.pydata.org/pandas-docs/stable/user_guide/indexing.html#returning-a-view-versus-a-copy\n",
            "  prediction_set.drop(['Winner'],axis=1,inplace=True)\n"
          ]
        }
      ],
      "source": [
        "prediction_set = prediction_set[teams_final.columns]\n",
        "prediction_set.drop(['Winner'],axis=1,inplace=True)\n",
        "y_final_team_2 = rf_Model.predict(prediction_set)"
      ]
    },
    {
      "cell_type": "code",
      "execution_count": 56,
      "metadata": {
        "colab": {
          "base_uri": "https://localhost:8080/"
        },
        "id": "--j4Kh9SLbYW",
        "outputId": "ecb7d2e4-d7cc-4dc2-a20e-163bf94b8eac"
      },
      "outputs": [
        {
          "data": {
            "text/plain": [
              "array(['India'], dtype=object)"
            ]
          },
          "execution_count": 56,
          "metadata": {},
          "output_type": "execute_result"
        }
      ],
      "source": [
        "y_final_team_2"
      ]
    },
    {
      "cell_type": "code",
      "execution_count": 57,
      "metadata": {
        "id": "qQUNtAPCLsYo"
      },
      "outputs": [],
      "source": [
        "final = [['India','South Africa']]"
      ]
    },
    {
      "cell_type": "code",
      "execution_count": 58,
      "metadata": {
        "id": "Z8wmM6G5L95b"
      },
      "outputs": [],
      "source": [
        "prediction_set = []\n",
        "dict3 = {}\n",
        "dict3.update({'Team_1':final[0][0], 'Team_2':final[0][1]})\n",
        "prediction_set.append(dict3)\n",
        "prediction_set = pd.DataFrame(prediction_set)\n",
        "prediction_set = pd.get_dummies(prediction_set, prefix=['Team_1', 'Team_2'], columns=['Team_1', 'Team_2'])"
      ]
    },
    {
      "cell_type": "code",
      "execution_count": 59,
      "metadata": {
        "id": "gqKsfgFnMJke"
      },
      "outputs": [],
      "source": [
        "missing_cols2 = set(teams_final.columns) - set(prediction_set.columns)\n",
        "for c in missing_cols2:\n",
        "    prediction_set[c] = 0\n"
      ]
    },
    {
      "cell_type": "code",
      "execution_count": 60,
      "metadata": {
        "colab": {
          "base_uri": "https://localhost:8080/"
        },
        "id": "9gQ42SIXMLaI",
        "outputId": "6e2ab0b3-95ad-4a50-f120-5e38e301155c"
      },
      "outputs": [
        {
          "name": "stdout",
          "output_type": "stream",
          "text": [
            "   Team_1_Afghanistan  Team_1_Afghanistan   Team_1_Australia   \n",
            "0                   0                    0                 0  \\\n",
            "\n",
            "   Team_1_Australia   Team_1_Bangladesh  Team_1_Bangladesh   Team_1_England   \n",
            "0                  0                  0                   0               0  \\\n",
            "\n",
            "   Team_1_England   Team_1_India  Team_1_India   ...  Team_2_Nepal   \n",
            "0                0          True              0  ...             0  \\\n",
            "\n",
            "   Team_2_Netherlands  Team_2_New Zealand  Team_2_Oman  Team_2_Pakistan   \n",
            "0                   0                   0            0                0  \\\n",
            "\n",
            "   Team_2_Scotland  Team_2_South Africa  Team_2_Sri Lanka  Team_2_West Indies   \n",
            "0                0                 True                 0                   0  \\\n",
            "\n",
            "   Team_2_Zimbabwe  \n",
            "0                0  \n",
            "\n",
            "[1 rows x 40 columns]\n"
          ]
        }
      ],
      "source": [
        "prediction_set = prediction_set[teams_final.columns]\n",
        "prediction_set.drop(['Winner'],axis=1,inplace=True)\n",
        "print(prediction_set)\n",
        "y_final = rf_Model.predict(prediction_set)"
      ]
    },
    {
      "cell_type": "markdown",
      "metadata": {
        "id": "HSy9AWM6qrJp"
      },
      "source": [
        "# **Predicting the winner of world cup**"
      ]
    },
    {
      "cell_type": "code",
      "execution_count": 61,
      "metadata": {
        "colab": {
          "base_uri": "https://localhost:8080/"
        },
        "id": "RUvq7reYMNiE",
        "outputId": "7d0381c6-c594-4a0c-edf8-5b9dd795834c"
      },
      "outputs": [
        {
          "name": "stdout",
          "output_type": "stream",
          "text": [
            "Winner of the World Cup ['India']\n"
          ]
        }
      ],
      "source": [
        "print(\"Winner of the World Cup\",y_final)"
      ]
    },
    {
      "cell_type": "markdown",
      "metadata": {
        "id": "SsfXYQ4qq0xD"
      },
      "source": [
        "# **Conclusion:**\n",
        "\n",
        "We have found out the winner of the world cup and made an api where you can input the two teams and their rankings based on which it gives the output of the winner. We tried neural networks but the data was not sufficient for it to get run."
      ]
    },
    {
      "cell_type": "code",
      "execution_count": 62,
      "metadata": {
        "id": "dAAeqFIwzFD3"
      },
      "outputs": [],
      "source": [
        "### Create a Pickle file using serialization\n",
        "import pickle\n",
        "pickle_out = open(\"winner_prediction.pkl\",\"wb\")\n",
        "pickle.dump(rf_Model, pickle_out)\n",
        "#Serialization\n",
        "pickle_out.close()"
      ]
    },
    {
      "cell_type": "code",
      "execution_count": 65,
      "metadata": {},
      "outputs": [
        {
          "name": "stdout",
          "output_type": "stream",
          "text": [
            "<class 'pandas.core.frame.DataFrame'>\n"
          ]
        }
      ],
      "source": []
    }
  ],
  "metadata": {
    "colab": {
      "provenance": []
    },
    "kernelspec": {
      "display_name": "Python 3",
      "name": "python3"
    },
    "language_info": {
      "codemirror_mode": {
        "name": "ipython",
        "version": 3
      },
      "file_extension": ".py",
      "mimetype": "text/x-python",
      "name": "python",
      "nbconvert_exporter": "python",
      "pygments_lexer": "ipython3",
      "version": "3.10.4"
    }
  },
  "nbformat": 4,
  "nbformat_minor": 0
}
